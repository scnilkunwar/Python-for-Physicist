{
 "cells": [
  {
   "cell_type": "markdown",
   "metadata": {},
   "source": [
    "<div align=\"center\">\n",
    "  <h1> Python for Physicist - Control Structure</h1>\n",
    "</div>\n",
    "\n",
    "![Python for Physicist](../images/Banner.png)\n",
    "\n",
    "## Control structures\n",
    "Control structures in Python help you dictate the flow of your program based on certain conditions or the repetition of code blocks. Here are the main types:\n",
    "\n",
    "### Conditional Statements:\n",
    "\n",
    "1. `if Statement`: Executes a block of code if a condition is true.\n",
    "2. `elif Statement`: Checks another condition if the previous one is false.\n",
    "3. `else Statement`: Executes a block of code if none of the previous conditions are true.\n",
    "\n",
    "### Loops:\n",
    "\n",
    "1. `for Loop`: Iterates over a sequence (like a list, tuple, or string) or a range of numbers.\n",
    "2. `while Loop`: Repeats a block of code as long as a condition is true.\n",
    "\n",
    "### Control Flow Statements:\n",
    "\n",
    "1. `break`: Exits a loop prematurely.\n",
    "2. `continue`: Skips the rest of the current loop iteration and moves to the next iteration.\n",
    "3. `pass`: A null statement that is used as a placeholder."
   ]
  }
 ],
 "metadata": {
  "kernelspec": {
   "display_name": "Python 3",
   "language": "python",
   "name": "python3"
  },
  "language_info": {
   "name": "python",
   "version": "3.12.3"
  }
 },
 "nbformat": 4,
 "nbformat_minor": 2
}
