{
 "cells": [
  {
   "cell_type": "markdown",
   "metadata": {},
   "source": [
    "<div align=\"center\">\n",
    "  <h1> Python for Physicist - Variables and Data Types</h1>\n",
    "</div>\n",
    "\n",
    "![Python for Physicist](../images/Banner.png)\n",
    "\n",
    "## Python Variable\n",
    "\n",
    "A variable is used to store data values. Unlike some programming languages, you don’t need to declare the type of a variable explicitly. Python is dynamically typed, meaning the type of the variable is inferred based on the value assigned to it.\n",
    "\n",
    "**Rules for Naming Variables:**\n",
    "\n",
    "1. A variable name must start with a letter (a-z, A-Z) or an underscore _.\n",
    "2. The remaining characters can include letters, numbers (0-9), and underscores.\n",
    "3. Variable names are case-sensitive (age and Age are different variables).\n",
    "4. Reserved words (keywords like if, else, while) cannot be used as variable names.\n",
    "\n",
    "\n",
    "**Assigning Values:**\n",
    "\n",
    "In python variable is decleared as `<variable name> = <value>`.\n",
    "```python\n",
    "  x = 5  # Integer\n",
    "  name = \"Alice\"  # String\n",
    "  pi = 3.14  # Floating point\n",
    "  is_valid = True  # Boolean\n",
    "```\n",
    "\n",
    "**Reassigning Variables:**\n",
    "\n",
    "In Python, variables can be reassigned to different types.\n",
    "```python\n",
    "  x = 10  # Initially an integer\n",
    "  x = \"Hello\"  # Reassigned to a string\n",
    "```\n",
    "\n",
    "**Multiple Assignment:**\n",
    "\n",
    "You can assign values to multiple variables in one line.\n",
    "```python\n",
    "  a, b, c = 1, 2, 3\n",
    "```\n",
    "\n",
    "You can also assign the same value to multiple variables.\n",
    "```python\n",
    "  x = y = z = 0  # All three variables have the value 0"
   ]
  },
  {
   "cell_type": "code",
   "execution_count": 1,
   "metadata": {},
   "outputs": [
    {
     "name": "stdout",
     "output_type": "stream",
     "text": [
      "5\n"
     ]
    }
   ],
   "source": [
    "x = 5\n",
    "print(x)"
   ]
  },
  {
   "cell_type": "code",
   "execution_count": 2,
   "metadata": {},
   "outputs": [
    {
     "name": "stdout",
     "output_type": "stream",
     "text": [
      "True\n"
     ]
    }
   ],
   "source": [
    "boy = True\n",
    "print(boy)"
   ]
  },
  {
   "cell_type": "code",
   "execution_count": 3,
   "metadata": {},
   "outputs": [
    {
     "name": "stdout",
     "output_type": "stream",
     "text": [
      "sunil Kunwar\n"
     ]
    }
   ],
   "source": [
    "x = 'sunil Kunwar'\n",
    "print(x)"
   ]
  },
  {
   "cell_type": "markdown",
   "metadata": {},
   "source": [
    "## Python Data Types\n",
    "Python knows different data types. To find the type of a variable, use the `type()` function\n",
    "#### 1. **Numeric Types**\n",
    "- **int**: Represents integer values (whole numbers).\n",
    "  ```python\n",
    "  a = 5\n",
    "  b = -10\n",
    "  c = 0\n"
   ]
  },
  {
   "cell_type": "code",
   "execution_count": 4,
   "metadata": {},
   "outputs": [
    {
     "data": {
      "text/plain": [
       "int"
      ]
     },
     "execution_count": 4,
     "metadata": {},
     "output_type": "execute_result"
    }
   ],
   "source": [
    "a = 45\n",
    "type(a)"
   ]
  },
  {
   "cell_type": "markdown",
   "metadata": {},
   "source": [
    "- **float**: Represents floating-point numbers (decimal values).\n",
    "  ```python\n",
    "  a = 5.5\n",
    "  b = -10.3\n",
    "  c = 0.14"
   ]
  },
  {
   "cell_type": "code",
   "execution_count": 5,
   "metadata": {},
   "outputs": [
    {
     "data": {
      "text/plain": [
       "float"
      ]
     },
     "execution_count": 5,
     "metadata": {},
     "output_type": "execute_result"
    }
   ],
   "source": [
    "b = 2.3\n",
    "type(b)"
   ]
  },
  {
   "cell_type": "markdown",
   "metadata": {},
   "source": [
    "- **complex**: Represents complex numbers, with a real and imaginary part.\n",
    "```python\n",
    "    z = 1 + 2j\n",
    "    w = 2 - 3j"
   ]
  },
  {
   "cell_type": "code",
   "execution_count": 6,
   "metadata": {},
   "outputs": [
    {
     "name": "stdout",
     "output_type": "stream",
     "text": [
      "<class 'complex'>\n",
      "(3+2j)\n"
     ]
    }
   ],
   "source": [
    "z = 3 + 2j\n",
    "print(type(z))\n",
    "print(z)"
   ]
  },
  {
   "cell_type": "markdown",
   "metadata": {},
   "source": [
    "#### 2. **Boolean Type**\n",
    "- **bool**: Represents Boolean values, which can either be True or False.\n",
    "```python\n",
    "    is_active = True\n",
    "    is_logged_in = False\n",
    "    is_even = 4 % 2 == 0  # True"
   ]
  },
  {
   "cell_type": "code",
   "execution_count": 7,
   "metadata": {},
   "outputs": [
    {
     "name": "stdout",
     "output_type": "stream",
     "text": [
      "True\n"
     ]
    }
   ],
   "source": [
    "Quotient = 5 // 2 == 2\n",
    "print(Quotient)"
   ]
  },
  {
   "cell_type": "markdown",
   "metadata": {},
   "source": [
    "#### 3. **Sequence Types**\n",
    "- **str**: In Python, a string is a sequence of characters enclosed within single ('), double (\"), or triple quotes (''' or \"\"\"). Strings are immutable, meaning once created, they cannot be changed.\n",
    "```python\n",
    "    name = \"Sunil\"\n",
    "    sentence = \"Hello, world!\""
   ]
  },
  {
   "cell_type": "code",
   "execution_count": 8,
   "metadata": {},
   "outputs": [
    {
     "name": "stdout",
     "output_type": "stream",
     "text": [
      "Tribhuvan University\n",
      "r\n",
      "hello\n",
      "this is \n",
      "multiline string\n",
      "\n"
     ]
    }
   ],
   "source": [
    "university = 'Tribhuvan University'\n",
    "print(university)\n",
    "print(university[1])\n",
    "\n",
    "triple = '''hello\n",
    "this is \n",
    "multiline string\n",
    "'''\n",
    "print(triple)"
   ]
  },
  {
   "cell_type": "markdown",
   "metadata": {},
   "source": [
    "- **list**: A list is a collection of items that is ordered, mutable, and allows duplicate elements. Lists can hold items of different types, but they are commonly used to store sequences of data.\n",
    "A list can created by placing elements inside square brackets [], separated by commas:\n",
    "```python\n",
    "    fruits = [\"apple\", \"banana\", \"cherry\"]\n",
    "    mixed_list = [1, \"apple\", 3.14, True]"
   ]
  },
  {
   "cell_type": "code",
   "execution_count": 9,
   "metadata": {},
   "outputs": [
    {
     "name": "stdout",
     "output_type": "stream",
     "text": [
      "[1, 2, 3, 4, 5]\n",
      "1\n",
      "hello\n"
     ]
    }
   ],
   "source": [
    "# List of integers\n",
    "numbers = [1, 2, 3, 4, 5]\n",
    "\n",
    "# List of strings\n",
    "fruits = [\"apple\", \"banana\", \"cherry\"]\n",
    "\n",
    "# Mixed data types\n",
    "mixed_list = [1, \"hello\", 3.14, True]\n",
    "\n",
    "print(numbers)\n",
    "print(mixed_list[0])\n",
    "print(mixed_list[1])"
   ]
  },
  {
   "cell_type": "markdown",
   "metadata": {},
   "source": [
    "- **tuple**: A tuple is a collection of items that is ordered and immutable (cannot be changed after creation). Like lists, tuples can contain elements of different data types. However, since they are immutable, they are often used to store data that should not be modified.\n",
    "A tuple can be created by placing elements inside parentheses () separated by commas:\n",
    "```python\n",
    "    point = (10, 20)\n",
    "    color = (\"red\", \"green\", \"blue\")"
   ]
  },
  {
   "cell_type": "code",
   "execution_count": 10,
   "metadata": {},
   "outputs": [
    {
     "name": "stdout",
     "output_type": "stream",
     "text": [
      "(1, 2, 3, 4, 5)\n",
      "banana\n"
     ]
    }
   ],
   "source": [
    "# Tuple of integers\n",
    "numbers = (1, 2, 3, 4, 5)\n",
    "\n",
    "# Tuple of strings\n",
    "fruits = (\"apple\", \"banana\", \"cherry\")\n",
    "\n",
    "# Mixed data types\n",
    "mixed_tuple = (1, \"hello\", 3.14, True)\n",
    "\n",
    "# Tuple without parentheses (optional)\n",
    "another_tuple = 1, 2, 3, 4  # Same as (1, 2, 3, 4)\n",
    "\n",
    "print(numbers)\n",
    "print(fruits[1])"
   ]
  },
  {
   "cell_type": "markdown",
   "metadata": {},
   "source": [
    "- **range**: In Python, the ```range()``` function generates a sequence of numbers, which is commonly used for looping a specific number of times in for loops. It doesn't actually store the numbers in memory; instead, it returns an iterable object.\n",
    "\n",
    "    ##### Syntax of ```range()```\n",
    "    The ```range()``` function has the following forms:\n",
    "\n",
    "    1. ```range(stop)```: Generates numbers from ```0``` to ```stop - 1```.\n",
    "    2. ```range(start, stop)```: Generates numbers from ```start``` to ```stop - 1```.\n",
    "    3. ```range(start, stop, step)```: Generates numbers from ```start``` to ```stop - 1```, incrementing by step.\n",
    "    ```python\n",
    "        r = range(5)\n",
    "        r2 = range(1, 40, 5)"
   ]
  },
  {
   "cell_type": "code",
   "execution_count": 11,
   "metadata": {},
   "outputs": [
    {
     "name": "stdout",
     "output_type": "stream",
     "text": [
      "range(0, 5)\n",
      "16\n"
     ]
    }
   ],
   "source": [
    "#range with stop\n",
    "r = range(5) #0, 1, 2, 3, 4\n",
    "\n",
    "#range with start, stop, increment\n",
    "r2 = range(1, 30, 5) #1, 6, 11, 16, 21, 26\n",
    "\n",
    "print(r)\n",
    "print(r2[3])"
   ]
  },
  {
   "cell_type": "markdown",
   "metadata": {},
   "source": [
    "#### 4. **Mapping Type**\n",
    "- **dict**: A Python dictionary is an unordered, mutable collection of key-value pairs. Each key must be unique and immutable, while the value can be any data type, including lists or other dictionaries."
   ]
  },
  {
   "cell_type": "code",
   "execution_count": 12,
   "metadata": {},
   "outputs": [
    {
     "name": "stdout",
     "output_type": "stream",
     "text": [
      "Alice\n"
     ]
    }
   ],
   "source": [
    "# Creating an empty dictionary\n",
    "my_dict = {}\n",
    "\n",
    "# Creating a dictionary with initial values\n",
    "my_dict = {\n",
    "    'name': 'Alice',\n",
    "    'age': 25,\n",
    "    'city': 'New York'\n",
    "}\n",
    "\n",
    "print(my_dict['name'])"
   ]
  },
  {
   "cell_type": "markdown",
   "metadata": {},
   "source": [
    "#### 5. **Set Type**\n",
    "- **set**: A set in Python is an unordered, mutable collection of unique elements. Sets are useful for storing data when duplicates are not allowed, and they provide operations like union, intersection, and difference.\n",
    "\n",
    "    Creating a Set:\n",
    "    You can create a set by placing elements inside curly braces ```{}``` or using the ```set()``` function."
   ]
  },
  {
   "cell_type": "code",
   "execution_count": 13,
   "metadata": {},
   "outputs": [
    {
     "name": "stdout",
     "output_type": "stream",
     "text": [
      "{1, 2, 3, 4, 5}\n",
      "{1, 2}\n"
     ]
    }
   ],
   "source": [
    "my_set = {1, 2, 3, 4, 5}\n",
    "set2 = {1, 2, 1, 2}\n",
    "print(my_set)\n",
    "print(set2)"
   ]
  },
  {
   "cell_type": "markdown",
   "metadata": {},
   "source": [
    "## Exercise\n",
    "1. Declare a first name variable and assign a value to it.  \n",
    "2. Declare a last name variable and assign a value to it.  \n",
    "3. Declare a full name variable and assign a value to it.  \n",
    "4. Declare a country variable and assign a value to it.  \n",
    "5. Declare a city variable and assign a value to it.  \n",
    "6. Declare an age variable and assign a value to it.  \n",
    "7. Declare a year variable and assign a value to it.  \n",
    "8. Declare a variable `is_married` and assign a value to it.  \n",
    "9. Declare a variable `is_true` and assign a value to it.  \n",
    "10. Declare a variable `is_light_on` and assign a value to it.  \n",
    "11. Declare multiple variables on one line.  "
   ]
  }
 ],
 "metadata": {
  "kernelspec": {
   "display_name": "Python 3",
   "language": "python",
   "name": "python3"
  },
  "language_info": {
   "codemirror_mode": {
    "name": "ipython",
    "version": 3
   },
   "file_extension": ".py",
   "mimetype": "text/x-python",
   "name": "python",
   "nbconvert_exporter": "python",
   "pygments_lexer": "ipython3",
   "version": "3.12.3"
  }
 },
 "nbformat": 4,
 "nbformat_minor": 2
}
