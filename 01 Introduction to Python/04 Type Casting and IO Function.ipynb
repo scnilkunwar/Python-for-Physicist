{
 "cells": [
  {
   "cell_type": "markdown",
   "metadata": {},
   "source": [
    "<div align=\"center\">\n",
    "  <h1> Python for Physicist - Type Casting and IO Function</h1>\n",
    "</div>\n",
    "\n",
    "![Python for Physicist](../images/Banner.png)\n",
    "\n",
    "## Type Casting\n",
    "Type casting in Python refers to converting one data type into another. Python provides several built-in functions to handle type casting.\n",
    "\n",
    "**Common Type Casting Functions:**\n",
    "\n",
    "1. `int()` – Converts a value to an integer.\n",
    "2. `float()` – Converts a value to a float.\n",
    "3. `str()` – Converts a value to a string.\n",
    "4. `bool()` – Converts a value to a boolean (True or False).\n",
    "5. `list()` – Converts a value (e.g., string or tuple) to a list.\n",
    "6. `tuple()` – Converts a value (e.g., list) to a tuple.\n",
    "7. `set()` - Converts a value to tuple. "
   ]
  },
  {
   "cell_type": "code",
   "execution_count": 1,
   "metadata": {},
   "outputs": [
    {
     "name": "stdout",
     "output_type": "stream",
     "text": [
      "25 <class 'int'>\n"
     ]
    }
   ],
   "source": [
    "#Converting a string to an integer:\n",
    "num_str = \"25\"\n",
    "num_int = int(num_str)\n",
    "print(num_int, type(num_int))"
   ]
  },
  {
   "cell_type": "code",
   "execution_count": 2,
   "metadata": {},
   "outputs": [
    {
     "name": "stdout",
     "output_type": "stream",
     "text": [
      "12\n"
     ]
    }
   ],
   "source": [
    "#Converting a float to an integer:\n",
    "num_float = 12.56\n",
    "num_int = int(num_float) #Note: This conversion truncates the decimal part\n",
    "print(num_int)"
   ]
  },
  {
   "cell_type": "code",
   "execution_count": 3,
   "metadata": {},
   "outputs": [
    {
     "name": "stdout",
     "output_type": "stream",
     "text": [
      "7.0\n"
     ]
    }
   ],
   "source": [
    "#Converting an integer to a float:\n",
    "num_int = 7\n",
    "num_float = float(num_int)\n",
    "print(num_float)"
   ]
  },
  {
   "cell_type": "code",
   "execution_count": 4,
   "metadata": {},
   "outputs": [
    {
     "name": "stdout",
     "output_type": "stream",
     "text": [
      "123 <class 'str'>\n"
     ]
    }
   ],
   "source": [
    "#Converting an integer to a string:\n",
    "num_int = 123\n",
    "num_str = str(num_int)\n",
    "print(num_str, type(num_str))"
   ]
  },
  {
   "cell_type": "code",
   "execution_count": 5,
   "metadata": {},
   "outputs": [
    {
     "name": "stdout",
     "output_type": "stream",
     "text": [
      "['h', 'e', 'l', 'l', 'o']\n"
     ]
    }
   ],
   "source": [
    "#Converting a string to a list:\n",
    "text = \"hello\"\n",
    "text_list = list(text)\n",
    "print(text_list)"
   ]
  },
  {
   "cell_type": "code",
   "execution_count": 6,
   "metadata": {},
   "outputs": [
    {
     "name": "stdout",
     "output_type": "stream",
     "text": [
      "(1, 2, 3)\n"
     ]
    }
   ],
   "source": [
    "#Converting a list to a tuple:\n",
    "my_list = [1, 2, 3]\n",
    "my_tuple = tuple(my_list)\n",
    "print(my_tuple)"
   ]
  },
  {
   "cell_type": "code",
   "execution_count": 7,
   "metadata": {},
   "outputs": [
    {
     "name": "stdout",
     "output_type": "stream",
     "text": [
      "True\n",
      "False\n",
      "True\n",
      "False\n"
     ]
    }
   ],
   "source": [
    "#Conerting values to boolean:\n",
    "#Non-zero values and non-empty objects evaluate to True, while 0, None, and empty objects evaluate to False.\n",
    "print(bool(1))       # Output: True\n",
    "print(bool(0))       # Output: False\n",
    "print(bool(\"hello\")) # Output: True\n",
    "print(bool(\"\"))      # Output: False"
   ]
  },
  {
   "cell_type": "code",
   "execution_count": 8,
   "metadata": {},
   "outputs": [
    {
     "data": {
      "text/plain": [
       "{1, 2, 3, 4, 5, 6}"
      ]
     },
     "execution_count": 8,
     "metadata": {},
     "output_type": "execute_result"
    }
   ],
   "source": [
    "#Converting list to set\n",
    "nums = [1, 2, 3, 3, 4 , 5, 5, 6]\n",
    "num_set = set(nums)\n",
    "num_set"
   ]
  },
  {
   "cell_type": "markdown",
   "metadata": {},
   "source": [
    "## I/O Function\n",
    "\n",
    "#### Escape sequence in `print()` function:\n",
    "An escape sequence in Python is a series of characters that represents special characters. Escape sequences allow you to include characters in strings that are difficult or impossible to type directly.\n",
    "\n",
    "Escape sequences start with a backslash `(\\)`, followed by one or more characters. Python processes these sequences to represent the corresponding special character.\n",
    "\n",
    "**Common Escape Sequences are:**\n",
    "| Escape Sequence | Description                          |\n",
    "|-----------------|--------------------------------------|\n",
    "| `\\'`            | Single quote                         |\n",
    "| `\\\"`            | Double quote                         |\n",
    "| `\\\\`            | Backslash                            |\n",
    "| `\\n`            | Newline                              |\n",
    "| `\\t`            | Tab (horizontal)                     |\n",
    "| `\\r`            | Carriage return                      |\n",
    "| `\\b`            | Backspace                            |\n",
    "| `\\f`            | Form feed                            |\n",
    "| `\\v`            | Vertical tab                         |\n",
    "| `\\0`            | Null character                       |\n",
    "| `\\N{name}`      | Unicode character by name            |\n",
    "| `\\uxxxx`        | Unicode character with 16-bit hex    |\n",
    "| `\\Uxxxxxxxx`    | Unicode character with 32-bit hex    |\n",
    "| `\\ooo`          | Octal value                          |\n",
    "| `\\xhh`          | Hexadecimal value                    |\n",
    "\n",
    "\n",
    "**Using newline (`\\n`):**\n",
    "```python\n",
    "print(\"Hello\\nWorld\")\n"
   ]
  },
  {
   "cell_type": "code",
   "execution_count": 9,
   "metadata": {},
   "outputs": [
    {
     "name": "stdout",
     "output_type": "stream",
     "text": [
      "Hello\n",
      "World\n"
     ]
    }
   ],
   "source": [
    "print(\"Hello\\nWorld\")"
   ]
  },
  {
   "cell_type": "markdown",
   "metadata": {},
   "source": [
    "#### `end = ''` Function\n",
    "we can use `end = ''` at the end to the end of print statement as we needed"
   ]
  },
  {
   "cell_type": "code",
   "execution_count": 1,
   "metadata": {},
   "outputs": [
    {
     "name": "stdout",
     "output_type": "stream",
     "text": [
      "4\n",
      "5 4\n"
     ]
    }
   ],
   "source": [
    "a = 4\n",
    "b = 5\n",
    "print(a)\n",
    "print(b, end = ' ')\n",
    "print(a)"
   ]
  },
  {
   "cell_type": "markdown",
   "metadata": {},
   "source": [
    "#### Formatted output in `print()` function\n",
    "In Python, you can format both input and output to make your code more readable and to ensure that the data is displayed in a specific way. There are multiple ways to format output, including using:\n",
    "\n",
    "1. `f-strings` (introduced in Python 3.6)\n",
    "2. `format()` function\n",
    "3. `%` formatting (old style)"
   ]
  },
  {
   "cell_type": "code",
   "execution_count": 10,
   "metadata": {},
   "outputs": [
    {
     "name": "stdout",
     "output_type": "stream",
     "text": [
      "Name: Sunil, Age: 22, Height: 1.75 meters\n"
     ]
    }
   ],
   "source": [
    "#Using f-strings:\n",
    "name = \"Sunil\"\n",
    "age = 22\n",
    "height = 1.75\n",
    "\n",
    "print(f\"Name: {name}, Age: {age}, Height: {height:.2f} meters\")"
   ]
  },
  {
   "cell_type": "code",
   "execution_count": 11,
   "metadata": {},
   "outputs": [
    {
     "name": "stdout",
     "output_type": "stream",
     "text": [
      "Name: Sunil, Age: 22, Height: 1.75 meters\n"
     ]
    }
   ],
   "source": [
    "#Using format() method:\n",
    "name = \"Sunil\"\n",
    "age = 22\n",
    "height = 1.75\n",
    "\n",
    "print(\"Name: {}, Age: {}, Height: {:.2f} meters\".format(name, age, height))"
   ]
  },
  {
   "cell_type": "code",
   "execution_count": 12,
   "metadata": {},
   "outputs": [
    {
     "name": "stdout",
     "output_type": "stream",
     "text": [
      "Name: Sunil, Age: 22, Height: 1.75 meters\n"
     ]
    }
   ],
   "source": [
    "#Using % formatting:\n",
    "name = \"Sunil\"\n",
    "age = 22\n",
    "height = 1.75\n",
    "\n",
    "print(\"Name: %s, Age: %d, Height: %.2f meters\" % (name, age, height))"
   ]
  },
  {
   "cell_type": "markdown",
   "metadata": {},
   "source": [
    "### Input Function\n",
    "The `input()` function in Python is used to take user input from the keyboard. It always returns the input as a string, regardless of what the user enters.\n",
    "\n",
    "**Syntax:**\n",
    "\n",
    "`variable_name = input([prompt])`\n",
    "\n",
    "`prompt`: (Optional) A string, representing a message to display before taking input from the user.\n",
    "\n",
    "**Example of basic usage:**\n",
    "```python\n",
    "name = input(\"Enter your name: \")\n",
    "print(f\"Hello, {name}!\")\n"
   ]
  },
  {
   "cell_type": "code",
   "execution_count": 13,
   "metadata": {},
   "outputs": [
    {
     "name": "stdout",
     "output_type": "stream",
     "text": [
      "Hello, sunil!\n"
     ]
    }
   ],
   "source": [
    "name = input(\"Enter your name: \")\n",
    "print(f\"Hello, {name}!\")"
   ]
  },
  {
   "cell_type": "markdown",
   "metadata": {},
   "source": [
    "**Reading numerical input:**\n",
    "\n",
    "Since `input()` returns a string, you need to cast the input to the desired type (e.g., int, float) if you want to work with numbers.\n",
    "\n",
    "**Example for integer input:**\n",
    "```python\n",
    "age = int(input(\"Enter your age: \"))\n",
    "print(f\"You are {age} years old.\")\n",
    "```\n",
    "**Example for float input:**\n",
    "```python\n",
    "height = float(input(\"Enter your height in meters: \"))\n",
    "print(f\"Your height is {height:.2f} meters.\")\n"
   ]
  },
  {
   "cell_type": "code",
   "execution_count": 14,
   "metadata": {},
   "outputs": [
    {
     "name": "stdout",
     "output_type": "stream",
     "text": [
      "You are 25 years old.\n"
     ]
    }
   ],
   "source": [
    "age = int(input(\"Enter your age: \"))\n",
    "print(f\"You are {age} years old.\")"
   ]
  },
  {
   "cell_type": "code",
   "execution_count": 15,
   "metadata": {},
   "outputs": [
    {
     "name": "stdout",
     "output_type": "stream",
     "text": [
      "Your height is 1.30 meters.\n"
     ]
    }
   ],
   "source": [
    "height = float(input(\"Enter your height in meters: \"))\n",
    "print(f\"Your height is {height:.2f} meters.\")"
   ]
  },
  {
   "cell_type": "markdown",
   "metadata": {},
   "source": [
    "**Multiple inputs in one line:**\n",
    "\n",
    "You can also take multiple inputs in one line using the `split()` function.\n",
    "```python\n",
    "x, y = map(int, input(\"Enter two numbers separated by space: \").split())\n",
    "print(f\"Sum: {x + y}\")"
   ]
  },
  {
   "cell_type": "code",
   "execution_count": 16,
   "metadata": {},
   "outputs": [
    {
     "name": "stdout",
     "output_type": "stream",
     "text": [
      "Sum: 11\n"
     ]
    }
   ],
   "source": [
    "x, y = map(int, input(\"Enter two numbers separated by space: \").split())\n",
    "print(f\"Sum: {x + y}\")"
   ]
  },
  {
   "cell_type": "markdown",
   "metadata": {},
   "source": [
    "### Some Questions\n",
    "**Note: You should take required value form users.**\n",
    "\n",
    "**Question 1**: Calculate the distance traveled by an object moving at a constant speed. ($s = v \\cdot t$)\n",
    "\n",
    "**Question 2**: Calculate the kinetic energy of an object. $\\left( K.E. = \\frac{1}{2}mv^2\\right)$\n",
    "\n",
    "**Question 2**: Calculate the gravitational force between two masses. $\\left( F = G \\cdot \\frac{m_1 \\cdot m_2}{r^2}\\right)$"
   ]
  },
  {
   "cell_type": "markdown",
   "metadata": {},
   "source": [
    "## 💻 Exercises - Day 3\n",
    "\n",
    "1. Declare your age as integer variable\n",
    "2. Declare your height as a float variable\n",
    "3. Declare a variable that store a complex number\n",
    "4. Write a script that prompts the user to enter base and height of the triangle and calculate an area of this triangle (area = 0.5 x b x h).\n",
    "\n",
    "    ```py\n",
    "        Enter base: 20\n",
    "        Enter height: 10\n",
    "        The area of the triangle is 100\n",
    "    ```\n",
    "\n",
    "5. Write a script that prompts the user to enter side a, side b, and side c of the triangle. Calculate the perimeter of the triangle (perimeter = a + b + c).\n",
    "\n",
    "    ```py\n",
    "    Enter side a: 5\n",
    "    Enter side b: 4\n",
    "    Enter side c: 3\n",
    "    The perimeter of the triangle is 12\n",
    "    ```\n",
    "\n",
    "6. Get length and width of a rectangle using prompt. Calculate its area (area = length x width) and perimeter (perimeter = 2 x (length + width))\n",
    "7. Get radius of a circle using prompt. Calculate the area (area = pi x r x r) and circumference (c = 2 x pi x r) where pi = 3.14.\n",
    "8. Calculate the slope, x-intercept and y-intercept of y = 2x -2\n",
    "9. Slope is (m = y2-y1/x2-x1). Find the slope and [Euclidean distance](https://en.wikipedia.org/wiki/Euclidean_distance#:~:text=In%20mathematics%2C%20the%20Euclidean%20distance,being%20called%20the%20Pythagorean%20distance.) between point (2, 2) and point (6,10) \n",
    "10. Compare the slopes in tasks 8 and 9.\n",
    "11. Calculate the value of y (y = x^2 + 6x + 9). Try to use different x values and figure out at what x value y is going to be 0.\n",
    "12. Find the length of 'python' and 'dragon' and make a falsy comparison statement.\n",
    "13. Use _and_ operator to check if 'on' is found in both 'python' and 'dragon'\n",
    "14. _I hope this course is not full of jargon_. Use _in_ operator to check if _jargon_ is in the sentence.\n",
    "15. There is no 'on' in both dragon and python\n",
    "16. Find the length of the text _python_ and convert the value to float and convert it to string\n",
    "17. Even numbers are divisible by 2 and the remainder is zero. How do you check if a number is even or not using python?\n",
    "18. Check if the floor division of 7 by 3 is equal to the int converted value of 2.7.\n",
    "19. Check if type of '10' is equal to type of 10\n",
    "20. Check if int('9.8') is equal to 10\n",
    "21. Writ a script that prompts the user to enter hours and rate per hour. Calculate pay of the person?\n",
    "\n",
    "    ```py\n",
    "    Enter hours: 40\n",
    "    Enter rate per hour: 28\n",
    "    Your weekly earning is 1120\n",
    "    ```\n",
    "\n",
    "22. Write a script that prompts the user to enter number of years. Calculate the number of seconds a person can live. Assume a person can live hundred years\n",
    "\n",
    "    ```py\n",
    "    Enter number of years you have lived: 100\n",
    "    You have lived for 3153600000 seconds.\n",
    "    ```\n",
    "\n",
    "23. Write a Python script that displays the following table\n",
    "\n",
    "    ```py\n",
    "    1 1 1 1 1\n",
    "    2 1 2 4 8\n",
    "    3 1 3 9 27\n",
    "    4 1 4 16 64\n",
    "    5 1 5 25 125\n",
    "    ```"
   ]
  }
 ],
 "metadata": {
  "kernelspec": {
   "display_name": "Python 3",
   "language": "python",
   "name": "python3"
  },
  "language_info": {
   "codemirror_mode": {
    "name": "ipython",
    "version": 3
   },
   "file_extension": ".py",
   "mimetype": "text/x-python",
   "name": "python",
   "nbconvert_exporter": "python",
   "pygments_lexer": "ipython3",
   "version": "3.12.3"
  }
 },
 "nbformat": 4,
 "nbformat_minor": 2
}
