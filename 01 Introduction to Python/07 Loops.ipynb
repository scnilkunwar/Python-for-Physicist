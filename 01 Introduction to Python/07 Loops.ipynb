{
 "cells": [
  {
   "cell_type": "markdown",
   "metadata": {},
   "source": [
    "<div align=\"center\">\n",
    "  <h1> Python for Physicist - Loops</h1>\n",
    "</div>\n",
    "\n",
    "![Python for Physicist](../images/Banner.png)\n",
    "\n",
    "## Looping\n",
    "Looping in Python allows you to execute a block of code repeatedly. The two main types of loops in Python are for loops and while loops. Here’s a detailed breakdown:\n",
    "\n",
    "### `for` Loop\n",
    "The for loop iterates over a sequence (like a `list`, `tuple`, `string` or `range`). The syntax is as follows:\n",
    "```python\n",
    "for variable in sequence:\n",
    "    # code to execute"
   ]
  },
  {
   "cell_type": "code",
   "execution_count": 18,
   "metadata": {},
   "outputs": [
    {
     "name": "stdout",
     "output_type": "stream",
     "text": [
      "apple\n",
      "banana\n",
      "cherry\n",
      "0\n",
      "1\n",
      "2\n",
      "3\n",
      "4\n",
      "s\n",
      "u\n",
      "n\n",
      "i\n",
      "l\n"
     ]
    }
   ],
   "source": [
    "#using list\n",
    "fruits = ['apple', 'banana', 'cherry']\n",
    "for fruit in fruits:\n",
    "    print(fruit)\n",
    "\n",
    "#using range():\n",
    "for i in range(5):  # Iterates from 0 to 4\n",
    "    print(i)\n",
    "\n",
    "#using string\n",
    "for char in 'sunil':\n",
    "    print(char)"
   ]
  },
  {
   "cell_type": "markdown",
   "metadata": {},
   "source": [
    "### `while` Loop\n",
    "The while loop continues executing as long as the specified condition is `True`. The syntax is:\n",
    "```python\n",
    "while condition:\n",
    "    # code to execute"
   ]
  },
  {
   "cell_type": "code",
   "execution_count": 19,
   "metadata": {},
   "outputs": [
    {
     "name": "stdout",
     "output_type": "stream",
     "text": [
      "0\n",
      "1\n",
      "2\n",
      "3\n",
      "4\n"
     ]
    }
   ],
   "source": [
    "count = 0\n",
    "while count < 5:\n",
    "    print(count)\n",
    "    count += 1  # Increment count to avoid infinite loop"
   ]
  },
  {
   "cell_type": "markdown",
   "metadata": {},
   "source": [
    "## Loop Control Statements\n",
    "### `break`\n",
    "The `break` statement terminates the loop prematurely."
   ]
  },
  {
   "cell_type": "code",
   "execution_count": 20,
   "metadata": {},
   "outputs": [
    {
     "name": "stdout",
     "output_type": "stream",
     "text": [
      "0\n",
      "1\n",
      "2\n",
      "3\n",
      "4\n"
     ]
    }
   ],
   "source": [
    "for i in range(10):\n",
    "    if i == 5:\n",
    "        break  # Exit the loop when i is 5\n",
    "    print(i)"
   ]
  },
  {
   "cell_type": "markdown",
   "metadata": {},
   "source": [
    "### `continue`\n",
    "The `continue` statement skips the current iteration and proceeds to the next one."
   ]
  },
  {
   "cell_type": "code",
   "execution_count": 21,
   "metadata": {},
   "outputs": [
    {
     "name": "stdout",
     "output_type": "stream",
     "text": [
      "0\n",
      "1\n",
      "3\n",
      "4\n"
     ]
    }
   ],
   "source": [
    "for i in range(5):\n",
    "    if i == 2:\n",
    "        continue  # Skip the iteration when i is 2\n",
    "    print(i)"
   ]
  },
  {
   "cell_type": "markdown",
   "metadata": {},
   "source": [
    "### `else` Clause\n",
    "Both `for` and `while` loops can have an `else` clause that executes after the loop completes, unless interrupted by a `break`."
   ]
  },
  {
   "cell_type": "code",
   "execution_count": 22,
   "metadata": {},
   "outputs": [
    {
     "name": "stdout",
     "output_type": "stream",
     "text": [
      "0\n",
      "1\n",
      "2\n",
      "3\n",
      "4\n",
      "Loop completed without interruption\n"
     ]
    }
   ],
   "source": [
    "for i in range(5):\n",
    "    print(i)\n",
    "else:\n",
    "    print(\"Loop completed without interruption\")"
   ]
  },
  {
   "cell_type": "code",
   "execution_count": 23,
   "metadata": {},
   "outputs": [
    {
     "name": "stdout",
     "output_type": "stream",
     "text": [
      "Break is encountered\n"
     ]
    }
   ],
   "source": [
    "for i in range(5):\n",
    "    if i == 4:\n",
    "        print(\"Break is encountered\")\n",
    "        break\n",
    "else:\n",
    "    print(\"breaked\")"
   ]
  },
  {
   "cell_type": "markdown",
   "metadata": {},
   "source": [
    "### Nested Loops\n",
    "You can nest loops inside one another."
   ]
  },
  {
   "cell_type": "code",
   "execution_count": 24,
   "metadata": {},
   "outputs": [
    {
     "name": "stdout",
     "output_type": "stream",
     "text": [
      "0 0\n",
      "0 1\n",
      "1 0\n",
      "1 1\n",
      "2 0\n",
      "2 1\n"
     ]
    }
   ],
   "source": [
    "for i in range(3):       # Outer loop\n",
    "    for j in range(2):   # Inner loop\n",
    "        print(i, j)"
   ]
  },
  {
   "cell_type": "markdown",
   "metadata": {},
   "source": [
    "### Example: Gravitational Potential Energy Calculation\n",
    "In this example, we'll calculate the gravitational potential energy between different pairs of masses at various distances using the formula:\n",
    "$$ U = - G \\cdot \\frac{m_1 \\cdot m_2}{r} $$"
   ]
  },
  {
   "cell_type": "code",
   "execution_count": 25,
   "metadata": {},
   "outputs": [
    {
     "name": "stdout",
     "output_type": "stream",
     "text": [
      "U between m1=1 kg and m2=1 kg at r=1 m: U = -6.67e-11 J\n",
      "U between m1=1 kg and m2=1 kg at r=2 m: U = -3.34e-11 J\n",
      "U between m1=1 kg and m2=1 kg at r=3 m: U = -2.22e-11 J\n",
      "U between m1=1 kg and m2=5 kg at r=1 m: U = -3.34e-10 J\n",
      "U between m1=1 kg and m2=5 kg at r=2 m: U = -1.67e-10 J\n",
      "U between m1=1 kg and m2=5 kg at r=3 m: U = -1.11e-10 J\n",
      "U between m1=1 kg and m2=10 kg at r=1 m: U = -6.67e-10 J\n",
      "U between m1=1 kg and m2=10 kg at r=2 m: U = -3.34e-10 J\n",
      "U between m1=1 kg and m2=10 kg at r=3 m: U = -2.22e-10 J\n",
      "U between m1=5 kg and m2=1 kg at r=1 m: U = -3.34e-10 J\n",
      "U between m1=5 kg and m2=1 kg at r=2 m: U = -1.67e-10 J\n",
      "U between m1=5 kg and m2=1 kg at r=3 m: U = -1.11e-10 J\n",
      "U between m1=5 kg and m2=5 kg at r=1 m: U = -1.67e-09 J\n",
      "U between m1=5 kg and m2=5 kg at r=2 m: U = -8.34e-10 J\n",
      "U between m1=5 kg and m2=5 kg at r=3 m: U = -5.56e-10 J\n",
      "U between m1=5 kg and m2=10 kg at r=1 m: U = -3.34e-09 J\n",
      "U between m1=5 kg and m2=10 kg at r=2 m: U = -1.67e-09 J\n",
      "U between m1=5 kg and m2=10 kg at r=3 m: U = -1.11e-09 J\n",
      "U between m1=10 kg and m2=1 kg at r=1 m: U = -6.67e-10 J\n",
      "U between m1=10 kg and m2=1 kg at r=2 m: U = -3.34e-10 J\n",
      "U between m1=10 kg and m2=1 kg at r=3 m: U = -2.22e-10 J\n",
      "U between m1=10 kg and m2=5 kg at r=1 m: U = -3.34e-09 J\n",
      "U between m1=10 kg and m2=5 kg at r=2 m: U = -1.67e-09 J\n",
      "U between m1=10 kg and m2=5 kg at r=3 m: U = -1.11e-09 J\n",
      "U between m1=10 kg and m2=10 kg at r=1 m: U = -6.67e-09 J\n",
      "U between m1=10 kg and m2=10 kg at r=2 m: U = -3.34e-09 J\n",
      "U between m1=10 kg and m2=10 kg at r=3 m: U = -2.22e-09 J\n"
     ]
    }
   ],
   "source": [
    "# Gravitational constant\n",
    "G = 6.674 * 10**-11\n",
    "\n",
    "# Define masses (in kg)\n",
    "masses = [1, 5, 10]  # Example masses\n",
    "distances = [1, 2, 3]  # Example distances in meters\n",
    "\n",
    "# Nested loops to calculate potential energy for each pair of masses and distances\n",
    "for m1 in masses:\n",
    "    for m2 in masses:\n",
    "        for r in distances:\n",
    "            # Calculate gravitational potential energy\n",
    "            U = - (G * m1 * m2) / r\n",
    "            print(f\"U between m1={m1} kg and m2={m2} kg at r={r} m: U = {U:.2e} J\")"
   ]
  },
  {
   "cell_type": "markdown",
   "metadata": {},
   "source": [
    "### Looping Through Dictionaries\n",
    "You can also loop through dictionaries."
   ]
  },
  {
   "cell_type": "code",
   "execution_count": 26,
   "metadata": {},
   "outputs": [
    {
     "name": "stdout",
     "output_type": "stream",
     "text": [
      "a 1\n",
      "b 2\n",
      "c 3\n"
     ]
    }
   ],
   "source": [
    "my_dict = {'a': 1, 'b': 2, 'c': 3}\n",
    "for key, value in my_dict.items():\n",
    "    print(key, value)"
   ]
  },
  {
   "cell_type": "markdown",
   "metadata": {},
   "source": [
    "## Some Questions\n",
    "**Problem 1: Kinematic Equations with Conditionals**\n",
    "\n",
    "Calculate the final velocity using $v=u+at$ for varying time intervals. If the final velocity exceeds a threshold, print a warning.\n",
    "\n",
    "**Problem 2: Free Fall with While Loop**\n",
    "\n",
    "Calculate the distance fallen by an object in free fall until it reaches a specified distance limit."
   ]
  },
  {
   "cell_type": "code",
   "execution_count": null,
   "metadata": {},
   "outputs": [],
   "source": [
    "g = 9.81  # acceleration due to gravity in m/s²\n",
    "height_limit = 100  # height limit in meters\n",
    "t = 0\n",
    "\n",
    "while True:\n",
    "    t += 1  # increment time\n",
    "    d = 0.5 * g * t**2\n",
    "    print(f\"At time {t} s, distance fallen is {d:.2f} m\")\n",
    "    if d >= height_limit:\n",
    "        print(f\"Object has reached the height limit of {height_limit} m.\")\n",
    "        break"
   ]
  }
 ],
 "metadata": {
  "kernelspec": {
   "display_name": "Python 3",
   "language": "python",
   "name": "python3"
  },
  "language_info": {
   "codemirror_mode": {
    "name": "ipython",
    "version": 3
   },
   "file_extension": ".py",
   "mimetype": "text/x-python",
   "name": "python",
   "nbconvert_exporter": "python",
   "pygments_lexer": "ipython3",
   "version": "3.12.3"
  }
 },
 "nbformat": 4,
 "nbformat_minor": 2
}
