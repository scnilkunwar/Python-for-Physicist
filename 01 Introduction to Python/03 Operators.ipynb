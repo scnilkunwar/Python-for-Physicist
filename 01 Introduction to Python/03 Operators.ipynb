{
 "cells": [
  {
   "cell_type": "markdown",
   "metadata": {},
   "source": [
    "<div align=\"center\">\n",
    "  <h1> Python for Physicist - Operators</h1>\n",
    "</div>\n",
    "\n",
    "![Python for Physicist](../images/Banner.png)\n",
    "\n",
    "## Python Operators\n",
    "\n",
    "### 1. Arithmetic Operators\n",
    "These operators are used to perform basic mathematical operations:\n",
    "\n",
    "![Python for Physicist](../images/arithmetic_operators.png)\n",
    "\n",
    "- `+` : Addition  \n",
    "  Example: `5 + 2` gives `7`\n",
    "- `-` : Subtraction  \n",
    "  Example: `5 - 2` gives `3`\n",
    "- `*` : Multiplication  \n",
    "  Example: `5 * 2` gives `10`\n",
    "- `/` : Division  \n",
    "  Example: `5 / 2` gives `2.5`\n",
    "- `//` : Floor Division (quotient without remainder)  \n",
    "  Example: `5 // 2` gives `2`\n",
    "- `%` : Modulus (remainder)  \n",
    "  Example: `5 % 2` gives `1`\n",
    "- `**` : Exponentiation (power)  \n",
    "  Example: `5 ** 2` gives `25`"
   ]
  },
  {
   "cell_type": "code",
   "execution_count": 1,
   "metadata": {},
   "outputs": [
    {
     "name": "stdout",
     "output_type": "stream",
     "text": [
      "11 -1\n"
     ]
    }
   ],
   "source": [
    "#arithmetic operators #this is comment startinf with #\n",
    "a = 5\n",
    "b = 6\n",
    "c = a + b #addition\n",
    "d = a - b\n",
    "print(c, d)"
   ]
  },
  {
   "cell_type": "code",
   "execution_count": 2,
   "metadata": {},
   "outputs": [
    {
     "name": "stdout",
     "output_type": "stream",
     "text": [
      "15.049999999999999\n"
     ]
    }
   ],
   "source": [
    "num1 = 3.5\n",
    "num2 = 4.3\n",
    "prod = num1 * num2  #multiplication\n",
    "print(prod)"
   ]
  },
  {
   "cell_type": "code",
   "execution_count": 3,
   "metadata": {},
   "outputs": [
    {
     "name": "stdout",
     "output_type": "stream",
     "text": [
      "1.6666666666666667\n",
      "1\n",
      "2\n",
      "125\n"
     ]
    }
   ],
   "source": [
    "print(5 / 3)\n",
    "print(5 // 3)\n",
    "print(5 % 3)\n",
    "print(5**3)"
   ]
  },
  {
   "cell_type": "markdown",
   "metadata": {},
   "source": [
    "### 2. Comparison (Relational) Operators\n",
    "These operators compare two values and return a Boolean result (`True` or `False`):\n",
    "\n",
    "![Python for Physicist](../images/comparison_operators.png)\n",
    "\n",
    "- `==` : Equal to  \n",
    "  Example: `5 == 2` gives `False`\n",
    "- `!=` : Not equal to  \n",
    "  Example: `5 != 2` gives `True`\n",
    "- `>` : Greater than  \n",
    "  Example: `5 > 2` gives `True`\n",
    "- `<` : Less than  \n",
    "  Example: `5 < 2` gives `False`\n",
    "- `>=` : Greater than or equal to  \n",
    "  Example: `5 >= 2` gives `True`\n",
    "- `<=` : Less than or equal to  \n",
    "  Example: `5 <= 2` gives `False`"
   ]
  },
  {
   "cell_type": "code",
   "execution_count": 4,
   "metadata": {},
   "outputs": [
    {
     "name": "stdout",
     "output_type": "stream",
     "text": [
      "False\n",
      "True\n",
      "True\n"
     ]
    }
   ],
   "source": [
    "val1 = 4\n",
    "val2 = 6\n",
    "print(val1 == val2)\n",
    "print(6.5 > 4.3)\n",
    "print(3 < 9)"
   ]
  },
  {
   "cell_type": "markdown",
   "metadata": {},
   "source": [
    "### 3. Assignment Operators\n",
    "These operators are used to assign values to variables:\n",
    "\n",
    "![Python for Physicist](../images/assignment_operators.png)\n",
    "\n",
    "- `=` : Simple assignment  \n",
    "  Example: `x = 5` assigns `5` to `x`\n",
    "- `+=` : Add and assign  \n",
    "  Example: `x += 5` is equivalent to `x = x + 5`\n",
    "- `-=` : Subtract and assign  \n",
    "  Example: `x -= 5` is equivalent to `x = x - 5`\n",
    "- `*=` : Multiply and assign  \n",
    "  Example: `x *= 5` is equivalent to `x = x * 5`\n",
    "- `/=` : Divide and assign  \n",
    "  Example: `x /= 5` is equivalent to `x = x / 5`\n",
    "- `%=` : Modulus and assign  \n",
    "  Example: `x %= 5` is equivalent to `x = x % 5`\n",
    "- `**=` : Exponent and assign  \n",
    "  Example: `x **= 5` is equivalent to `x = x ** 5`\n",
    "- `//=` : Floor division and assign  \n",
    "  Example: `x //= 5` is equivalent to `x = x // 5`"
   ]
  },
  {
   "cell_type": "code",
   "execution_count": 5,
   "metadata": {},
   "outputs": [
    {
     "name": "stdout",
     "output_type": "stream",
     "text": [
      "11\n"
     ]
    }
   ],
   "source": [
    "x = 6\n",
    "x += 5\n",
    "print(x)"
   ]
  },
  {
   "cell_type": "markdown",
   "metadata": {},
   "source": [
    "### 4. Logical Operators\n",
    "These operators are used to combine conditional statements:\n",
    "\n",
    "- `and` : Logical AND (both conditions must be `True`)  \n",
    "  Example: `True and False` gives `False`\n",
    "- `or` : Logical OR (at least one condition must be `True`)  \n",
    "  Example: `True or False` gives `True`\n",
    "- `not` : Logical NOT (negates the condition)  \n",
    "  Example: `not True` gives `False`\n"
   ]
  },
  {
   "cell_type": "code",
   "execution_count": 6,
   "metadata": {},
   "outputs": [
    {
     "name": "stdout",
     "output_type": "stream",
     "text": [
      "True\n",
      "False\n",
      "True\n",
      "True\n"
     ]
    }
   ],
   "source": [
    "num = 4\n",
    "print(num < 5 and num > 3)\n",
    "print(num < 5 and num < 3)\n",
    "print(num < 5 or num < 3)\n",
    "print(not num > 6)"
   ]
  },
  {
   "cell_type": "markdown",
   "metadata": {},
   "source": [
    "### 5. Bitwise Operators\n",
    "These operators are used to perform bit-level operations:\n",
    "\n",
    "- `&` : AND  \n",
    "  Example: `5 & 2` (binary `0101 & 0010`) gives `0`\n",
    "- `|` : OR  \n",
    "  Example: `5 | 2` (binary `0101 | 0010`) gives `7`\n",
    "- `^` : XOR (exclusive OR)  \n",
    "  Example: `5 ^ 2` gives `7`\n",
    "- `~` : NOT (inverts the bits)  \n",
    "  Example: `~5` gives `-6`\n",
    "- `<<` : Left shift  \n",
    "  Example: `5 << 1` shifts the bits left, giving `10`\n",
    "- `>>` : Right shift  \n",
    "  Example: `5 >> 1` shifts the bits right, giving `2`"
   ]
  },
  {
   "cell_type": "markdown",
   "metadata": {},
   "source": [
    "### 6. Identity Operators\n",
    "These operators check if two objects are the same:\n",
    "\n",
    "- `is` : Returns `True` if both variables point to the same object  \n",
    "  Example: `x is y`\n",
    "- `is not` : Returns `True` if both variables point to different objects  \n",
    "  Example: `x is not y`"
   ]
  },
  {
   "cell_type": "code",
   "execution_count": 7,
   "metadata": {},
   "outputs": [
    {
     "data": {
      "text/plain": [
       "True"
      ]
     },
     "execution_count": 7,
     "metadata": {},
     "output_type": "execute_result"
    }
   ],
   "source": [
    "a = 4\n",
    "b = 4\n",
    "a is b"
   ]
  },
  {
   "cell_type": "markdown",
   "metadata": {},
   "source": [
    "### 7. Membership Operators\n",
    "These operators test whether a value is a member of a sequence (like strings, lists, or tuples):\n",
    "\n",
    "- `in` : Returns `True` if a value is found in a sequence  \n",
    "  Example: `'a' in 'apple'` gives `True`\n",
    "- `not in` : Returns `True` if a value is not found in a sequence  \n",
    "  Example: `'b' not in 'apple'` gives `True`\n"
   ]
  },
  {
   "cell_type": "code",
   "execution_count": 8,
   "metadata": {},
   "outputs": [
    {
     "data": {
      "text/plain": [
       "True"
      ]
     },
     "execution_count": 8,
     "metadata": {},
     "output_type": "execute_result"
    }
   ],
   "source": [
    "num = [1, 2, 3, 4]\n",
    "4 in num"
   ]
  },
  {
   "cell_type": "code",
   "execution_count": 9,
   "metadata": {},
   "outputs": [
    {
     "data": {
      "text/plain": [
       "True"
      ]
     },
     "execution_count": 9,
     "metadata": {},
     "output_type": "execute_result"
    }
   ],
   "source": [
    "name = 'My name is Sunil Kunwar'\n",
    "'Sunil' in name"
   ]
  },
  {
   "cell_type": "markdown",
   "metadata": {},
   "source": [
    "## Some Questions\n",
    "**Question 1**: A car accelerates from rest at a constant acceleration of $2 \\;m/s$. How far does it travel in $10 \\; s$? $\\\\$\n",
    "Use the equation of motion:\n",
    "$$ s = ut + \\frac{1}{2}at^2 $$\n",
    "\n",
    "**Question 2:** A 5 kg object is dropped from a height of 20 m. Calculate its speed just before it hits the ground (neglect air resistance).\n",
    "\n",
    "Using the conservation of energy:\n",
    "$$ mgh = \\frac{1}{2}mv^2 $$\n",
    "\n",
    "**Question 3**: A mass-spring system has a spring constant $200 \\; N/m$ and a mass of $2 \\; kg$. What is the angular frequency of the system?\n",
    "\n",
    "Use the equation:\n",
    "$$ \\omega = \\sqrt\\frac{k}{m} $$"
   ]
  }
 ],
 "metadata": {
  "kernelspec": {
   "display_name": "Python 3",
   "language": "python",
   "name": "python3"
  },
  "language_info": {
   "codemirror_mode": {
    "name": "ipython",
    "version": 3
   },
   "file_extension": ".py",
   "mimetype": "text/x-python",
   "name": "python",
   "nbconvert_exporter": "python",
   "pygments_lexer": "ipython3",
   "version": "3.12.3"
  }
 },
 "nbformat": 4,
 "nbformat_minor": 2
}
