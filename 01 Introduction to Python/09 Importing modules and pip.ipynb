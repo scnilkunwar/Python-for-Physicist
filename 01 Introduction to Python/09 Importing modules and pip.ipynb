{
 "cells": [
  {
   "cell_type": "markdown",
   "metadata": {},
   "source": [
    "<div align=\"center\">\n",
    "  <h1> Python for Physicist - Importing Modules and pip</h1>\n",
    "</div>\n",
    "\n",
    "![Python for Physicist](../images/Banner.png)"
   ]
  },
  {
   "cell_type": "markdown",
   "metadata": {},
   "source": [
    "## Importing Modules and Using Functions\n",
    "### What are Modules?\n",
    "\n",
    "Modules are Python files that contain functions, classes, and variables. They help organize code and promote reusability. You can think of a module as a library of functions that you can import into your program.\n",
    "In Python, importing modules and managing packages through pip is essential for extending functionality and using libraries. Here’s a comprehensive overview:\n",
    "\n",
    "### Importing Modules\n",
    "#### Basic Import\n",
    "\n",
    "You can import a module using the import statement.\n",
    "```python\n",
    "import math\n",
    "print(math.sqrt(16))  # Outputs: 4.0\n",
    "```\n",
    "1. Importing Specific Functions\n",
    "\n",
    "    You can import specific functions from a module.\n",
    "    ```python\n",
    "    from math import sqrt\n",
    "    print(sqrt(16))  # Outputs: 4.0\n",
    "    ```\n",
    "2. Importing with Aliasing\n",
    "\n",
    "    You can give a module or function an alias using the as keyword.\n",
    "    ```python\n",
    "    import numpy as np\n",
    "    print(np.array([1, 2, 3]))  # Outputs: [1 2 3]\n",
    "    ```\n",
    "3. Importing All Functions from a Module\n",
    "\n",
    "    You can import everything from a module, but this is not recommended due to potential name clashes.\n",
    "    ```python\n",
    "    from math import *\n",
    "    print(sin(pi/2))  # Outputs: 1.0\n",
    "    ```\n",
    "4. Conditional Imports\n",
    "\n",
    "    You can conditionally import modules within a function or block.\n",
    "    ```python\n",
    "    def use_numpy():\n",
    "        import numpy as np\n",
    "        return np.random.rand(5)\n",
    "    ```\n",
    "### Installing Packages with pip\n",
    "pip is the package installer for Python, and it allows you to install and manage additional libraries that are not part of the Python standard library.\n",
    "\n",
    "1. Installing a Package\n",
    "    To install a package, use:\n",
    "    ```bash\n",
    "    pip install package_name\n",
    "    ```\n",
    "    For example, to install numpy, use:\n",
    "    ```bash\n",
    "    pip install numpy\n",
    "    ```\n",
    "2. Upgrading a Package\n",
    "    To upgrade an already installed package to the latest version:\n",
    "    ```bash\n",
    "    pip install --upgrade package_name\n",
    "    ```\n",
    "3. Listing Installed Packages\n",
    "    To see all installed packages and their versions:\n",
    "    ```bash\n",
    "    pip list\n",
    "    ```\n",
    "4. Uninstalling a Package\n",
    "    To uninstall a package:\n",
    "    ```bash\n",
    "    pip uninstall package_name\n",
    "    ```\n",
    "5. To see which packages are outdated:\n",
    "    ```bash\n",
    "    pip list --outdated\n",
    "    ```\n",
    "6. Searching for Packages\n",
    "    To search for a package by name:\n",
    "    ```bash\n",
    "    pip search package_name\n",
    "    ```"
   ]
  },
  {
   "cell_type": "code",
   "execution_count": 5,
   "metadata": {},
   "outputs": [
    {
     "name": "stdout",
     "output_type": "stream",
     "text": [
      "6\n"
     ]
    },
    {
     "ename": "NameError",
     "evalue": "name 'random' is not defined",
     "output_type": "error",
     "traceback": [
      "\u001b[1;31m---------------------------------------------------------------------------\u001b[0m",
      "\u001b[1;31mNameError\u001b[0m                                 Traceback (most recent call last)",
      "Cell \u001b[1;32mIn[5], line 3\u001b[0m\n\u001b[0;32m      1\u001b[0m \u001b[38;5;28;01mfrom\u001b[39;00m \u001b[38;5;21;01mrandom\u001b[39;00m \u001b[38;5;28;01mimport\u001b[39;00m randint\n\u001b[0;32m      2\u001b[0m \u001b[38;5;28mprint\u001b[39m(randint(\u001b[38;5;241m1\u001b[39m, \u001b[38;5;241m10\u001b[39m))\n\u001b[1;32m----> 3\u001b[0m \u001b[38;5;28mprint\u001b[39m(\u001b[43mrandom\u001b[49m\u001b[38;5;241m.\u001b[39mshuffle())\n",
      "\u001b[1;31mNameError\u001b[0m: name 'random' is not defined"
     ]
    }
   ],
   "source": [
    "from random import randint\n",
    "print(randint(1, 10))\n",
    "print(random.shuffle())"
   ]
  }
 ],
 "metadata": {
  "kernelspec": {
   "display_name": "Python 3",
   "language": "python",
   "name": "python3"
  },
  "language_info": {
   "codemirror_mode": {
    "name": "ipython",
    "version": 3
   },
   "file_extension": ".py",
   "mimetype": "text/x-python",
   "name": "python",
   "nbconvert_exporter": "python",
   "pygments_lexer": "ipython3",
   "version": "3.12.3"
  }
 },
 "nbformat": 4,
 "nbformat_minor": 2
}
