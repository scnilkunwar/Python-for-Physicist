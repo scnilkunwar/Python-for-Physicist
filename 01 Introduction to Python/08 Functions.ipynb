{
 "cells": [
  {
   "cell_type": "markdown",
   "metadata": {},
   "source": [
    "<div align=\"center\">\n",
    "  <h1> Python for Physicist - Functions</h1>\n",
    "</div>\n",
    "\n",
    "![Python for Physicist](../images/Banner.png)\n",
    "\n",
    "## Function in Python\n",
    "Functions in Python are blocks of reusable code that perform a specific task. They help organize and modularize your code, making it more readable and maintainable.\n",
    "\n",
    "**Defining Functions**\n",
    "\n",
    "You define a function using the `def` keyword, followed by the function name and parentheses. Inside the parentheses, you can specify parameters.\n",
    "\n",
    "**Syntax**:\n",
    "```python\n",
    "def function_name(parameters):\n",
    "    \"\"\"Docstring: Description of the function.\"\"\"\n",
    "    # Code to execute\n",
    "    return result  # Optional\n",
    "```\n",
    "**Return Statement**\n",
    "\n",
    "The `return` statement is used to exit a function and optionally pass a value back to the caller."
   ]
  },
  {
   "cell_type": "code",
   "execution_count": 1,
   "metadata": {},
   "outputs": [
    {
     "name": "stdout",
     "output_type": "stream",
     "text": [
      "8\n"
     ]
    }
   ],
   "source": [
    "def add(a, b):\n",
    "    \"\"\"Returns the sum of two numbers.\"\"\"\n",
    "    return a + b\n",
    "\n",
    "num1 = 5\n",
    "num2 = 3\n",
    "s = add(num1, num2)\n",
    "print(s)"
   ]
  },
  {
   "cell_type": "markdown",
   "metadata": {},
   "source": [
    "### Parameters and Arguments\n",
    "**Positional Arguments**: The order of the arguments matters."
   ]
  },
  {
   "cell_type": "code",
   "execution_count": 2,
   "metadata": {},
   "outputs": [
    {
     "name": "stdout",
     "output_type": "stream",
     "text": [
      "20\n"
     ]
    }
   ],
   "source": [
    "def multiply(x, y):\n",
    "    return x * y\n",
    "print(multiply(4, 5))"
   ]
  },
  {
   "cell_type": "markdown",
   "metadata": {},
   "source": [
    "\n",
    "**Keyword Arguments**: You can specify arguments by name, allowing you to pass them in any order."
   ]
  },
  {
   "cell_type": "code",
   "execution_count": 3,
   "metadata": {},
   "outputs": [
    {
     "name": "stdout",
     "output_type": "stream",
     "text": [
      "Hello, Alice!\n"
     ]
    }
   ],
   "source": [
    "\n",
    "def greet(name, message):\n",
    "    return f\"{message}, {name}!\"\n",
    "print(greet(message=\"Hello\", name=\"Alice\"))"
   ]
  },
  {
   "cell_type": "markdown",
   "metadata": {},
   "source": [
    "**Default Parameters**: You can set default values for parameters."
   ]
  },
  {
   "cell_type": "code",
   "execution_count": 4,
   "metadata": {},
   "outputs": [
    {
     "name": "stdout",
     "output_type": "stream",
     "text": [
      "Hi, Bob!\n"
     ]
    }
   ],
   "source": [
    "def greet(name, message=\"Hi\"):\n",
    "    return f\"{message}, {name}!\"\n",
    "print(greet(\"Bob\"))"
   ]
  },
  {
   "cell_type": "markdown",
   "metadata": {},
   "source": [
    "**Variable-Length Arguments**: You can use `*args` as `tuple` for non-keyword variable-length arguments and `**kwargs` as `dict` for keyword variable-length arguments."
   ]
  },
  {
   "cell_type": "code",
   "execution_count": 6,
   "metadata": {},
   "outputs": [
    {
     "name": "stdout",
     "output_type": "stream",
     "text": [
      "(1, 2, 3, 4)\n",
      "10\n",
      "name: Alice\n",
      "age: 30\n"
     ]
    }
   ],
   "source": [
    "def sum_all(*args):\n",
    "    return sum(args)\n",
    "\n",
    "print(sum_all(1, 2, 3, 4))\n",
    "\n",
    "def print_info(**kwargs):\n",
    "    for key, value in kwargs.items():\n",
    "        print(f\"{key}: {value}\")\n",
    "\n",
    "print_info(name=\"Alice\", age=30)"
   ]
  },
  {
   "cell_type": "markdown",
   "metadata": {},
   "source": [
    "### Lambda Function\n",
    "In Python, a lambda function is a small anonymous function defined using the `lambda` keyword. Lambda functions can have any number of arguments but only one expression. The expression is evaluated and returned automatically.\n",
    "\n",
    "**Syntax**\n",
    "```python\n",
    "lambda arguments: expression"
   ]
  },
  {
   "cell_type": "code",
   "execution_count": 7,
   "metadata": {},
   "outputs": [
    {
     "name": "stdout",
     "output_type": "stream",
     "text": [
      "15\n"
     ]
    }
   ],
   "source": [
    "add_10 = lambda x: x + 10\n",
    "print(add_10(5))"
   ]
  },
  {
   "cell_type": "markdown",
   "metadata": {},
   "source": [
    "**Lambda Function with Multiple Arguments:**"
   ]
  },
  {
   "cell_type": "code",
   "execution_count": 8,
   "metadata": {},
   "outputs": [
    {
     "name": "stdout",
     "output_type": "stream",
     "text": [
      "15\n"
     ]
    }
   ],
   "source": [
    "multiply = lambda x, y: x * y\n",
    "print(multiply(5, 3))"
   ]
  },
  {
   "cell_type": "markdown",
   "metadata": {},
   "source": [
    "### Use Case:\n",
    "Lambda functions are often used where small functions are needed for a short period of time, like inside higher-order functions (functions that take other functions as arguments), such as `map()`, `filter()`, and `reduce()`."
   ]
  },
  {
   "cell_type": "markdown",
   "metadata": {},
   "source": [
    "### `map()`\n",
    "The `map()` function in Python is used to apply a function to all the items in an iterable (like a `list`, `tuple`, or `set`) and return a map object (which is an iterator). It’s one of the most useful tools for functional programming, allowing you to transform data in a concise way.\n",
    "\n",
    "**Syntax**:\n",
    "```python\n",
    "map(function, iterable, ...)\n",
    "```\n",
    "**function**: A function that applies to each item of the iterable.\n",
    "**iterable**: One or more iterables (e.g., lists, tuples). If you pass multiple iterables, the function should take as many arguments as there are iterables."
   ]
  },
  {
   "cell_type": "code",
   "execution_count": 10,
   "metadata": {},
   "outputs": [
    {
     "name": "stdout",
     "output_type": "stream",
     "text": [
      "[1, 4, 9, 16]\n",
      "[2, 4, 6, 8]\n"
     ]
    }
   ],
   "source": [
    "#Applying a function that squares numbers:\n",
    "def square(x):\n",
    "    return x ** 2\n",
    "\n",
    "numbers = [1, 2, 3, 4]\n",
    "result = map(square, numbers)\n",
    "print(list(result))  # Output: [1, 4, 9, 16]\n",
    "\n",
    "#Using lambda Functions:\n",
    "numbers = [1, 2, 3, 4]\n",
    "result = map(lambda x: x * 2, numbers)\n",
    "print(list(result))  # Output: [2, 4, 6, 8]"
   ]
  },
  {
   "cell_type": "markdown",
   "metadata": {},
   "source": [
    "### `filter()`\n",
    "The `filter()` function in Python is used to construct an iterator from elements of an iterable for which a function returns True. It allows you to \"filter out\" elements that don’t meet a specified condition, making it useful for creating subsets of data based on conditions.\n",
    "\n",
    "**Syntax**:\n",
    "```python\n",
    "filter(function, iterable)\n",
    "```\n",
    "**function**: A function that tests each element of the iterable. It should return `True` to keep the element, and `False` to discard it.\n",
    "**iterable**: The iterable to be filtered (like a list, tuple, or set).\n",
    "If the function is None, the filter() function will return all elements of the iterable that are considered True in a Boolean context (i.e., non-zero, non-empty)."
   ]
  },
  {
   "cell_type": "code",
   "execution_count": 11,
   "metadata": {},
   "outputs": [
    {
     "name": "stdout",
     "output_type": "stream",
     "text": [
      "[2, 4, 6]\n",
      "[3, 4, 5]\n"
     ]
    }
   ],
   "source": [
    "#Filtering even numbers from a list:\n",
    "def is_even(x):\n",
    "    return x % 2 == 0\n",
    "\n",
    "numbers = [1, 2, 3, 4, 5, 6]\n",
    "result = filter(is_even, numbers)\n",
    "print(list(result))\n",
    "\n",
    "#Using a lambda function to filter out numbers greater than 2:\n",
    "numbers = [1, 2, 3, 4, 5]\n",
    "result = filter(lambda x: x > 2, numbers)\n",
    "print(list(result))"
   ]
  },
  {
   "cell_type": "markdown",
   "metadata": {},
   "source": [
    "### `zip()`\n",
    "The `zip()` function in Python combines multiple iterables (e.g., lists, tuples, sets) into tuples, where each tuple contains one element from each iterable. The resulting zip object is an iterator, so you can convert it to a `list`, `tuple`, or any other iterable type.\n",
    "\n",
    "**Syntax**:\n",
    "```python\n",
    "zip(*iterables)\n",
    "```\n",
    "**iterables**: Two or more iterables (like lists, tuples, etc.) that you want to combine.\n",
    "If the iterables have different lengths, zip() will stop creating tuples when the shortest iterable is exhausted."
   ]
  },
  {
   "cell_type": "code",
   "execution_count": 12,
   "metadata": {},
   "outputs": [
    {
     "name": "stdout",
     "output_type": "stream",
     "text": [
      "[('Alice', 25), ('Bob', 30), ('Charlie', 35)]\n"
     ]
    }
   ],
   "source": [
    "# Simple Usage\n",
    "# Combining two lists element by element:\n",
    "names = ['Alice', 'Bob', 'Charlie']\n",
    "ages = [25, 30, 35]\n",
    "\n",
    "result = zip(names, ages)\n",
    "print(list(result))"
   ]
  },
  {
   "cell_type": "code",
   "execution_count": 13,
   "metadata": {},
   "outputs": [
    {
     "name": "stdout",
     "output_type": "stream",
     "text": [
      "[('Alice', 25, 'New York'), ('Bob', 30, 'Los Angeles'), ('Charlie', 35, 'Chicago')]\n"
     ]
    }
   ],
   "source": [
    "# Multiple Iterables\n",
    "# You can zip more than two iterables\n",
    "names = ['Alice', 'Bob', 'Charlie']\n",
    "ages = [25, 30, 35]\n",
    "cities = ['New York', 'Los Angeles', 'Chicago']\n",
    "\n",
    "result = zip(names, ages, cities)\n",
    "print(list(result)) "
   ]
  },
  {
   "cell_type": "code",
   "execution_count": 14,
   "metadata": {},
   "outputs": [
    {
     "name": "stdout",
     "output_type": "stream",
     "text": [
      "[('Alice', 25), ('Bob', 30)]\n"
     ]
    }
   ],
   "source": [
    "# Uneven Iterables\n",
    "# If the iterables have different lengths, zip() will stop once the shortest iterable is exhausted:\n",
    "names = ['Alice', 'Bob']\n",
    "ages = [25, 30, 35]  # Longer list\n",
    "\n",
    "result = zip(names, ages)\n",
    "print(list(result))  # Output: [('Alice', 25), ('Bob', 30)]"
   ]
  },
  {
   "cell_type": "markdown",
   "metadata": {},
   "source": [
    "### Unzipping\n",
    "You can \"unzip\" a zipped object using the `*` operator:"
   ]
  },
  {
   "cell_type": "code",
   "execution_count": 16,
   "metadata": {},
   "outputs": [
    {
     "name": "stdout",
     "output_type": "stream",
     "text": [
      "('Alice', 'Bob', 'Charlie')\n",
      "(25, 30, 35)\n"
     ]
    }
   ],
   "source": [
    "\n",
    "zipped = [('Alice', 25), ('Bob', 30), ('Charlie', 35)]\n",
    "\n",
    "names, ages = zip(*zipped)  # Unzipping\n",
    "print(names)\n",
    "print(ages)"
   ]
  },
  {
   "cell_type": "markdown",
   "metadata": {},
   "source": [
    "### Using with Dictionaries\n",
    "You can use zip() to create dictionaries:"
   ]
  },
  {
   "cell_type": "code",
   "execution_count": 18,
   "metadata": {},
   "outputs": [
    {
     "name": "stdout",
     "output_type": "stream",
     "text": [
      "{'name': 'Alice', 'age': 25, 'city': 'New York'}\n"
     ]
    }
   ],
   "source": [
    "keys = ['name', 'age', 'city']\n",
    "values = ['Alice', 25, 'New York']\n",
    "\n",
    "result = dict(zip(keys, values))\n",
    "print(result)  "
   ]
  },
  {
   "cell_type": "markdown",
   "metadata": {},
   "source": [
    "### Iterating over Zipped Items\n",
    "You can iterate over the zipped result in a loop:"
   ]
  },
  {
   "cell_type": "code",
   "execution_count": 19,
   "metadata": {},
   "outputs": [
    {
     "name": "stdout",
     "output_type": "stream",
     "text": [
      "Alice is 25 years old.\n",
      "Bob is 30 years old.\n",
      "Charlie is 35 years old.\n"
     ]
    }
   ],
   "source": [
    "names = ['Alice', 'Bob', 'Charlie']\n",
    "ages = [25, 30, 35]\n",
    "\n",
    "for name, age in zip(names, ages):\n",
    "    print(f\"{name} is {age} years old.\")"
   ]
  },
  {
   "cell_type": "markdown",
   "metadata": {},
   "source": [
    "## Scope of a Variable\n",
    "The scope of a variable in Python refers to the context or region of the code where a variable can be accessed. Understanding variable scope is essential to avoid bugs and ensure that your code behaves as expected. Python has different types of scope, including local, global\n",
    "\n",
    "### Local Scope\n",
    "Variables defined within a function or code block have local scope and can only be accessed inside that function or code block. They are created when the function is called and destroyed when the function finishes execution."
   ]
  },
  {
   "cell_type": "code",
   "execution_count": 20,
   "metadata": {},
   "outputs": [
    {
     "name": "stdout",
     "output_type": "stream",
     "text": [
      "30\n"
     ]
    }
   ],
   "source": [
    "def mult_by_10(num):\n",
    "    local_var = 10 \n",
    "    return local_var * num\n",
    "\n",
    "print(mult_by_10(3))"
   ]
  },
  {
   "cell_type": "markdown",
   "metadata": {},
   "source": [
    "### Global Scope\n",
    "Variables defined outside any function or class have global scope. These variables can be accessed from anywhere in the code, including inside functions (but not when modified unless declared global)."
   ]
  },
  {
   "cell_type": "code",
   "execution_count": 21,
   "metadata": {},
   "outputs": [
    {
     "name": "stdout",
     "output_type": "stream",
     "text": [
      "20\n",
      "20\n"
     ]
    }
   ],
   "source": [
    "global_var = 20  # Global variable\n",
    "\n",
    "def my_function():\n",
    "    print(global_var)  # Accessing the global variable inside the function\n",
    "\n",
    "my_function()\n",
    "print(global_var)  # Accessible outside the function too"
   ]
  },
  {
   "cell_type": "markdown",
   "metadata": {},
   "source": [
    "### Recursion in Python\n",
    "Recursion is a programming technique where a function calls itself in order to solve a problem. A recursive function is useful when the problem can be divided into smaller subproblems of the same type.\n",
    "\n",
    "In a recursive function, there are two main parts:\n",
    "\n",
    "**Base Case**: This stops the recursion to prevent it from going into an infinite loop. It defines the condition when the function should stop calling itself.\n",
    "\n",
    "**Recursive Case**: This is the part of the function where the function continues calling itself with a modified argument to reduce the problem toward the base case."
   ]
  },
  {
   "cell_type": "code",
   "execution_count": 22,
   "metadata": {},
   "outputs": [
    {
     "name": "stdout",
     "output_type": "stream",
     "text": [
      "120\n"
     ]
    }
   ],
   "source": [
    "# Factorial of a Number\n",
    "\n",
    "def factorial(n):\n",
    "    if n == 0:  # Base case\n",
    "        return 1\n",
    "    else:\n",
    "        return n * factorial(n - 1)  # Recursive case\n",
    "\n",
    "print(factorial(5))"
   ]
  },
  {
   "cell_type": "code",
   "execution_count": 23,
   "metadata": {},
   "outputs": [
    {
     "name": "stdout",
     "output_type": "stream",
     "text": [
      "8\n"
     ]
    }
   ],
   "source": [
    "# Fibonacci Sequence\n",
    "def fibonacci(n):\n",
    "    if n == 0:  # Base case\n",
    "        return 0\n",
    "    elif n == 1:  # Base case\n",
    "        return 1\n",
    "    else:\n",
    "        return fibonacci(n - 1) + fibonacci(n - 2)  # Recursive case\n",
    "\n",
    "print(fibonacci(6))"
   ]
  },
  {
   "cell_type": "markdown",
   "metadata": {},
   "source": [
    "## Some Questions\n",
    "\n",
    "#### Free Fall Simulation\n",
    "**Problem 1**: Write a function that simulates the free fall of an object. Use a loop to calculate the position of the object at regular intervals of time until it hits the ground. Assume no air resistance.\n",
    "\n",
    "#### Ohm's Law Calculator\n",
    "**Problem 2**: Create a function that calculates the current flowing through a circuit given the voltage and resistance. Use a loop to calculate current for a range of resistances.\n",
    "\n",
    "#### Coulomb's Law Calculator\n",
    "**Problem 3**: Write a function that calculates the electrostatic force between two charges. Use a loop to calculate the force for a range of distances."
   ]
  },
  {
   "cell_type": "code",
   "execution_count": 25,
   "metadata": {},
   "outputs": [
    {
     "name": "stdout",
     "output_type": "stream",
     "text": [
      "Time: 0.0 s, Height: 100.00 m\n",
      "Time: 0.1 s, Height: 99.80 m\n",
      "Time: 0.2 s, Height: 99.22 m\n",
      "Time: 0.3 s, Height: 98.23 m\n",
      "Time: 0.4 s, Height: 96.86 m\n",
      "Time: 0.5 s, Height: 95.09 m\n",
      "Time: 0.6 s, Height: 92.94 m\n",
      "Time: 0.7 s, Height: 90.39 m\n",
      "Time: 0.8 s, Height: 87.44 m\n",
      "Time: 0.9 s, Height: 84.11 m\n",
      "Time: 1.0 s, Height: 80.38 m\n",
      "Time: 1.1 s, Height: 76.26 m\n",
      "Time: 1.2 s, Height: 71.75 m\n",
      "Time: 1.3 s, Height: 66.84 m\n",
      "Time: 1.4 s, Height: 61.54 m\n",
      "Time: 1.5 s, Height: 55.85 m\n",
      "Time: 1.6 s, Height: 49.77 m\n",
      "Time: 1.7 s, Height: 43.30 m\n",
      "Time: 1.8 s, Height: 36.43 m\n",
      "Time: 1.9 s, Height: 29.17 m\n",
      "Time: 2.0 s, Height: 21.52 m\n",
      "Time: 2.1 s, Height: 13.48 m\n",
      "Time: 2.2 s, Height: 5.04 m\n",
      "Time: 2.3 s, Height: -3.79 m\n"
     ]
    }
   ],
   "source": [
    "def free_fall(height, time_interval=0.1):\n",
    "    g = 9.81  # Acceleration due to gravity in m/s^2\n",
    "    time = 0\n",
    "    position = height\n",
    "\n",
    "    while position > 0:\n",
    "        position = height - 2 * g * time**2\n",
    "        print(f'Time: {time:.1f} s, Height: {position:.2f} m')\n",
    "        time += time_interval\n",
    "\n",
    "# Example usage\n",
    "free_fall(100)  # Start from a height of 100 meters"
   ]
  },
  {
   "cell_type": "code",
   "execution_count": 26,
   "metadata": {},
   "outputs": [
    {
     "name": "stdout",
     "output_type": "stream",
     "text": [
      "Resistance (Ohms) | Current (A)\n",
      "--------------------|-------------\n",
      "1                    | 12.0000\n",
      "2                    | 6.0000\n",
      "3                    | 4.0000\n",
      "4                    | 3.0000\n",
      "5                    | 2.4000\n",
      "6                    | 2.0000\n",
      "7                    | 1.7143\n",
      "8                    | 1.5000\n",
      "9                    | 1.3333\n",
      "10                   | 1.2000\n"
     ]
    }
   ],
   "source": [
    "def ohms_law(voltage, resistance_start, resistance_end, step):\n",
    "    print(\"Resistance (Ohms) | Current (A)\")\n",
    "    print(\"--------------------|-------------\")\n",
    "    for resistance in range(resistance_start, resistance_end + 1, step):\n",
    "        current = voltage / resistance\n",
    "        print(f\"{resistance:<20} | {current:.4f}\")\n",
    "\n",
    "# Example usage\n",
    "ohms_law(12, 1, 10, 1)  # Voltage = 12V, Resistance from 1 to 10 Ohms\n"
   ]
  },
  {
   "cell_type": "code",
   "execution_count": 27,
   "metadata": {},
   "outputs": [
    {
     "name": "stdout",
     "output_type": "stream",
     "text": [
      "Distance (m) | Force (N)\n",
      "---------------------------\n",
      "1               | 1.80e-02\n",
      "2               | 4.49e-03\n",
      "3               | 2.00e-03\n",
      "4               | 1.12e-03\n",
      "5               | 7.19e-04\n",
      "6               | 4.99e-04\n",
      "7               | 3.67e-04\n",
      "8               | 2.81e-04\n",
      "9               | 2.22e-04\n",
      "10              | 1.80e-04\n"
     ]
    }
   ],
   "source": [
    "def coulombs_law(q1, q2, distance_start, distance_end, step):\n",
    "    k = 8.99e9  # Coulomb's constant in N m²/C²\n",
    "    print(\"Distance (m) | Force (N)\")\n",
    "    print(\"---------------------------\")\n",
    "    for distance in range(distance_start, distance_end + 1, step):\n",
    "        force = k * (q1 * q2) / distance**2\n",
    "        print(f\"{distance:<15} | {force:.2e}\")\n",
    "\n",
    "# Example usage\n",
    "coulombs_law(1e-6, 2e-6, 1, 10, 1)  # Charges in Coulombs, distance from 1m to 10m\n"
   ]
  }
 ],
 "metadata": {
  "kernelspec": {
   "display_name": "Python 3",
   "language": "python",
   "name": "python3"
  },
  "language_info": {
   "codemirror_mode": {
    "name": "ipython",
    "version": 3
   },
   "file_extension": ".py",
   "mimetype": "text/x-python",
   "name": "python",
   "nbconvert_exporter": "python",
   "pygments_lexer": "ipython3",
   "version": "3.12.3"
  }
 },
 "nbformat": 4,
 "nbformat_minor": 2
}
