{
 "cells": [
  {
   "cell_type": "markdown",
   "metadata": {},
   "source": [
    "<div align=\"center\">\n",
    "  <h1> Python for Physicist - Conditional Statements</h1>\n",
    "</div>\n",
    "\n",
    "![Python for Physicist](../images/Banner.png)\n",
    "\n",
    "## Conditional Statements\n",
    "Conditional statements in Python allow you to execute specific blocks of code based on certain conditions. The primary conditional statements are `if`, `elif`, and `else`.\n",
    "\n",
    "### `if` Statement\n",
    "The `if` statement evaluates a condition and executes a block of code if the condition is true."
   ]
  },
  {
   "cell_type": "code",
   "execution_count": 1,
   "metadata": {},
   "outputs": [
    {
     "name": "stdout",
     "output_type": "stream",
     "text": [
      "x is greater than 5\n"
     ]
    }
   ],
   "source": [
    "x = 10\n",
    "if x > 5:\n",
    "    print(\"x is greater than 5\")"
   ]
  },
  {
   "cell_type": "markdown",
   "metadata": {},
   "source": [
    "### `else` Statement\n",
    "The `else` statement follows an `if` statement and executes a block of code if the condition in the `if` statement is false."
   ]
  },
  {
   "cell_type": "code",
   "execution_count": 2,
   "metadata": {},
   "outputs": [
    {
     "name": "stdout",
     "output_type": "stream",
     "text": [
      "x is not greater than 5\n"
     ]
    }
   ],
   "source": [
    "x = 3\n",
    "if x > 5:\n",
    "    print(\"x is greater than 5\")\n",
    "else:\n",
    "    print(\"x is not greater than 5\")"
   ]
  },
  {
   "cell_type": "markdown",
   "metadata": {},
   "source": [
    "### `elif` Statement\n",
    "The `elif` (short for \"else if\") statement allows you to check multiple expressions for truth and execute a block of code as soon as one of the conditions is true."
   ]
  },
  {
   "cell_type": "code",
   "execution_count": 3,
   "metadata": {},
   "outputs": [
    {
     "name": "stdout",
     "output_type": "stream",
     "text": [
      "x is greater than 5 but less than or equal to 10\n"
     ]
    }
   ],
   "source": [
    "x = 7\n",
    "if x > 10:\n",
    "    print(\"x is greater than 10\")\n",
    "elif x > 5:\n",
    "    print(\"x is greater than 5 but less than or equal to 10\")\n",
    "else:\n",
    "    print(\"x is 5 or less\")"
   ]
  },
  {
   "cell_type": "markdown",
   "metadata": {},
   "source": [
    "### Nested Conditional Statements\n",
    "You can nest if statements within other if statements for more complex conditions."
   ]
  },
  {
   "cell_type": "code",
   "execution_count": 4,
   "metadata": {},
   "outputs": [
    {
     "name": "stdout",
     "output_type": "stream",
     "text": [
      "x is greater than 5\n",
      "x is also greater than 7\n"
     ]
    }
   ],
   "source": [
    "x = 10\n",
    "if x > 5:\n",
    "    print(\"x is greater than 5\")\n",
    "    if x > 7:\n",
    "        print(\"x is also greater than 7\")"
   ]
  },
  {
   "cell_type": "markdown",
   "metadata": {},
   "source": [
    "#### Some examples"
   ]
  },
  {
   "cell_type": "code",
   "execution_count": 5,
   "metadata": {},
   "outputs": [
    {
     "name": "stdout",
     "output_type": "stream",
     "text": [
      "The greatest number is 8.\n"
     ]
    }
   ],
   "source": [
    "#Greatest among 2 numbers\n",
    "# Input two numbers\n",
    "num1 = int(input(\"Enter the first number: \"))\n",
    "num2 = int(input(\"Enter the second number: \"))\n",
    "\n",
    "# Compare the numbers\n",
    "if num1 > num2:\n",
    "    print(f\"The greatest number is {num1}.\")\n",
    "elif num2 > num1:\n",
    "    print(f\"The greatest number is {num2}.\")\n",
    "else:\n",
    "    print(\"Both numbers are equal.\")"
   ]
  },
  {
   "cell_type": "code",
   "execution_count": 6,
   "metadata": {},
   "outputs": [
    {
     "name": "stdout",
     "output_type": "stream",
     "text": [
      "The greatest number is 4.\n"
     ]
    }
   ],
   "source": [
    "#Greatest among 3 numbers\n",
    "# Input three numbers\n",
    "num1 = int(input(\"Enter the first number: \"))\n",
    "num2 = int(input(\"Enter the second number: \"))\n",
    "num3 = int(input(\"Enter the third number: \"))\n",
    "\n",
    "# Nested if statements to find the greatest number\n",
    "if num1 >= num2:\n",
    "    if num1 >= num3:\n",
    "        print(f\"The greatest number is {num1}.\")\n",
    "    else:\n",
    "        print(f\"The greatest number is {num3}.\")\n",
    "else:\n",
    "    if num2 >= num3:\n",
    "        print(f\"The greatest number is {num2}.\")\n",
    "    else:\n",
    "        print(f\"The greatest number is {num3}.\")"
   ]
  },
  {
   "cell_type": "markdown",
   "metadata": {},
   "source": [
    "### Conditional Expressions (Ternary Operator)\n",
    "You can use a single line conditional expression (often called a ternary operator) for simple conditions."
   ]
  },
  {
   "cell_type": "code",
   "execution_count": 7,
   "metadata": {},
   "outputs": [
    {
     "name": "stdout",
     "output_type": "stream",
     "text": [
      "x is greater than 3\n"
     ]
    }
   ],
   "source": [
    "x = 5\n",
    "result = \"x is greater than 3\" if x > 3 else \"x is not greater than 3\"\n",
    "print(result)"
   ]
  },
  {
   "cell_type": "markdown",
   "metadata": {},
   "source": [
    "### Combining Conditions\n",
    "You can combine conditions using logical operators such as `and`, `or`, and `not`."
   ]
  },
  {
   "cell_type": "code",
   "execution_count": 8,
   "metadata": {},
   "outputs": [
    {
     "name": "stdout",
     "output_type": "stream",
     "text": [
      "Both conditions are true\n",
      "At least one condition is true\n",
      "x is not greater than 10\n"
     ]
    }
   ],
   "source": [
    "x = 8\n",
    "y = 4\n",
    "if x > 5 and y < 5:\n",
    "    print(\"Both conditions are true\")\n",
    "if x > 5 or y < 5:\n",
    "    print(\"At least one condition is true\")\n",
    "if not (x > 10):\n",
    "    print(\"x is not greater than 10\")\n"
   ]
  },
  {
   "cell_type": "code",
   "execution_count": 9,
   "metadata": {},
   "outputs": [
    {
     "name": "stdout",
     "output_type": "stream",
     "text": [
      "The greatest number is 7.\n"
     ]
    }
   ],
   "source": [
    "# Greatst among three numbers\n",
    "# Input three numbers\n",
    "num1 = int(input(\"Enter the first number: \"))\n",
    "num2 = int(input(\"Enter the second number: \"))\n",
    "num3 = int(input(\"Enter the third number: \"))\n",
    "\n",
    "# Compare the numbers\n",
    "if num1 >= num2 and num1 >= num3:\n",
    "    print(f\"The greatest number is {num1}.\")\n",
    "elif num2 >= num1 and num2 >= num3:\n",
    "    print(f\"The greatest number is {num2}.\")\n",
    "else:\n",
    "    print(f\"The greatest number is {num3}.\")"
   ]
  },
  {
   "cell_type": "markdown",
   "metadata": {},
   "source": [
    "### Exercise Questions\n",
    "#### Free Fall Calculation\n",
    "Write a program that takes the height (in meters) from which an object is dropped and calculates the time taken to reach the ground using the formula $t = \\sqrt \\frac{2h}{g}$, where 𝑔 is the acceleration due to gravity (approximately 9.81 m/s). Use conditional statements to print whether the time is less than, equal to, or greater than 3 seconds.\n",
    "\n",
    "#### Kinetic Energy Checker\n",
    "Create a program that takes the mass (in kg) and velocity (in m/s) of an object as input. Calculate the kinetic energy using the formula $K.E. = \\frac{1}{2}mv^2 $. Use conditional statements to determine if the kinetic energy is low (less than 50 J), medium (between 50 J and 150 J), or high (greater than 150 J).\n",
    "\n",
    "### Gas Law Calculator\n",
    "Write a program that prompts the user for the pressure (in atm), volume (in liters), and temperature (in Kelvin) of a gas. Use the ideal gas law $PV = nRT$ to calculate the number of moles 𝑛. Use conditional statements to categorize the amount of gas as \"Low\" (less than 1 mole), \"Moderate\" (1 to 10 moles), or \"High\" (more than 10 moles).\n",
    "\n",
    "**Additional Tips:**\n",
    "\n",
    "Validate user inputs (e.g., ensure mass and volume are positive).\n",
    "Comment on their code to explain what each part does."
   ]
  }
 ],
 "metadata": {
  "kernelspec": {
   "display_name": "Python 3",
   "language": "python",
   "name": "python3"
  },
  "language_info": {
   "codemirror_mode": {
    "name": "ipython",
    "version": 3
   },
   "file_extension": ".py",
   "mimetype": "text/x-python",
   "name": "python",
   "nbconvert_exporter": "python",
   "pygments_lexer": "ipython3",
   "version": "3.12.3"
  }
 },
 "nbformat": 4,
 "nbformat_minor": 2
}
