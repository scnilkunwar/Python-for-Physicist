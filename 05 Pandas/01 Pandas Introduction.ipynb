{
 "cells": [
  {
   "cell_type": "markdown",
   "metadata": {},
   "source": [
    "![Python for Physicist](https://github.com/scnilkunwar/Python-for-Physicist/blob/main/images/Banner.png?raw=true)\n",
    "<div align=\"center\">\n",
    "    \n",
    "![Pandas](https://upload.wikimedia.org/wikipedia/commons/thumb/e/ed/Pandas_logo.svg/1920px-Pandas_logo.svg.png)\n",
    "  <h1> Python for Physicist - Pandas</h1>\n",
    "</div>\n",
    "<a href=\"https://pandas.pydata.org/docs/user_guide/index.html\" \n",
    "style=\"display: inline-block; \n",
    "padding: 10px 20px; \n",
    "background-color: #4CAF50; \n",
    "color: white; \n",
    "text-align: center; \n",
    "text-decoration: none; \n",
    "border-radius: 5px;\">Pandas Documentation</a>"
   ]
  },
  {
   "cell_type": "markdown",
   "metadata": {},
   "source": [
    "# Introduction to Pandas\n",
    "\n",
    "## What is Pandas?\n",
    "\n",
    "Pandas is an open-source data analysis and manipulation library for Python, designed for working with structured data. It provides data structures and functions that enable users to easily manipulate, analyze, and visualize data in a flexible and efficient manner. \n",
    "\n",
    "## Key Features\n",
    "\n",
    "- **Data Structures**: Provides two primary data structures, Series (1-dimensional) and DataFrame (2-dimensional), to store and manipulate data.\n",
    "- **Data Alignment**: Automatic and explicit data alignment allows for easy handling of missing data.\n",
    "- **Data Manipulation**: Tools for reshaping, merging, and concatenating datasets.\n",
    "- **Data Analysis**: Functions for descriptive statistics, aggregation, and grouping operations.\n",
    "- **Time Series Support**: Built-in functionality for working with time series data.\n",
    "- **File I/O**: Easy reading from and writing to various file formats, including CSV, Excel, JSON, and SQL databases.\n",
    "- **Visualization**: Basic plotting capabilities using matplotlib integration.\n",
    "\n",
    "## Installation\n",
    "\n",
    "To install pandas, you can use pip:\n",
    "\n",
    "```bash\n",
    "pip install pandas\n"
   ]
  }
 ],
 "metadata": {
  "language_info": {
   "name": "python"
  }
 },
 "nbformat": 4,
 "nbformat_minor": 2
}
