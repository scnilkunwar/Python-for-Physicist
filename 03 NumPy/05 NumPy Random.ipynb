{
 "cells": [
  {
   "cell_type": "markdown",
   "metadata": {},
   "source": [
    "![Python for Physicist](https://github.com/scnilkunwar/Python-for-Physicist/blob/main/images/Banner.png?raw=true)"
   ]
  },
  {
   "cell_type": "markdown",
   "metadata": {},
   "source": [
    "<div align=\"center\">\n",
    "    \n",
    "![Numpy](https://raw.githubusercontent.com/numpy/numpy/main/branding/logo/primary/numpylogo.svg)\n",
    "  <h1> Python for Physicist - NumPy Random</h1>\n",
    "</div>"
   ]
  },
  {
   "cell_type": "markdown",
   "metadata": {},
   "source": [
    "<a href=\"https://numpy.org/doc/2.0/reference/random/index.html#module-numpy.random\" \n",
    "style=\"display: inline-block; \n",
    "padding: 10px 20px; \n",
    "background-color: #4CAF50; \n",
    "color: white; \n",
    "text-align: center; \n",
    "text-decoration: none; \n",
    "border-radius: 5px;\">NumPy Random</a>"
   ]
  },
  {
   "cell_type": "code",
   "execution_count": 1,
   "metadata": {},
   "outputs": [],
   "source": [
    "import numpy as np # type: ignore"
   ]
  },
  {
   "cell_type": "markdown",
   "metadata": {},
   "source": [
    "## NumPy Random Functions\n",
    "\n",
    "### Random Number Generation\n",
    "\n",
    "- **`rand(d0, d1, ..., dn)`**: Generates random numbers from a uniform distribution over [0, 1)."
   ]
  },
  {
   "cell_type": "code",
   "execution_count": 8,
   "metadata": {},
   "outputs": [
    {
     "data": {
      "text/plain": [
       "array([[[0.06650027, 0.39945949, 0.65436809],\n",
       "        [0.12400876, 0.91057541, 0.7669612 ],\n",
       "        [0.19003322, 0.38744133, 0.94222205],\n",
       "        [0.49610995, 0.37643447, 0.98830369]],\n",
       "\n",
       "       [[0.07494748, 0.55025604, 0.99957076],\n",
       "        [0.26539736, 0.33038276, 0.34048718],\n",
       "        [0.77535744, 0.27373393, 0.93743679],\n",
       "        [0.38915537, 0.16272283, 0.93547416]]])"
      ]
     },
     "execution_count": 8,
     "metadata": {},
     "output_type": "execute_result"
    }
   ],
   "source": [
    "np.random.rand(2, 4, 3)"
   ]
  },
  {
   "cell_type": "markdown",
   "metadata": {},
   "source": [
    "\n",
    "- **`randn(d0, d1, ..., dn)`**: Generates random numbers from a standard normal distribution (mean 0, variance 1).\n"
   ]
  },
  {
   "cell_type": "code",
   "execution_count": 48,
   "metadata": {},
   "outputs": [
    {
     "data": {
      "text/plain": [
       "array([ 0.09873886, -0.16214759, -1.48487121, -0.32577496, -0.15623209])"
      ]
     },
     "execution_count": 48,
     "metadata": {},
     "output_type": "execute_result"
    }
   ],
   "source": [
    "np.random.randn(5)"
   ]
  },
  {
   "cell_type": "markdown",
   "metadata": {},
   "source": [
    "- **`randint(low, high=None, size=None, dtype=int)`**: Generates random integers from `low` (inclusive) to `high` (exclusive).\n"
   ]
  },
  {
   "cell_type": "code",
   "execution_count": 23,
   "metadata": {},
   "outputs": [
    {
     "data": {
      "text/plain": [
       "0"
      ]
     },
     "execution_count": 23,
     "metadata": {},
     "output_type": "execute_result"
    }
   ],
   "source": [
    "np.random.randint(4) #random integer less than 4"
   ]
  },
  {
   "cell_type": "code",
   "execution_count": 34,
   "metadata": {},
   "outputs": [
    {
     "data": {
      "text/plain": [
       "7"
      ]
     },
     "execution_count": 34,
     "metadata": {},
     "output_type": "execute_result"
    }
   ],
   "source": [
    "np.random.randint(5, 10) #random number from 5 to 10"
   ]
  },
  {
   "cell_type": "code",
   "execution_count": 36,
   "metadata": {},
   "outputs": [
    {
     "data": {
      "text/plain": [
       "array([5, 9, 6, 9, 9], dtype=int32)"
      ]
     },
     "execution_count": 36,
     "metadata": {},
     "output_type": "execute_result"
    }
   ],
   "source": [
    "np.random.randint(5, 10, 5) # 5 random number from 5 to 10"
   ]
  },
  {
   "cell_type": "code",
   "execution_count": 40,
   "metadata": {},
   "outputs": [
    {
     "data": {
      "text/plain": [
       "array([[5, 8, 5, 7],\n",
       "       [6, 6, 6, 8],\n",
       "       [5, 8, 9, 7]], dtype=int32)"
      ]
     },
     "execution_count": 40,
     "metadata": {},
     "output_type": "execute_result"
    }
   ],
   "source": [
    "np.random.randint(5, 10, (3, 4)) # 3 x 4 random number from 5 to 10"
   ]
  },
  {
   "cell_type": "markdown",
   "metadata": {},
   "source": [
    "- **`random_sample(size=None)`**: Returns random floats in the half-open interval [0.0, 1.0).\n"
   ]
  },
  {
   "cell_type": "code",
   "execution_count": 41,
   "metadata": {},
   "outputs": [
    {
     "data": {
      "text/plain": [
       "array([0.87572171, 0.7134182 , 0.01202946, 0.1349839 , 0.78506278])"
      ]
     },
     "execution_count": 41,
     "metadata": {},
     "output_type": "execute_result"
    }
   ],
   "source": [
    "np.random.random_sample(5)"
   ]
  },
  {
   "cell_type": "code",
   "execution_count": 43,
   "metadata": {},
   "outputs": [
    {
     "data": {
      "text/plain": [
       "array([[0.82377386, 0.66963203, 0.6131458 ],\n",
       "       [0.24238495, 0.22170701, 0.25126679],\n",
       "       [0.04756347, 0.8542266 , 0.3207707 ],\n",
       "       [0.92085144, 0.92882031, 0.34939789],\n",
       "       [0.7058758 , 0.78330729, 0.36609508]])"
      ]
     },
     "execution_count": 43,
     "metadata": {},
     "output_type": "execute_result"
    }
   ],
   "source": [
    "np.random.random_sample((5, 3))"
   ]
  },
  {
   "cell_type": "markdown",
   "metadata": {},
   "source": [
    "- **`random()`**: Returns a random float in the half-open interval [0.0, 1.0)."
   ]
  },
  {
   "cell_type": "code",
   "execution_count": 44,
   "metadata": {},
   "outputs": [
    {
     "data": {
      "text/plain": [
       "array([[0.74431901, 0.30409542, 0.04559183, 0.77110906],\n",
       "       [0.5777877 , 0.56437481, 0.98516623, 0.47490148],\n",
       "       [0.66595929, 0.45256169, 0.75950407, 0.69629301]])"
      ]
     },
     "execution_count": 44,
     "metadata": {},
     "output_type": "execute_result"
    }
   ],
   "source": [
    "np.random.random((3, 4))"
   ]
  },
  {
   "cell_type": "markdown",
   "metadata": {},
   "source": [
    "### Random Sampling from Distributions\n",
    "- **`choice(a, size=None, replace=True, p=None)`**: Generates a random sample from a given 1-D array `a`.\n"
   ]
  },
  {
   "cell_type": "code",
   "execution_count": 61,
   "metadata": {},
   "outputs": [
    {
     "name": "stdout",
     "output_type": "stream",
     "text": [
      "Data Array:\n",
      "[0.32550279 0.00826504 0.28849599 0.69416106 0.02631992 0.17172463\n",
      " 0.85386115 0.45324432 0.97723462 0.04631758]\n",
      "Sampled Array:\n",
      "[0.32550279 0.85386115 0.28849599 0.28849599 0.85386115]\n"
     ]
    }
   ],
   "source": [
    "a = np.random.random_sample(10)\n",
    "print('Data Array:')\n",
    "print(a)\n",
    "a_sampled = np.random.choice(a, 5)\n",
    "print('Sampled Array:')\n",
    "print(a_sampled)"
   ]
  },
  {
   "cell_type": "markdown",
   "metadata": {},
   "source": [
    "- **`uniform(low=0.0, high=1.0, size=None)`**: Draws samples from a uniform distribution.\n"
   ]
  },
  {
   "cell_type": "code",
   "execution_count": 62,
   "metadata": {},
   "outputs": [
    {
     "data": {
      "text/plain": [
       "array([[1.30341096, 1.84894065, 1.56723416, 1.7714927 , 1.25187601],\n",
       "       [1.64043212, 1.30206839, 1.31580073, 1.04133449, 1.55017521],\n",
       "       [1.76208251, 1.89186774, 1.79504551, 1.53280356, 1.00508449]])"
      ]
     },
     "execution_count": 62,
     "metadata": {},
     "output_type": "execute_result"
    }
   ],
   "source": [
    "np.random.uniform(1, 2, (3, 5))"
   ]
  },
  {
   "cell_type": "markdown",
   "metadata": {},
   "source": [
    "- **`normal(loc=0.0, scale=1.0, size=None)`**: Draws samples from a normal (Gaussian) distribution.\n"
   ]
  },
  {
   "cell_type": "code",
   "execution_count": 83,
   "metadata": {},
   "outputs": [
    {
     "data": {
      "text/plain": [
       "array([-6.67085791e-01, -1.17295252e+00, -9.94134051e-01,  5.61177578e-01,\n",
       "       -7.20496714e-02, -1.39846123e-01,  8.67732622e-01, -8.12354453e-02,\n",
       "        9.12869917e-02, -5.32312553e-01,  3.59392551e-01,  7.28192330e-02,\n",
       "       -3.95309610e-01,  1.33777469e+00, -3.23313714e-01, -1.65034590e+00,\n",
       "       -4.44439597e-01, -1.09089174e+00, -7.29558639e-02, -9.09552707e-02,\n",
       "        1.08956589e+00, -3.66363214e+00,  2.16809714e-01,  1.49575190e+00,\n",
       "       -9.54826935e-01,  2.96420493e+00,  5.98854396e-01, -1.53949532e+00,\n",
       "        6.62641227e-01, -1.67477616e+00,  1.71883082e+00, -6.85965345e-01,\n",
       "        2.52913069e+00, -3.48429750e-01,  1.80268741e+00,  1.85915639e+00,\n",
       "        1.27474392e+00, -8.15350130e-01, -1.74465949e+00, -2.32360446e-01,\n",
       "        5.43911210e-01,  3.23057816e-01, -6.83311394e-01,  8.24749853e-01,\n",
       "        2.10060410e-01,  1.00676448e+00,  9.97692297e-01, -5.41573284e-01,\n",
       "       -3.10608996e-01, -1.30699039e+00,  3.07105071e-01, -1.00416083e+00,\n",
       "       -6.45840796e-01,  9.34298234e-01,  8.36661059e-02,  2.17820501e-01,\n",
       "       -1.78505718e-01, -1.85943481e-01, -3.48476749e-01,  4.90251185e-01,\n",
       "       -1.35236070e-02,  3.40193574e-02,  1.02889597e+00,  2.03576283e+00,\n",
       "       -7.05174832e-01, -1.27298115e+00,  7.21849417e-01, -2.10956538e-01,\n",
       "       -8.09389636e-01,  1.00744047e+00, -2.32123697e-01,  1.53554928e+00,\n",
       "        4.84298954e-01,  7.65865057e-01,  1.46811697e+00,  7.08721766e-01,\n",
       "        1.14870091e+00, -7.66337437e-01, -6.90697732e-02, -2.73676217e-01,\n",
       "        6.74223676e-02,  4.49035771e-01,  1.62876023e+00, -2.09712700e-03,\n",
       "        1.69233228e+00,  1.04178030e+00, -5.69307033e-01,  4.28206375e-01,\n",
       "       -4.63845080e-01, -1.24940044e+00,  2.01973341e+00,  2.58574362e+00,\n",
       "       -6.88636737e-01, -3.04629913e-01,  2.18852169e+00, -2.34010770e+00,\n",
       "       -1.36825659e+00,  8.40763706e-01, -1.07425215e+00, -2.68844400e-01,\n",
       "        2.01061133e+00,  9.71246382e-01,  1.20499173e+00,  3.74948858e-01,\n",
       "        1.61569882e+00,  2.46273675e-01,  9.26311830e-01, -1.43668568e+00,\n",
       "        1.12038406e+00, -5.73818534e-01, -2.25653885e+00,  1.96268707e-01,\n",
       "       -9.01727107e-01, -6.10750785e-02,  4.46988879e-01,  2.26727765e-01,\n",
       "        1.57681895e+00,  5.86443870e-01, -2.05165579e+00, -1.18765651e+00,\n",
       "       -3.74383182e-01,  1.85070829e+00,  7.94178959e-01,  3.67248950e-01,\n",
       "        1.95670769e+00,  4.82280676e-01,  8.32304204e-01,  3.88502481e-01,\n",
       "        6.37399407e-01,  7.86157670e-01, -1.91748662e-01,  5.75127227e-01,\n",
       "       -6.76972915e-03,  3.48844245e-01,  1.19320514e-03,  1.26166314e+00,\n",
       "        1.00977444e+00,  2.97267966e-01, -3.99662190e-03, -5.38352950e-01,\n",
       "        1.34858930e+00, -2.58635078e+00,  1.63172263e+00, -6.65516514e-01,\n",
       "        1.45691855e-01, -2.56272534e-02,  3.29989743e-01, -2.81487536e-01,\n",
       "        1.11320107e+00,  2.26871411e+00, -2.99263309e-01, -4.30293830e-01,\n",
       "        9.37001290e-01, -1.12185534e+00, -2.58332112e-01, -1.11290244e+00,\n",
       "        7.40429602e-01,  1.71697125e+00,  1.34076585e+00,  1.11080645e+00,\n",
       "       -6.02022704e-01, -1.46681511e+00, -2.46300482e-01,  1.48477066e+00,\n",
       "       -6.46329671e-02, -2.05039232e+00, -4.11272726e-01,  5.10180897e-01,\n",
       "       -6.09850154e-01, -7.08722040e-01, -1.55423625e+00, -1.20460967e-01,\n",
       "       -1.30817787e+00,  1.64081003e+00,  4.24208907e-01,  7.94420615e-01,\n",
       "       -1.08490452e+00,  1.39510907e+00, -5.95431927e-01, -6.23506781e-01,\n",
       "       -2.01222759e-01,  2.31943716e-01, -5.50744922e-01,  2.11051904e-01,\n",
       "       -1.76492837e+00,  1.09539102e-01, -2.66046766e-02,  1.08921056e+00,\n",
       "        5.77386975e-01,  5.42958714e-01, -1.01155529e+00, -1.22330726e-01,\n",
       "        1.83299084e-01, -1.15101249e+00, -1.58322829e+00,  1.56418535e-01,\n",
       "        1.32479073e+00,  7.31947263e-01,  9.28384352e-01, -1.20166641e-02,\n",
       "        4.95200199e-01, -1.15081673e+00, -8.17673636e-01, -1.04731098e+00,\n",
       "       -4.40868621e-01, -6.67325251e-01,  2.33991645e-01,  2.53803427e-01,\n",
       "        4.60090596e-01, -6.18742318e-01,  9.36415991e-01,  1.51071506e-02,\n",
       "        5.25049135e-01,  3.99699575e-01,  3.13780294e-01,  9.51811555e-01,\n",
       "        6.46685105e-01,  2.22176383e+00,  3.91542963e-01, -8.65919353e-01,\n",
       "        1.10680716e+00,  1.03649451e+00, -1.19312526e+00, -6.68940445e-01,\n",
       "       -1.24015644e+00, -4.41113784e-01, -4.51909679e-01, -4.94274856e-01,\n",
       "        1.32646725e+00,  2.19570016e-01,  3.16112244e-01,  3.88533383e-01,\n",
       "       -1.75147153e-01, -8.40947163e-02,  4.50473584e-01, -1.79043816e-01,\n",
       "       -1.62360611e+00, -1.46196133e+00,  4.99308066e-01, -4.78006115e-01,\n",
       "       -3.73627174e-01,  1.03653295e+00,  9.74275770e-01,  2.18020291e-01,\n",
       "        4.06938883e-01,  4.03161103e-02,  2.24741407e-01, -1.77628550e+00,\n",
       "        2.39820221e+00,  1.27136962e+00,  1.88686928e+00,  1.84797872e+00,\n",
       "       -4.48054260e-01,  5.06270194e-01, -9.35756201e-01, -5.22051697e-01,\n",
       "       -3.39427708e-01, -1.16825076e+00, -1.92707581e-01,  1.46122608e+00,\n",
       "       -6.92967373e-01,  2.06540827e-01, -6.47891165e-02, -1.43212204e+00,\n",
       "       -1.39117354e+00,  3.07534516e-01,  3.01659822e-01, -5.56123757e-01,\n",
       "       -1.77466613e-01, -1.61203836e+00,  1.20627125e+00,  3.85154321e-02,\n",
       "        2.23572043e-01, -3.55005857e-01, -7.82303310e-01, -2.08622319e+00,\n",
       "       -1.77095517e+00,  1.00732269e+00, -9.90481096e-01,  3.05132903e-01,\n",
       "       -3.54094834e-01,  1.34762877e+00, -8.09149359e-01, -1.00725098e+00,\n",
       "       -6.20854834e-01, -9.55780484e-01, -2.01822943e+00,  8.73003522e-02,\n",
       "       -5.79660254e-01,  1.70296811e+00, -6.05630131e-01, -8.72213303e-01,\n",
       "       -5.83450855e-01,  2.28147180e+00,  8.70572448e-01,  7.53152924e-01,\n",
       "        9.66214560e-01,  2.25258614e-01, -4.99642482e-01, -5.73733976e-01,\n",
       "        9.57775717e-01, -6.08032901e-01, -1.16110990e+00,  4.53420291e-01,\n",
       "        7.48243731e-01,  5.83057378e-02, -9.11011950e-01,  1.37439001e+00,\n",
       "       -1.10739611e+00, -8.14159541e-01, -3.67274563e-02, -4.77218471e-01,\n",
       "        1.47807070e+00, -6.09905805e-01, -1.66189677e+00,  2.80551614e-01,\n",
       "        9.88487359e-01,  6.88768320e-01, -2.35128057e+00,  1.68997210e+00,\n",
       "        6.35617748e-01, -6.50240057e-01, -3.23221965e+00, -1.08603495e+00,\n",
       "       -1.26282467e+00, -1.11583556e+00,  6.60291416e-01, -4.34996177e-01,\n",
       "        5.35900516e-01,  5.01621103e-01, -1.15403113e-01,  1.00091841e-01,\n",
       "       -1.96638266e-01, -5.60713761e-01,  1.82238479e+00,  1.42855020e+00,\n",
       "        1.43191533e+00,  3.88702306e-01, -1.53476962e+00,  5.41010155e-01,\n",
       "       -1.30628567e+00, -4.07133397e-01, -4.26001302e-01, -2.76218887e-01,\n",
       "        8.59917555e-01,  9.31872615e-01,  1.65178521e-01, -1.51935954e-01,\n",
       "       -4.76051005e-01,  1.48410202e+00, -3.06370896e-01, -2.10681828e+00,\n",
       "       -8.58799898e-01,  3.37073422e-01,  9.24585763e-01, -9.28391726e-01,\n",
       "        9.06474894e-01,  8.54867618e-01, -3.65853658e-01, -1.07904674e+00,\n",
       "       -3.83496431e-01,  1.53329927e+00, -4.34597252e-01, -2.01726647e-01,\n",
       "       -6.71442883e-01, -7.05378540e-01, -2.31502786e-01,  1.24674564e+00,\n",
       "       -2.70907152e-01,  5.75001611e-01, -2.39566310e-01, -4.62927707e-01,\n",
       "        2.08105579e-01, -5.87501428e-01, -1.30899788e+00, -8.34127376e-01,\n",
       "        2.06485688e+00, -3.60513015e-01,  1.82171402e-03, -1.76847190e+00,\n",
       "       -1.62292153e+00,  2.19376172e+00,  2.28226643e-01,  2.20163988e+00,\n",
       "       -8.40243945e-01,  1.38165756e+00,  1.24235046e+00,  2.57866946e-02,\n",
       "       -2.20994391e+00,  4.50107088e-01,  3.19620447e-01, -9.19676677e-01,\n",
       "        1.25165938e+00,  6.19461146e-01,  1.76416676e-01,  1.87846556e-01,\n",
       "        5.26082995e-01, -7.38165423e-02, -3.19947716e-01,  1.20900417e+00,\n",
       "        2.74928407e-02,  2.56178818e-01, -1.53334051e-01, -1.17560183e+00,\n",
       "        9.58873145e-01, -2.57402482e+00,  2.38315385e+00, -4.93841296e-01,\n",
       "       -1.96107327e+00,  6.51345986e-02, -1.54014828e+00, -3.67974169e-01,\n",
       "       -8.57548561e-01,  3.10640941e-01,  8.07602732e-01, -5.59343791e-01,\n",
       "        2.16607069e-01,  2.40461176e-01, -1.65801582e+00, -1.19593369e+00,\n",
       "        8.40006178e-02, -5.34133355e-02, -1.12736833e+00,  1.04814450e+00,\n",
       "        3.08126166e-01, -7.97980143e-01,  7.25575554e-01,  9.03346465e-01,\n",
       "       -1.94167846e-01,  1.17989345e+00, -2.59689881e-01,  1.99378740e+00,\n",
       "       -2.87865957e-01, -3.18584770e-01,  7.62904374e-01, -6.23873470e-01,\n",
       "        7.26329141e-01, -2.33388676e-01,  6.72959195e-01, -5.56904732e-01,\n",
       "       -3.74621055e-01,  5.31188354e-02, -5.70037600e-01,  1.44344371e+00,\n",
       "        4.39951568e-01,  4.44754890e-01,  9.56721718e-01, -1.06037682e+00,\n",
       "        9.54002698e-01, -4.21284422e-01, -1.17906397e-01,  1.49063957e+00,\n",
       "        1.97693295e-04,  1.88291037e+00,  4.39157640e-01,  2.05931193e-01,\n",
       "       -7.25127398e-01,  4.04992459e-01, -1.10657728e+00,  6.01074400e-01,\n",
       "        3.32867159e-01,  1.01440133e-01, -2.34304189e-01, -1.21754908e+00,\n",
       "        3.74359080e-01,  1.80283507e+00, -1.72543162e+00, -1.35236736e+00,\n",
       "       -4.49736016e-01, -3.93815286e-01, -1.70373728e-01,  3.24275252e-01,\n",
       "       -3.58070395e-01, -7.16961953e-02,  1.89394429e+00, -2.12007824e-01,\n",
       "        8.72954433e-01,  9.57014868e-02, -1.47548256e+00,  6.76401167e-01,\n",
       "       -5.03338814e-01, -3.61934664e-01, -1.63752983e+00, -3.39251910e-01,\n",
       "       -9.12300614e-01,  2.36096951e-01, -1.22823575e+00, -2.39449281e-01,\n",
       "       -2.76142819e-01,  9.23507697e-01, -1.14451744e+00,  9.12753203e-02,\n",
       "       -1.60519431e+00,  1.99382559e+00,  1.32178546e+00, -8.15987456e-01,\n",
       "        3.86314356e-02,  7.11442783e-02, -2.74241891e-01,  1.13434032e+00,\n",
       "       -5.94753498e-01,  2.41721174e-01, -5.21089924e-01,  2.48225794e-01,\n",
       "       -1.12273926e+00,  8.74772433e-01,  1.37372868e+00,  1.02886519e-01,\n",
       "       -3.00590188e-01, -4.95658252e-01,  1.42767987e+00, -1.63835459e+00,\n",
       "        2.33224262e-01,  5.09772761e-01,  2.82174589e-01, -8.41226487e-02,\n",
       "       -1.81806517e+00, -1.18749027e+00, -4.05974406e-01, -1.35018340e+00,\n",
       "        1.49902097e-01,  1.00084096e-01,  2.26611260e-01, -2.32527553e+00,\n",
       "        8.43373063e-02,  1.69061610e+00,  1.36206346e+00,  3.52562579e-01,\n",
       "       -1.90391383e+00,  3.23152455e+00, -2.03357493e-01, -9.44259715e-01,\n",
       "        9.52925361e-01,  2.71325006e-01, -4.24862378e-02,  4.50604373e-01,\n",
       "        1.61801923e+00,  1.06621692e+00, -2.00971196e+00,  2.27631299e-01,\n",
       "       -7.76222518e-01, -1.64467394e-01, -4.49148357e-02,  2.67865701e-01,\n",
       "       -1.37994754e+00,  1.49494628e+00, -1.34055852e+00,  2.56193964e-01,\n",
       "        1.17413848e+00, -2.22432336e+00,  4.37612912e-01,  2.19345143e+00,\n",
       "        9.42858871e-01,  1.26266242e+00,  8.81394103e-01,  1.84181415e+00,\n",
       "        8.89632891e-02,  6.58481096e-02, -5.79689387e-01,  2.06639552e+00,\n",
       "        5.04962878e-01, -1.01115192e-01,  9.14581196e-01,  3.97041361e-01,\n",
       "        8.36494256e-01, -1.21804561e+00,  4.28188104e-01,  1.77489317e+00,\n",
       "       -8.21616787e-01,  6.27986766e-01, -2.23553892e+00, -7.01436105e-01,\n",
       "       -9.09535308e-01,  4.45346808e-01,  5.63416774e-01, -5.06336161e-01,\n",
       "       -2.34160428e+00, -9.06409321e-01,  7.03136397e-01,  8.83335057e-03,\n",
       "       -3.12016310e-01, -1.63823012e+00,  1.62120296e+00, -1.05556962e+00,\n",
       "       -2.58115026e-01,  3.78182479e-01,  7.62014185e-01, -6.39908666e-01,\n",
       "        2.07363750e-01, -2.65649315e-01,  9.25653792e-01, -8.32587903e-01,\n",
       "        3.18152745e-01,  1.05509318e+00,  3.47310752e-01,  5.20977384e-01,\n",
       "       -1.36918882e+00,  3.51373632e-01,  1.43562545e+00, -1.71863185e+00,\n",
       "       -1.17640604e+00,  8.40362609e-01, -1.26449610e+00,  6.00865372e-02,\n",
       "        1.56380751e-01, -1.36491216e+00,  6.53947187e-01, -3.63512646e-01,\n",
       "       -1.06000847e+00,  4.70395194e-01,  9.75822198e-01,  9.19733640e-01,\n",
       "       -1.02159752e+00, -4.60490755e-01,  8.65005520e-02,  5.20977287e-01,\n",
       "       -1.06233061e+00,  1.28961831e+00,  2.03935823e-01, -2.69728569e+00,\n",
       "        1.21899704e+00, -1.95052540e+00, -1.18844992e+00,  7.06422408e-01,\n",
       "        1.72594044e-01,  4.13922754e-01, -3.71299706e-02, -4.33562241e-01,\n",
       "        2.25731036e+00,  1.23672296e+00,  1.33038319e+00, -1.79440289e-01,\n",
       "        8.60949535e-01, -1.12756089e+00,  4.55658167e-01,  7.00368842e-01,\n",
       "       -2.37345199e-01, -3.76697161e-01, -3.42916861e-01, -4.95615942e-01,\n",
       "        5.10374305e-01,  5.72011181e-01,  4.29049085e-01,  3.12602667e+00,\n",
       "       -1.27010222e+00,  1.19164251e+00, -9.38522318e-01, -1.75010310e+00,\n",
       "       -6.96045252e-02,  3.55435255e-01,  9.93059047e-01, -1.28022332e+00,\n",
       "       -1.03226120e+00, -1.74961778e+00, -9.80266622e-01,  7.09729717e-01,\n",
       "       -4.82903311e-01, -1.98154403e+00, -1.15669163e+00, -5.74332825e-01,\n",
       "        4.71120595e-01,  3.87760571e-01, -2.39509624e-01,  1.21586897e-01,\n",
       "       -6.90102512e-01,  1.03355871e+00, -2.38386665e-01, -1.08222151e-01,\n",
       "        1.56110841e+00,  5.91263478e-01, -6.32050469e-01,  2.82643872e-01,\n",
       "       -4.46978938e-01, -1.45489352e+00,  1.48990360e+00, -7.01693715e-01,\n",
       "        3.77329460e-01, -1.49501778e+00, -8.04551608e-01,  2.68191600e+00,\n",
       "       -2.07103805e+00,  1.23887643e+00,  4.97422077e-01, -3.39537731e-01,\n",
       "       -7.15321973e-01,  1.11587615e+00, -4.30806556e-01, -2.84632479e-01,\n",
       "       -4.13579852e-01,  9.61499294e-01, -1.90275919e+00, -9.31199060e-01,\n",
       "       -1.57744587e-01,  1.29894730e+00,  1.05003504e+00,  1.29741078e-01,\n",
       "       -1.26754190e+00,  9.96627908e-01,  1.36525286e+00,  1.12282793e+00,\n",
       "       -4.47261805e-01, -1.25960403e+00, -2.33633122e+00, -5.13375453e-02,\n",
       "        5.78066711e-01, -9.73747919e-01, -5.05584603e-01,  9.20011644e-01,\n",
       "       -8.72010443e-03, -2.77674950e-01,  4.48699876e-01,  1.51457664e-01,\n",
       "        1.34953491e+00, -1.42774477e+00,  2.03902292e-01,  4.40125637e-01,\n",
       "        2.03367373e+00,  6.45185604e-01,  5.88683176e-01, -6.97398726e-01,\n",
       "       -6.77719135e-01, -9.71061321e-01, -1.22920681e+00,  9.85784378e-01,\n",
       "        1.53150195e+00,  3.18271061e-01,  6.25200725e-01,  9.44866591e-01,\n",
       "        1.20359280e+00,  6.65547449e-01, -7.18693375e-01, -1.34913660e+00,\n",
       "        5.65980356e-01,  8.88362178e-01,  9.47483568e-01, -8.38582473e-01,\n",
       "        4.51316912e-01, -4.21925054e-01,  5.54743962e-01,  2.06686974e-01,\n",
       "        1.83409999e-01,  5.93059163e-01, -6.12624985e-01,  1.54265312e+00,\n",
       "        1.85225947e+00, -1.44366410e-01,  2.21437606e-01, -1.29852533e-01,\n",
       "        1.72268564e-02, -1.36641531e+00,  2.84264046e-01, -8.32198125e-01,\n",
       "       -1.76057388e+00, -5.68926505e-01,  1.17247640e+00,  2.50411226e-01,\n",
       "       -7.22301280e-02,  7.63169378e-01,  1.83959821e+00, -6.78895676e-01,\n",
       "       -1.98643973e+00, -3.59742724e-01, -3.47775770e-01, -1.25842075e-01,\n",
       "        1.78953902e-01, -7.21197989e-01, -9.90007197e-02,  8.64039846e-01,\n",
       "        1.21261836e+00, -4.36536872e-01, -6.31782355e-01,  1.00050645e+00,\n",
       "        2.91144641e-01,  1.73485937e-01,  4.96173037e-01,  5.82496670e-01,\n",
       "        1.18066920e+00,  1.67440718e+00,  1.26833285e+00,  7.95851701e-01,\n",
       "       -1.56672732e+00, -1.29742781e+00, -6.85208984e-01, -3.38110902e-01,\n",
       "       -1.04350226e+00, -8.61593690e-03, -9.13750432e-01, -4.55501287e-01,\n",
       "        2.54121784e+00, -6.38160460e-02, -1.39089638e+00,  1.68085132e-01,\n",
       "       -5.08984523e-01,  1.08833737e-01,  9.08960324e-01,  5.51365156e-01,\n",
       "        1.07735566e+00,  1.10849554e+00, -1.24937663e+00,  2.68571133e+00,\n",
       "       -6.69091986e-01, -2.98465362e-01, -1.16794778e+00,  9.75704117e-03,\n",
       "        1.51108105e-02, -1.33629983e+00, -8.73493321e-01, -1.46707192e+00,\n",
       "        4.49603008e-01, -1.41962385e-02,  5.20598072e-03, -3.14347339e-01,\n",
       "       -1.77151343e+00, -5.59894256e-01,  1.54227622e+00, -2.60817559e+00,\n",
       "        1.17283655e+00, -6.00812527e-01, -8.47916041e-01,  4.61850123e-01,\n",
       "       -4.32779058e-01, -1.75762810e+00, -1.80824842e+00, -5.42462258e-01,\n",
       "       -2.65950840e-01, -4.74740393e-01, -1.34330974e+00, -2.73054185e-02,\n",
       "       -9.68126055e-01,  3.40993287e-01, -1.03408092e+00,  7.23794068e-01,\n",
       "       -4.50222656e-01,  9.10167324e-01, -3.57084261e-01,  4.16160083e-01,\n",
       "        1.19101391e+00, -4.24184883e-01, -1.70942015e+00, -2.47645476e+00,\n",
       "        1.07279240e+00,  1.48078236e+00,  3.54208809e-01, -7.11308960e-01,\n",
       "        3.10984013e-01, -1.77859425e+00,  7.75994843e-01, -1.65044381e+00,\n",
       "        7.24021205e-01,  3.08912538e-01, -5.13713666e-01, -2.26227312e-02,\n",
       "        1.42935109e+00, -9.53659645e-01,  2.75037503e-01,  1.04153777e+00,\n",
       "        5.61687211e-01,  8.38607506e-01,  1.54422977e+00,  4.20635493e-01,\n",
       "        1.43867978e+00, -9.08671151e-01,  1.27872028e-01,  1.58085104e+00,\n",
       "        1.48893213e+00,  5.31706668e-01,  5.63683316e-01, -3.73065373e-01,\n",
       "       -5.43288746e-01,  1.51648656e-01, -1.19063308e+00,  5.67186702e-01,\n",
       "        2.77824623e-01, -8.94211607e-02,  1.78530343e+00,  1.54174004e+00,\n",
       "        6.79660587e-01,  9.77413949e-01, -2.49254351e+00, -5.53633357e-01,\n",
       "        6.35933865e-01, -1.44474942e+00,  2.03521242e+00,  8.99332365e-01,\n",
       "       -7.45689571e-02,  1.25894726e-02, -3.22334741e+00,  5.50142154e-01,\n",
       "       -9.53576815e-01,  1.35413352e+00, -1.19325717e+00, -4.49917236e-01,\n",
       "        2.11185028e+00, -1.71368290e-01, -5.98021223e-01, -1.06716276e+00,\n",
       "       -1.51670526e+00, -4.75058408e-01, -2.39625649e-01,  1.97560101e+00,\n",
       "       -1.64575016e+00, -4.86216366e-01,  4.54849817e-01, -1.54127497e-01,\n",
       "        2.74973560e-01, -1.43540361e+00, -3.50942638e-01,  4.72003557e-01,\n",
       "       -9.96565008e-01,  4.23065542e-01,  3.64546540e-01,  5.39938513e-01,\n",
       "       -2.26030693e-01, -1.77283810e-01, -3.12702381e-01,  8.13311899e-01,\n",
       "       -2.37848126e-01, -1.67170192e+00,  4.69278352e-01,  9.73040387e-01,\n",
       "        8.38018575e-03,  3.37169749e-02, -9.84905611e-01, -2.11410948e+00,\n",
       "       -7.21559335e-01,  4.85539980e-01,  1.78464906e-01,  9.45817248e-01,\n",
       "       -1.86904366e+00,  2.27193745e+00,  6.60342440e-01, -8.82817633e-02,\n",
       "        1.58692949e-01,  3.77001884e-01,  6.06681774e-01,  1.08518609e+00,\n",
       "       -9.15034162e-01, -1.71600597e+00,  3.76104062e-01, -4.66469617e-01,\n",
       "        1.36689445e+00,  1.19965036e-01, -2.50941998e-01, -5.61142487e-01,\n",
       "        1.14406404e-02, -1.86504563e+00, -4.42955071e-01, -6.37541170e-01,\n",
       "       -2.17693782e+00,  1.73432135e+00,  2.89094995e-01, -7.71079477e-01,\n",
       "        4.04007947e-01, -1.68081024e+00,  1.44229495e+00, -1.84309167e+00,\n",
       "        2.38571371e-01, -5.33023689e-01,  5.75761894e-01, -8.40042368e-01,\n",
       "       -6.67868212e-01,  2.68545684e-01,  3.29470189e-01, -1.28927343e+00,\n",
       "       -5.67032830e-01,  3.80147298e-01, -6.84088241e-01,  8.50601023e-01,\n",
       "       -9.72487853e-01, -1.86141986e+00,  3.33439085e-01,  2.18853459e-01,\n",
       "        7.45082192e-02,  1.37718988e+00, -1.04439899e+00,  7.44717103e-01,\n",
       "       -1.07116574e+00,  3.96645735e-01, -6.34465749e-01, -9.89795783e-01,\n",
       "       -9.28748113e-01,  8.50870228e-01, -1.35406400e+00, -8.29815116e-01,\n",
       "       -1.38714515e+00, -7.59932984e-01, -1.91893971e-01,  1.25376941e+00,\n",
       "       -9.99378143e-01,  2.13643044e-01,  1.29478949e+00, -1.20347958e+00,\n",
       "       -4.91042303e-01,  8.66430354e-01,  2.36803257e-01, -7.69444686e-01,\n",
       "        7.93721018e-01,  1.80756590e-01, -6.87955769e-01, -1.76949990e+00])"
      ]
     },
     "execution_count": 83,
     "metadata": {},
     "output_type": "execute_result"
    }
   ],
   "source": [
    "data = np.random.normal(size=1000)\n",
    "data"
   ]
  },
  {
   "cell_type": "code",
   "execution_count": 72,
   "metadata": {},
   "outputs": [],
   "source": [
    "import matplotlib.pyplot as plt #type: ignore"
   ]
  },
  {
   "cell_type": "code",
   "execution_count": 85,
   "metadata": {},
   "outputs": [
    {
     "data": {
      "text/plain": [
       "<function matplotlib.pyplot.show(close=None, block=None)>"
      ]
     },
     "execution_count": 85,
     "metadata": {},
     "output_type": "execute_result"
    },
    {
     "data": {
      "image/png": "[encoded data removed]",
      "text/plain": [
       "<Figure size 640x480 with 1 Axes>"
      ]
     },
     "metadata": {},
     "output_type": "display_data"
    }
   ],
   "source": [
    "plt.hist(data, bins = 30, color='cyan', edgecolor = 'blue')\n",
    "plt.show"
   ]
  },
  {
   "cell_type": "markdown",
   "metadata": {},
   "source": [
    "- **`beta(a, b, size=None)`**: Draws samples from a beta distribution.\n"
   ]
  },
  {
   "cell_type": "code",
   "execution_count": 86,
   "metadata": {},
   "outputs": [
    {
     "data": {
      "text/plain": [
       "array([1.99658443e-01, 1.30230826e-04, 1.89057346e-01, 4.00598143e-01,\n",
       "       3.81751655e-02, 5.61232290e-01, 4.71795584e-03, 2.59789496e-01,\n",
       "       3.05539718e-02, 4.63876472e-01])"
      ]
     },
     "execution_count": 86,
     "metadata": {},
     "output_type": "execute_result"
    }
   ],
   "source": [
    "np.random.beta(1, 5, 10)"
   ]
  },
  {
   "cell_type": "markdown",
   "metadata": {},
   "source": [
    "- **`binomial(n, p, size=None)`**: Draws samples from a binomial distribution.\n"
   ]
  },
  {
   "cell_type": "code",
   "execution_count": null,
   "metadata": {},
   "outputs": [],
   "source": []
  },
  {
   "cell_type": "markdown",
   "metadata": {},
   "source": [
    "- **`chi2(df, size=None)`**: Draws samples from a chi-squared distribution.\n"
   ]
  },
  {
   "cell_type": "code",
   "execution_count": null,
   "metadata": {},
   "outputs": [],
   "source": []
  },
  {
   "cell_type": "markdown",
   "metadata": {},
   "source": [
    "- **`exponential(scale=1.0, size=None)`**: Draws samples from an exponential distribution.\n"
   ]
  },
  {
   "cell_type": "code",
   "execution_count": null,
   "metadata": {},
   "outputs": [],
   "source": []
  },
  {
   "cell_type": "markdown",
   "metadata": {},
   "source": [
    "- **`gamma(shape, scale=1.0, size=None)`**: Draws samples from a gamma distribution.\n"
   ]
  },
  {
   "cell_type": "code",
   "execution_count": null,
   "metadata": {},
   "outputs": [],
   "source": []
  },
  {
   "cell_type": "markdown",
   "metadata": {},
   "source": [
    "- **`geometric(p, size=None)`**: Draws samples from a geometric distribution.\n"
   ]
  },
  {
   "cell_type": "code",
   "execution_count": null,
   "metadata": {},
   "outputs": [],
   "source": []
  },
  {
   "cell_type": "markdown",
   "metadata": {},
   "source": [
    "- **`poisson(lam=1.0, size=None)`**: Draws samples from a Poisson distribution.\n"
   ]
  },
  {
   "cell_type": "code",
   "execution_count": null,
   "metadata": {},
   "outputs": [],
   "source": []
  },
  {
   "cell_type": "markdown",
   "metadata": {},
   "source": [
    "- **`standard_t(df, size=None)`**: Draws samples from a standard Student’s t-distribution."
   ]
  },
  {
   "cell_type": "code",
   "execution_count": null,
   "metadata": {},
   "outputs": [],
   "source": []
  },
  {
   "cell_type": "markdown",
   "metadata": {},
   "source": [
    "## Random Seed\n",
    "- **`seed(seed=None)`**: Seeds the random number generator for reproducibility.\n"
   ]
  },
  {
   "cell_type": "code",
   "execution_count": 1,
   "metadata": {},
   "outputs": [],
   "source": [
    "import numpy as np"
   ]
  },
  {
   "cell_type": "code",
   "execution_count": 2,
   "metadata": {},
   "outputs": [],
   "source": [
    "np.random.seed(1)"
   ]
  },
  {
   "cell_type": "code",
   "execution_count": 3,
   "metadata": {},
   "outputs": [
    {
     "data": {
      "text/plain": [
       "array([ 6, 12, 13,  9, 10, 12,  6, 16,  1, 17], dtype=int32)"
      ]
     },
     "execution_count": 3,
     "metadata": {},
     "output_type": "execute_result"
    }
   ],
   "source": [
    "np.random.randint(1, 20, 10)"
   ]
  },
  {
   "cell_type": "code",
   "execution_count": 3,
   "metadata": {},
   "outputs": [
    {
     "data": {
      "text/plain": [
       "array([ 6, 12, 13,  9, 10, 12,  6, 16,  1, 17], dtype=int32)"
      ]
     },
     "execution_count": 3,
     "metadata": {},
     "output_type": "execute_result"
    }
   ],
   "source": [
    "np.random.randint(1, 20, 10)"
   ]
  },
  {
   "cell_type": "code",
   "execution_count": 17,
   "metadata": {},
   "outputs": [],
   "source": [
    "#reset seed\n",
    "np.random.seed(None)"
   ]
  },
  {
   "cell_type": "markdown",
   "metadata": {},
   "source": [
    "## Random Permutations and Shuffling\n",
    "- **`shuffle(x)`**: Shuffles the sequence `x` in place.\n",
    "- **`permutation(x)`**: Returns a permuted sequence or array."
   ]
  },
  {
   "cell_type": "code",
   "execution_count": 18,
   "metadata": {},
   "outputs": [
    {
     "data": {
      "text/plain": [
       "array([34, 35, 30, 48, 28], dtype=int32)"
      ]
     },
     "execution_count": 18,
     "metadata": {},
     "output_type": "execute_result"
    }
   ],
   "source": [
    "a = np.random.randint(1, 50, 5)\n",
    "a"
   ]
  },
  {
   "cell_type": "code",
   "execution_count": 35,
   "metadata": {},
   "outputs": [
    {
     "data": {
      "text/plain": [
       "array([48, 28, 30, 34, 35], dtype=int32)"
      ]
     },
     "execution_count": 35,
     "metadata": {},
     "output_type": "execute_result"
    }
   ],
   "source": [
    "np.random.shuffle(a)\n",
    "a"
   ]
  },
  {
   "cell_type": "code",
   "execution_count": 49,
   "metadata": {},
   "outputs": [
    {
     "data": {
      "text/plain": [
       "array([48, 35, 34, 28, 30], dtype=int32)"
      ]
     },
     "execution_count": 49,
     "metadata": {},
     "output_type": "execute_result"
    }
   ],
   "source": [
    "a_permuted = np.random.permutation(a)\n",
    "a_permuted"
   ]
  }
 ],
 "metadata": {
  "kernelspec": {
   "display_name": "Python 3",
   "language": "python",
   "name": "python3"
  },
  "language_info": {
   "codemirror_mode": {
    "name": "ipython",
    "version": 3
   },
   "file_extension": ".py",
   "mimetype": "text/x-python",
   "name": "python",
   "nbconvert_exporter": "python",
   "pygments_lexer": "ipython3",
   "version": "3.12.3"
  }
 },
 "nbformat": 4,
 "nbformat_minor": 2
}
