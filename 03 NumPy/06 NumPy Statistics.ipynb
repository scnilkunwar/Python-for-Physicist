{
 "cells": [
  {
   "cell_type": "markdown",
   "metadata": {},
   "source": [
    "![Python for Physicist](https://github.com/scnilkunwar/Python-for-Physicist/blob/main/images/Banner.png?raw=true)"
   ]
  },
  {
   "cell_type": "markdown",
   "metadata": {},
   "source": [
    "<div align=\"center\">\n",
    "    \n",
    "![Numpy](https://raw.githubusercontent.com/numpy/numpy/main/branding/logo/primary/numpylogo.svg)\n",
    "  <h1> Python for Physicist - NumPy Statistics</h1>\n",
    "</div>"
   ]
  },
  {
   "cell_type": "markdown",
   "metadata": {},
   "source": [
    "<a href=\"https://numpy.org/devdocs/reference/routines.statistics.html\" \n",
    "style=\"display: inline-block; \n",
    "padding: 10px 20px; \n",
    "background-color: #4CAF50; \n",
    "color: white; \n",
    "text-align: center; \n",
    "text-decoration: none; \n",
    "border-radius: 5px;\">NumPy Statistics</a>"
   ]
  },
  {
   "cell_type": "markdown",
   "metadata": {},
   "source": [
    "# Statistics in Arrays\n",
    "\n",
    "## Order Statistics\n",
    "\n",
    "- **`ptp(a, axis, out, keepdims)`**  \n",
    "  Range of values (maximum - minimum) along an axis."
   ]
  },
  {
   "cell_type": "code",
   "execution_count": 1,
   "metadata": {},
   "outputs": [],
   "source": [
    "from numpy import *\n",
    "from numpy.random import *"
   ]
  },
  {
   "cell_type": "code",
   "execution_count": 2,
   "metadata": {},
   "outputs": [
    {
     "data": {
      "text/plain": [
       "np.int64(8)"
      ]
     },
     "execution_count": 2,
     "metadata": {},
     "output_type": "execute_result"
    }
   ],
   "source": [
    "ptp(array([1, 3, 2, 6, 8, 9, 1]))"
   ]
  },
  {
   "cell_type": "code",
   "execution_count": 3,
   "metadata": {},
   "outputs": [
    {
     "data": {
      "text/plain": [
       "array([[ 6,  8, 11,  0],\n",
       "       [ 2, 11, 15, 19],\n",
       "       [ 0,  1,  0,  9]], dtype=int32)"
      ]
     },
     "execution_count": 3,
     "metadata": {},
     "output_type": "execute_result"
    }
   ],
   "source": [
    "A = randint(0, 20, (3, 4))\n",
    "A"
   ]
  },
  {
   "cell_type": "code",
   "execution_count": 4,
   "metadata": {},
   "outputs": [
    {
     "data": {
      "text/plain": [
       "array([11, 17,  9], dtype=int32)"
      ]
     },
     "execution_count": 4,
     "metadata": {},
     "output_type": "execute_result"
    }
   ],
   "source": [
    "ptp(A, axis=1)"
   ]
  },
  {
   "cell_type": "markdown",
   "metadata": {},
   "source": [
    "- **`percentile(a, q, axis, out, ...)`**  \n",
    "  Compute the q-th percentile of the data along the specified axis."
   ]
  },
  {
   "cell_type": "code",
   "execution_count": 5,
   "metadata": {},
   "outputs": [
    {
     "data": {
      "text/plain": [
       "array([   4,   74,  127,  159,  160,  196,  200,  281,  329,  393,  412,\n",
       "        429,  436,  438,  442,  532,  539,  562,  583,  588,  618,  621,\n",
       "        627,  812,  849,  930,  952,  956, 1001, 1005, 1038, 1189, 1215,\n",
       "       1477, 1612, 1614, 1620, 1639, 1729, 1733, 1920, 1948, 1986, 2058,\n",
       "       2075, 2087, 2126, 2150, 2176, 2178, 2278, 2378, 2407, 2408, 2476,\n",
       "       2496, 2507, 2577, 2624, 2635, 2681, 2695, 2781, 2865, 2865, 2926,\n",
       "       2930, 3015, 3032, 3059, 3089, 3094, 3162, 3286, 3300, 3342, 3403,\n",
       "       3419, 3513, 3518, 3531, 3545, 3561, 3603, 3709, 3928, 4148, 4182,\n",
       "       4373, 4378, 4380, 4402, 4453, 4467, 4497, 4560, 4755, 4769, 4789,\n",
       "       4852, 4981], dtype=int32)"
      ]
     },
     "execution_count": 5,
     "metadata": {},
     "output_type": "execute_result"
    }
   ],
   "source": [
    "a = randint(1, 5000, 101)\n",
    "a.sort()\n",
    "a"
   ]
  },
  {
   "cell_type": "code",
   "execution_count": 6,
   "metadata": {},
   "outputs": [
    {
     "data": {
      "text/plain": [
       "np.float64(930.0)"
      ]
     },
     "execution_count": 6,
     "metadata": {},
     "output_type": "execute_result"
    }
   ],
   "source": [
    "percentile(a, 25)"
   ]
  },
  {
   "cell_type": "markdown",
   "metadata": {},
   "source": [
    "- **`nanpercentile(a, q, axis, out, ...)`**  \n",
    "  Compute the q-th percentile of the data along the specified axis, while ignoring NaN values."
   ]
  },
  {
   "cell_type": "code",
   "execution_count": null,
   "metadata": {},
   "outputs": [],
   "source": []
  },
  {
   "cell_type": "markdown",
   "metadata": {},
   "source": [
    "- **`quantile(a, q, axis, out, overwrite_input, ...)`**  \n",
    "  Compute the q-th quantile of the data along the specified axis."
   ]
  },
  {
   "cell_type": "code",
   "execution_count": 7,
   "metadata": {},
   "outputs": [
    {
     "data": {
      "text/plain": [
       "np.float64(930.0)"
      ]
     },
     "execution_count": 7,
     "metadata": {},
     "output_type": "execute_result"
    }
   ],
   "source": [
    "quantile(a, 0.25)"
   ]
  },
  {
   "cell_type": "markdown",
   "metadata": {},
   "source": [
    "\n",
    "- **`nanquantile(a, q, axis, out, ...)`**  \n",
    "  Compute the q-th quantile of the data along the specified axis, while ignoring NaN values."
   ]
  },
  {
   "cell_type": "code",
   "execution_count": null,
   "metadata": {},
   "outputs": [],
   "source": []
  },
  {
   "cell_type": "markdown",
   "metadata": {},
   "source": [
    "## Averages and Variances\n",
    "\n",
    "- **`median(a, axis, out, overwrite_input, keepdims)`**  \n",
    "  Compute the median along the specified axis."
   ]
  },
  {
   "cell_type": "code",
   "execution_count": null,
   "metadata": {},
   "outputs": [],
   "source": []
  },
  {
   "cell_type": "markdown",
   "metadata": {},
   "source": [
    "- **`average(a, axis, weights, returned, keepdims)`**  \n",
    "  Compute the weighted average along the specified axis."
   ]
  },
  {
   "cell_type": "code",
   "execution_count": null,
   "metadata": {},
   "outputs": [],
   "source": []
  },
  {
   "cell_type": "markdown",
   "metadata": {},
   "source": [
    "- **`mean(a, axis, dtype, out, keepdims, where)`**  \n",
    "  Compute the arithmetic mean along the specified axis."
   ]
  },
  {
   "cell_type": "code",
   "execution_count": null,
   "metadata": {},
   "outputs": [],
   "source": []
  },
  {
   "cell_type": "markdown",
   "metadata": {},
   "source": [
    "- **`std(a, axis, dtype, out, ddof, keepdims, ...])`**  \n",
    "  Compute the standard deviation along the specified axis."
   ]
  },
  {
   "cell_type": "code",
   "execution_count": null,
   "metadata": {},
   "outputs": [],
   "source": []
  },
  {
   "cell_type": "markdown",
   "metadata": {},
   "source": [
    "- **`var(a, axis, dtype, out, ddof, keepdims, ...)`**  \n",
    "  Compute the variance along the specified axis."
   ]
  },
  {
   "cell_type": "code",
   "execution_count": null,
   "metadata": {},
   "outputs": [],
   "source": []
  },
  {
   "cell_type": "markdown",
   "metadata": {},
   "source": [
    "- **`nanmedian(a, axis, out, overwrite_input, ...)`**  \n",
    "  Compute the median along the specified axis, while ignoring NaNs.\n",
    "\n",
    "- **`nanmean(a, axis, dtype, out, keepdims, where])`**  \n",
    "  Compute the arithmetic mean along the specified axis, ignoring NaNs.\n",
    "\n",
    "- **`nanstd(a, axis, dtype, out, ddof, ...)`**  \n",
    "  Compute the standard deviation along the specified axis, while ignoring NaNs.\n",
    "\n",
    "- **`nanvar(a, axis, dtype, out, ddof, ...)`**  \n",
    "  Compute the variance along the specified axis, while ignoring NaNs."
   ]
  },
  {
   "cell_type": "code",
   "execution_count": null,
   "metadata": {},
   "outputs": [],
   "source": []
  },
  {
   "cell_type": "markdown",
   "metadata": {},
   "source": [
    "## Correlating\n",
    "\n",
    "- **`corrcoef(x, y, rowvar, bias, ddof, dtype)`**  \n",
    "  Return Pearson product-moment correlation coefficients.\n",
    "\n",
    "- **`cov(m, y, rowvar, bias, ddof, fweights, ...)`**  \n",
    "  Estimate a covariance matrix, given data and weights."
   ]
  },
  {
   "cell_type": "code",
   "execution_count": 9,
   "metadata": {},
   "outputs": [
    {
     "data": {
      "text/plain": [
       "array([[ 1.        , -0.03734199],\n",
       "       [-0.03734199,  1.        ]])"
      ]
     },
     "execution_count": 9,
     "metadata": {},
     "output_type": "execute_result"
    }
   ],
   "source": [
    "x = randint(1, 50, 10)\n",
    "y = randint(1, 50, 10)\n",
    "corr_coeff = corrcoef(x, y)\n",
    "corr_coeff"
   ]
  },
  {
   "cell_type": "code",
   "execution_count": 12,
   "metadata": {},
   "outputs": [
    {
     "name": "stdout",
     "output_type": "stream",
     "text": [
      "Covariance matrix:\n",
      " [[19.5  24.75]\n",
      " [24.75 33.2 ]]\n"
     ]
    }
   ],
   "source": [
    "# Two sample datasets (e.g., exam scores for two subjects)\n",
    "scores_exam1 = [85, 87, 90, 78, 85]\n",
    "scores_exam2 = [82, 88, 91, 76, 84]\n",
    "\n",
    "# Stack the datasets\n",
    "data = array([scores_exam1, scores_exam2])\n",
    "\n",
    "# Calculate covariance matrix\n",
    "cov_matrix = cov(data)\n",
    "\n",
    "print(\"Covariance matrix:\\n\", cov_matrix)"
   ]
  },
  {
   "cell_type": "markdown",
   "metadata": {},
   "source": [
    "## Histograms\n",
    "\n",
    "- **`histogram(a, bins, range, density, weights)`**  \n",
    "  Compute the histogram of a dataset."
   ]
  },
  {
   "cell_type": "code",
   "execution_count": 14,
   "metadata": {},
   "outputs": [
    {
     "name": "stdout",
     "output_type": "stream",
     "text": [
      "Histogram counts: [  7  25  92 145 240 208 166  82  28   6]\n",
      "Bin edges: [-3.  -2.4 -1.8 -1.2 -0.6  0.   0.6  1.2  1.8  2.4  3. ]\n"
     ]
    }
   ],
   "source": [
    "# Generate some random data\n",
    "data = normal(0, 1, 1000)  # 1000 points with a normal distribution\n",
    "\n",
    "# Compute the histogram\n",
    "hist, bin_edges = histogram(data, bins=10, range=(-3, 3))\n",
    "\n",
    "print(\"Histogram counts:\", hist)\n",
    "print(\"Bin edges:\", bin_edges)"
   ]
  },
  {
   "cell_type": "markdown",
   "metadata": {},
   "source": [
    "## Additional Statistical Functions\n",
    "\n",
    "- **`trapezoid(y, x=None, dx=1.0, axis=-1)`**  \n",
    "  Integrate along the specified axis using the trapezoidal rule."
   ]
  },
  {
   "cell_type": "code",
   "execution_count": 18,
   "metadata": {},
   "outputs": [
    {
     "name": "stdout",
     "output_type": "stream",
     "text": [
      "Approximate integral: 333.35033840084344\n"
     ]
    }
   ],
   "source": [
    "# Define x and y\n",
    "x = linspace(0, 10, 100)       # 100 points from 0 to 10\n",
    "y = x ** 2                         # y = x^2\n",
    "\n",
    "# Compute the integral using np.trapz\n",
    "area = trapezoid(y, x)\n",
    "\n",
    "print(\"Approximate integral:\", area)"
   ]
  },
  {
   "cell_type": "markdown",
   "metadata": {},
   "source": [
    "- **`cumsum(a, axis=None, dtype=None, out=None)`**  \n",
    "  Return the cumulative sum of the elements along a given axis."
   ]
  },
  {
   "cell_type": "code",
   "execution_count": 19,
   "metadata": {},
   "outputs": [
    {
     "data": {
      "text/plain": [
       "array([ 1,  4,  9, 11, 18, 26, 29])"
      ]
     },
     "execution_count": 19,
     "metadata": {},
     "output_type": "execute_result"
    }
   ],
   "source": [
    "a = array([1, 3, 5,2, 7, 8, 3])\n",
    "a_cumsum = cumsum(a)\n",
    "a_cumsum"
   ]
  },
  {
   "cell_type": "markdown",
   "metadata": {},
   "source": [
    "- **`cumprod(a, axis=None, dtype=None, out=None)`**  \n",
    "  Return the cumulative product of the elements along a given axis."
   ]
  },
  {
   "cell_type": "code",
   "execution_count": null,
   "metadata": {},
   "outputs": [],
   "source": []
  },
  {
   "cell_type": "markdown",
   "metadata": {},
   "source": [
    "- **`diff(a, n=1, axis=-1, prepend=0, append=0)`**  \n",
    "  Calculate the n-th discrete difference along the given axis."
   ]
  },
  {
   "cell_type": "code",
   "execution_count": 20,
   "metadata": {},
   "outputs": [
    {
     "name": "stdout",
     "output_type": "stream",
     "text": [
      "Original array: [ 1  2  4  7 11 16]\n",
      "First difference: [1 2 3 4 5]\n",
      "Second difference: [1 1 1 1]\n"
     ]
    }
   ],
   "source": [
    "# Define a sample array\n",
    "data = array([1, 2, 4, 7, 11, 16])\n",
    "\n",
    "# Calculate the first difference\n",
    "first_diff = diff(data)\n",
    "\n",
    "# Calculate the second difference\n",
    "second_diff = diff(data, n=2)\n",
    "\n",
    "print(\"Original array:\", data)\n",
    "print(\"First difference:\", first_diff)\n",
    "print(\"Second difference:\", second_diff)\n"
   ]
  },
  {
   "cell_type": "markdown",
   "metadata": {},
   "source": [
    "- **`gradient(f, *varargs, axis=None, edge_order=1)`**  \n",
    "  Return the gradient of an N-dimensional array."
   ]
  },
  {
   "cell_type": "code",
   "execution_count": 23,
   "metadata": {},
   "outputs": [
    {
     "name": "stdout",
     "output_type": "stream",
     "text": [
      "x: [1 3 2 5 6 1 0]\n",
      "y: [  1  27   8 125 216   1   0]\n",
      "Gradient of y with respect to x: [ 13.  25.   9.  78. 103.   8.   1.]\n"
     ]
    }
   ],
   "source": [
    "# Define a simple 1D array representing function values\n",
    "x = array([1, 3, 2, 5, 6, 1, 0])\n",
    "y = x**3  # Example function y = x^2\n",
    "\n",
    "# Calculate the gradient (dy/dx)\n",
    "grad_y = gradient(y, x)\n",
    "\n",
    "print(\"x:\", x)\n",
    "print(\"y:\", y)\n",
    "print(\"Gradient of y with respect to x:\", grad_y)"
   ]
  },
  {
   "cell_type": "code",
   "execution_count": 34,
   "metadata": {},
   "outputs": [
    {
     "data": {
      "image/png": "[encoded data removed]",
      "text/plain": [
       "<Figure size 640x480 with 1 Axes>"
      ]
     },
     "metadata": {},
     "output_type": "display_data"
    }
   ],
   "source": [
    "x = linspace(-2*pi, 2*pi, 1000)\n",
    "y = cos(x)\n",
    "\n",
    "dydx = gradient(y, x)\n",
    "\n",
    "import matplotlib.pyplot as plt\n",
    "plt.plot(x, y, 'b')\n",
    "plt.plot(x, dydx, 'r')\n",
    "plt.show()"
   ]
  }
 ],
 "metadata": {
  "kernelspec": {
   "display_name": "Python 3",
   "language": "python",
   "name": "python3"
  },
  "language_info": {
   "codemirror_mode": {
    "name": "ipython",
    "version": 3
   },
   "file_extension": ".py",
   "mimetype": "text/x-python",
   "name": "python",
   "nbconvert_exporter": "python",
   "pygments_lexer": "ipython3",
   "version": "3.12.3"
  }
 },
 "nbformat": 4,
 "nbformat_minor": 2
}
