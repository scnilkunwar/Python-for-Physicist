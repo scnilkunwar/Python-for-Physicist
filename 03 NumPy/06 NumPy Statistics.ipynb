{
 "cells": [
  {
   "cell_type": "markdown",
   "metadata": {},
   "source": [
    "![Python for Physicist](https://github.com/scnilkunwar/Python-for-Physicist/blob/main/images/Banner.png?raw=true)"
   ]
  },
  {
   "cell_type": "markdown",
   "metadata": {},
   "source": [
    "<div align=\"center\">\n",
    "    \n",
    "![Numpy](https://raw.githubusercontent.com/numpy/numpy/main/branding/logo/primary/numpylogo.svg)\n",
    "  <h1> Python for Physicist - NumPy Statistics</h1>\n",
    "</div>"
   ]
  },
  {
   "cell_type": "markdown",
   "metadata": {},
   "source": [
    "<a href=\"https://numpy.org/devdocs/reference/routines.statistics.html\" \n",
    "style=\"display: inline-block; \n",
    "padding: 10px 20px; \n",
    "background-color: #4CAF50; \n",
    "color: white; \n",
    "text-align: center; \n",
    "text-decoration: none; \n",
    "border-radius: 5px;\">NumPy Statistics</a>"
   ]
  },
  {
   "cell_type": "markdown",
   "metadata": {},
   "source": [
    "# Statistics in Arrays\n",
    "\n",
    "## Order Statistics\n",
    "\n",
    "- **`ptp(a, axis, out, keepdims)`**  \n",
    "  Range of values (maximum - minimum) along an axis."
   ]
  },
  {
   "cell_type": "code",
   "execution_count": 1,
   "metadata": {},
   "outputs": [],
   "source": [
    "from numpy import *\n",
    "from numpy.random import *"
   ]
  },
  {
   "cell_type": "code",
   "execution_count": 2,
   "metadata": {},
   "outputs": [
    {
     "data": {
      "text/plain": [
       "np.int64(8)"
      ]
     },
     "execution_count": 2,
     "metadata": {},
     "output_type": "execute_result"
    }
   ],
   "source": [
    "ptp(array([1, 3, 2, 6, 8, 9, 1]))"
   ]
  },
  {
   "cell_type": "code",
   "execution_count": 3,
   "metadata": {},
   "outputs": [
    {
     "data": {
      "text/plain": [
       "array([[ 6,  8, 11,  0],\n",
       "       [ 2, 11, 15, 19],\n",
       "       [ 0,  1,  0,  9]], dtype=int32)"
      ]
     },
     "execution_count": 3,
     "metadata": {},
     "output_type": "execute_result"
    }
   ],
   "source": [
    "A = randint(0, 20, (3, 4))\n",
    "A"
   ]
  },
  {
   "cell_type": "code",
   "execution_count": 4,
   "metadata": {},
   "outputs": [
    {
     "data": {
      "text/plain": [
       "array([11, 17,  9], dtype=int32)"
      ]
     },
     "execution_count": 4,
     "metadata": {},
     "output_type": "execute_result"
    }
   ],
   "source": [
    "ptp(A, axis=1)"
   ]
  },
  {
   "cell_type": "markdown",
   "metadata": {},
   "source": [
    "- **`percentile(a, q, axis, out, ...)`**  \n",
    "  Compute the q-th percentile of the data along the specified axis."
   ]
  },
  {
   "cell_type": "code",
   "execution_count": 5,
   "metadata": {},
   "outputs": [
    {
     "data": {
      "text/plain": [
       "array([   4,   74,  127,  159,  160,  196,  200,  281,  329,  393,  412,\n",
       "        429,  436,  438,  442,  532,  539,  562,  583,  588,  618,  621,\n",
       "        627,  812,  849,  930,  952,  956, 1001, 1005, 1038, 1189, 1215,\n",
       "       1477, 1612, 1614, 1620, 1639, 1729, 1733, 1920, 1948, 1986, 2058,\n",
       "       2075, 2087, 2126, 2150, 2176, 2178, 2278, 2378, 2407, 2408, 2476,\n",
       "       2496, 2507, 2577, 2624, 2635, 2681, 2695, 2781, 2865, 2865, 2926,\n",
       "       2930, 3015, 3032, 3059, 3089, 3094, 3162, 3286, 3300, 3342, 3403,\n",
       "       3419, 3513, 3518, 3531, 3545, 3561, 3603, 3709, 3928, 4148, 4182,\n",
       "       4373, 4378, 4380, 4402, 4453, 4467, 4497, 4560, 4755, 4769, 4789,\n",
       "       4852, 4981], dtype=int32)"
      ]
     },
     "execution_count": 5,
     "metadata": {},
     "output_type": "execute_result"
    }
   ],
   "source": [
    "a = randint(1, 5000, 101)\n",
    "a.sort()\n",
    "a"
   ]
  },
  {
   "cell_type": "code",
   "execution_count": 6,
   "metadata": {},
   "outputs": [
    {
     "data": {
      "text/plain": [
       "np.float64(930.0)"
      ]
     },
     "execution_count": 6,
     "metadata": {},
     "output_type": "execute_result"
    }
   ],
   "source": [
    "percentile(a, 25)"
   ]
  },
  {
   "cell_type": "markdown",
   "metadata": {},
   "source": [
    "- **`nanpercentile(a, q, axis, out, ...)`**  \n",
    "  Compute the q-th percentile of the data along the specified axis, while ignoring NaN values."
   ]
  },
  {
   "cell_type": "code",
   "execution_count": null,
   "metadata": {},
   "outputs": [],
   "source": []
  },
  {
   "cell_type": "markdown",
   "metadata": {},
   "source": [
    "- **`quantile(a, q, axis, out, overwrite_input, ...)`**  \n",
    "  Compute the q-th quantile of the data along the specified axis."
   ]
  },
  {
   "cell_type": "code",
   "execution_count": 7,
   "metadata": {},
   "outputs": [
    {
     "data": {
      "text/plain": [
       "np.float64(930.0)"
      ]
     },
     "execution_count": 7,
     "metadata": {},
     "output_type": "execute_result"
    }
   ],
   "source": [
    "quantile(a, 0.25)"
   ]
  },
  {
   "cell_type": "markdown",
   "metadata": {},
   "source": [
    "\n",
    "- **`nanquantile(a, q, axis, out, ...)`**  \n",
    "  Compute the q-th quantile of the data along the specified axis, while ignoring NaN values."
   ]
  },
  {
   "cell_type": "code",
   "execution_count": null,
   "metadata": {},
   "outputs": [],
   "source": []
  },
  {
   "cell_type": "markdown",
   "metadata": {},
   "source": [
    "## Averages and Variances\n",
    "\n",
    "- **`median(a, axis, out, overwrite_input, keepdims)`**  \n",
    "  Compute the median along the specified axis."
   ]
  },
  {
   "cell_type": "code",
   "execution_count": null,
   "metadata": {},
   "outputs": [],
   "source": []
  },
  {
   "cell_type": "markdown",
   "metadata": {},
   "source": [
    "- **`average(a, axis, weights, returned, keepdims)`**  \n",
    "  Compute the weighted average along the specified axis."
   ]
  },
  {
   "cell_type": "code",
   "execution_count": null,
   "metadata": {},
   "outputs": [],
   "source": []
  },
  {
   "cell_type": "markdown",
   "metadata": {},
   "source": [
    "- **`mean(a, axis, dtype, out, keepdims, where)`**  \n",
    "  Compute the arithmetic mean along the specified axis."
   ]
  },
  {
   "cell_type": "code",
   "execution_count": null,
   "metadata": {},
   "outputs": [],
   "source": []
  },
  {
   "cell_type": "markdown",
   "metadata": {},
   "source": [
    "- **`std(a, axis, dtype, out, ddof, keepdims, ...])`**  \n",
    "  Compute the standard deviation along the specified axis."
   ]
  },
  {
   "cell_type": "code",
   "execution_count": null,
   "metadata": {},
   "outputs": [],
   "source": []
  },
  {
   "cell_type": "markdown",
   "metadata": {},
   "source": [
    "- **`var(a, axis, dtype, out, ddof, keepdims, ...)`**  \n",
    "  Compute the variance along the specified axis."
   ]
  },
  {
   "cell_type": "code",
   "execution_count": null,
   "metadata": {},
   "outputs": [],
   "source": []
  },
  {
   "cell_type": "markdown",
   "metadata": {},
   "source": [
    "- **`nanmedian(a, axis, out, overwrite_input, ...)`**  \n",
    "  Compute the median along the specified axis, while ignoring NaNs.\n",
    "\n",
    "- **`nanmean(a, axis, dtype, out, keepdims, where])`**  \n",
    "  Compute the arithmetic mean along the specified axis, ignoring NaNs.\n",
    "\n",
    "- **`nanstd(a, axis, dtype, out, ddof, ...)`**  \n",
    "  Compute the standard deviation along the specified axis, while ignoring NaNs.\n",
    "\n",
    "- **`nanvar(a, axis, dtype, out, ddof, ...)`**  \n",
    "  Compute the variance along the specified axis, while ignoring NaNs."
   ]
  },
  {
   "cell_type": "code",
   "execution_count": null,
   "metadata": {},
   "outputs": [],
   "source": []
  },
  {
   "cell_type": "markdown",
   "metadata": {},
   "source": [
    "## Correlating\n",
    "\n",
    "- **`corrcoef(x, y, rowvar, bias, ddof, dtype)`**  \n",
    "  Return Pearson product-moment correlation coefficients.\n",
    "\n",
    "- **`correlate(a, v, mode)`**  \n",
    "  Cross-correlation of two 1-dimensional sequences.\n",
    "\n",
    "- **`cov(m, y, rowvar, bias, ddof, fweights, ...)`**  \n",
    "  Estimate a covariance matrix, given data and weights."
   ]
  },
  {
   "cell_type": "code",
   "execution_count": 9,
   "metadata": {},
   "outputs": [
    {
     "data": {
      "text/plain": [
       "array([[ 1.        , -0.03734199],\n",
       "       [-0.03734199,  1.        ]])"
      ]
     },
     "execution_count": 9,
     "metadata": {},
     "output_type": "execute_result"
    }
   ],
   "source": [
    "x = randint(1, 50, 10)\n",
    "y = randint(1, 50, 10)\n",
    "corr_coeff = corrcoef(x, y)\n",
    "corr_coeff"
   ]
  },
  {
   "cell_type": "code",
   "execution_count": null,
   "metadata": {},
   "outputs": [],
   "source": []
  },
  {
   "cell_type": "markdown",
   "metadata": {},
   "source": [
    "## Histograms\n",
    "\n",
    "- **`histogram(a[, bins, range, density, weights])`**  \n",
    "  Compute the histogram of a dataset.\n",
    "\n",
    "- **`histogram2d(x, y[, bins, range, density, ...])`**  \n",
    "  Compute the bi-dimensional histogram of two data samples.\n",
    "\n",
    "- **`histogramdd(sample[, bins, range, density, ...])`**  \n",
    "  Compute the multidimensional histogram of some data.\n",
    "\n",
    "- **`bincount(x, /[, weights, minlength])`**  \n",
    "  Count number of occurrences of each value in an array of non-negative integers.\n",
    "\n",
    "- **`histogram_bin_edges(a[, bins, range, weights])`**  \n",
    "  Function to calculate only the edges of the bins used by the histogram function.\n",
    "\n",
    "- **`digitize(x, bins[, right])`**  \n",
    "  Return the indices of the bins to which each value in the input array belongs."
   ]
  },
  {
   "cell_type": "markdown",
   "metadata": {},
   "source": [
    "## Additional Statistical Functions\n",
    "\n",
    "- **`trapz(y, x=None, dx=1.0, axis=-1)`**  \n",
    "  Integrate along the specified axis using the trapezoidal rule.\n",
    "\n",
    "- **`cumsum(a, axis=None, dtype=None, out=None)`**  \n",
    "  Return the cumulative sum of the elements along a given axis.\n",
    "\n",
    "- **`cumprod(a, axis=None, dtype=None, out=None)`**  \n",
    "  Return the cumulative product of the elements along a given axis.\n",
    "\n",
    "- **`diff(a, n=1, axis=-1, prepend=0, append=0)`**  \n",
    "  Calculate the n-th discrete difference along the given axis.\n",
    "\n",
    "- **`ediff1d(ary, to_end=None, to_begin=None)`**  \n",
    "  Calculate the differences between consecutive elements of an array.\n",
    "\n",
    "- **`gradient(f, *varargs, axis=None, edge_order=1)`**  \n",
    "  Return the gradient of an N-dimensional array.\n",
    "\n",
    "- **`median_absolute_deviation(a, axis=0, center=np.median, scale=1.0)`**  \n",
    "  Compute the median absolute deviation of the data along the specified axis.\n",
    "\n",
    "- **`mode(a, axis=0, nan_policy='propagate')`**  \n",
    "  Return the mode(s) of the array, the most frequent value in the dataset.\n",
    "\n",
    "- **`skew(a, axis=0, bias=True, nan_policy='propagate')`**  \n",
    "  Compute the skewness of data along the specified axis.\n",
    "\n",
    "- **`kurtosis(a, axis=0, fisher=True, bias=True, nan_policy='propagate')`**  \n",
    "  Compute the kurtosis (degree of tailedness) of the data along the specified axis.\n"
   ]
  }
 ],
 "metadata": {
  "kernelspec": {
   "display_name": "Python 3",
   "language": "python",
   "name": "python3"
  },
  "language_info": {
   "codemirror_mode": {
    "name": "ipython",
    "version": 3
   },
   "file_extension": ".py",
   "mimetype": "text/x-python",
   "name": "python",
   "nbconvert_exporter": "python",
   "pygments_lexer": "ipython3",
   "version": "3.12.3"
  }
 },
 "nbformat": 4,
 "nbformat_minor": 2
}
