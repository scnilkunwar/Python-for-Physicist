{
 "cells": [
  {
   "cell_type": "markdown",
   "metadata": {},
   "source": [
    "<div align=\"center\">\n",
    "  <h1> Python for Physicist</h1>\n",
    "</div>\n",
    "\n",
    "![Python for Physicist](../images/Banner.png)"
   ]
  },
  {
   "cell_type": "markdown",
   "metadata": {},
   "source": [
    "<div align=\"center\">\n",
    "    \n",
    "![Numpy](https://raw.githubusercontent.com/numpy/numpy/main/branding/logo/primary/numpylogo.svg)\n",
    "  <h1> Python for Physicist - NumPy</h1>\n",
    "</div>"
   ]
  },
  {
   "cell_type": "markdown",
   "metadata": {},
   "source": [
    "<a href=\"https://numpy.org/doc/stable/user/index.html\" \n",
    "style=\"display: inline-block; \n",
    "padding: 10px 20px; \n",
    "background-color: #4CAF50; \n",
    "color: white; \n",
    "text-align: center; \n",
    "text-decoration: none; \n",
    "border-radius: 5px;\">NumPy Documentation</a>"
   ]
  },
  {
   "cell_type": "markdown",
   "metadata": {},
   "source": [
    "# Introduction to NumPy\n",
    "\n",
    "NumPy, short for *Numerical Python*, is a fundamental Python library for scientific computing. It provides support for large, multi-dimensional arrays and matrices, along with a collection of mathematical functions to operate on these arrays. NumPy is highly efficient and widely used in data science, machine learning, and scientific research due to its speed, flexibility, and functionality.\n",
    "\n",
    "## Key Features of NumPy\n",
    "\n",
    "1. **N-Dimensional Array Object (`ndarray`)**: The core feature of NumPy is its powerful `ndarray` object, which supports fast and memory-efficient array operations. Unlike Python lists, NumPy arrays are homogenous and have a fixed size, allowing for optimized performance.\n",
    "\n",
    "2. **Mathematical and Statistical Functions**: NumPy provides a vast library of mathematical functions for calculations, including algebraic, trigonometric, and statistical operations. This allows for fast computations on entire arrays without the need for explicit loops.\n",
    "\n",
    "3. **Broadcasting**: Broadcasting is a feature that allows NumPy to perform operations on arrays of different shapes and sizes. It enables operations between arrays that would otherwise require reshaping.\n",
    "\n",
    "4. **Integration with Other Libraries**: NumPy serves as the foundation for many other scientific libraries in Python, such as Pandas, SciPy, and scikit-learn. Mastery of NumPy is essential for efficiently using these tools.\n",
    "\n",
    "5. **Vectorization**: NumPy’s vectorized operations make use of low-level implementations in C, allowing for faster computations. This helps avoid the need for writing slow Python loops for element-wise operations.\n",
    "\n",
    "### Importing NumPy\n",
    "To use NumPy, you need to import it, typically with the alias `np`:\n",
    "```python\n",
    "import numpy as np\n",
    "```\n",
    "\n",
    "## Why Use NumPy?\n",
    "NumPy provides a fast and efficient way to handle large datasets and numerical computations. Its array operations, broadcasting, and vectorization make it a highly optimized and flexible library for scientific computing in Python. Additionally, because NumPy is the base for many other libraries, learning it is essential for data analysis, machine learning, and scientific research in Python.\n"
   ]
  },
  {
   "cell_type": "code",
   "execution_count": null,
   "metadata": {},
   "outputs": [],
   "source": [
    "import numpy as np\n",
    "dir(np)"
   ]
  },
  {
   "cell_type": "code",
   "execution_count": null,
   "metadata": {},
   "outputs": [],
   "source": [
    "help(np)"
   ]
  }
 ],
 "metadata": {
  "kernelspec": {
   "display_name": "Python 3",
   "language": "python",
   "name": "python3"
  },
  "language_info": {
   "codemirror_mode": {
    "name": "ipython",
    "version": 3
   },
   "file_extension": ".py",
   "mimetype": "text/x-python",
   "name": "python",
   "nbconvert_exporter": "python",
   "pygments_lexer": "ipython3",
   "version": "3.12.3"
  }
 },
 "nbformat": 4,
 "nbformat_minor": 2
}
