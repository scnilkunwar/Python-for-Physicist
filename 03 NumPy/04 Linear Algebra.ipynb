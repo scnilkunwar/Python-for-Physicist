{
 "cells": [
  {
   "cell_type": "markdown",
   "metadata": {},
   "source": [
    "<div align=\"center\">\n",
    "    \n",
    "![Numpy](https://raw.githubusercontent.com/numpy/numpy/main/branding/logo/primary/numpylogo.svg)\n",
    "  <h1> Python for Physicist - Numpy Linear Algebra</h1>\n",
    "</div>"
   ]
  },
  {
   "cell_type": "markdown",
   "metadata": {},
   "source": [
    "<a href=\"https://numpy.org/doc/stable/reference/routines.linalg.html\" \n",
    "style=\"display: inline-block; \n",
    "padding: 10px 20px; \n",
    "background-color: #4CAF50; \n",
    "color: white; \n",
    "text-align: center; \n",
    "text-decoration: none; \n",
    "border-radius: 5px;\">NumPy linag</a>"
   ]
  },
  {
   "cell_type": "markdown",
   "metadata": {},
   "source": [
    "## Linear Algebra Functions in NumPy\n",
    "NumPy provides a wide array of functions for linear algebra, ranging from basic matrix operations to more advanced factorizations and decompositions. Below is a categorized list of key linear algebra functions in NumPy:"
   ]
  },
  {
   "cell_type": "markdown",
   "metadata": {},
   "source": [
    "## Basic Linear Algebra Functions"
   ]
  },
  {
   "cell_type": "markdown",
   "metadata": {},
   "source": [
    "#### Matrix Multiplication\n",
    "\n",
    "`np.dot()`\n",
    "\n",
    "Description: Computes the dot product of two arrays or matrices."
   ]
  },
  {
   "cell_type": "code",
   "execution_count": 14,
   "metadata": {},
   "outputs": [
    {
     "data": {
      "text/plain": [
       "array([[19, 22],\n",
       "       [43, 50]])"
      ]
     },
     "execution_count": 14,
     "metadata": {},
     "output_type": "execute_result"
    }
   ],
   "source": [
    "import numpy as np\n",
    "# Dot product\n",
    "a = np. array ([[1 , 2], [3, 4]])\n",
    "b = np. array ([[5 , 6], [7, 8]])\n",
    "dot_product = np. dot(a, b) # can be done using @ operator\n",
    "dot_product"
   ]
  },
  {
   "cell_type": "markdown",
   "metadata": {},
   "source": [
    "`np.matmul()`\n",
    "\n",
    "Description: Performs matrix multiplication, equivalent to the dot product for 2-D\n",
    "arrays."
   ]
  },
  {
   "cell_type": "code",
   "execution_count": 3,
   "metadata": {},
   "outputs": [
    {
     "data": {
      "text/plain": [
       "array([[19, 22],\n",
       "       [43, 50]])"
      ]
     },
     "execution_count": 3,
     "metadata": {},
     "output_type": "execute_result"
    }
   ],
   "source": [
    "mat_product = np. matmul (a, b)\n",
    "mat_product"
   ]
  },
  {
   "cell_type": "markdown",
   "metadata": {},
   "source": [
    "`np.vdot()`\n",
    "\n",
    "Description: Computes the dot product of two vectors."
   ]
  },
  {
   "cell_type": "code",
   "execution_count": 5,
   "metadata": {},
   "outputs": [
    {
     "name": "stdout",
     "output_type": "stream",
     "text": [
      "17\n"
     ]
    }
   ],
   "source": [
    "vdot_product = np. vdot (a[0] , b [0])\n",
    "print(vdot_product)"
   ]
  },
  {
   "cell_type": "markdown",
   "metadata": {},
   "source": [
    "`np.cross()` \n",
    "\n",
    "The np.cross function in NumPy computes the cross product of two vectors."
   ]
  },
  {
   "cell_type": "code",
   "execution_count": 6,
   "metadata": {},
   "outputs": [
    {
     "name": "stdout",
     "output_type": "stream",
     "text": [
      "[-3  6 -3]\n"
     ]
    }
   ],
   "source": [
    "a = np.array([1, 2, 3])\n",
    "b = np.array([4, 5, 6])\n",
    "\n",
    "# Compute the cross product\n",
    "cross_product = np.cross(a, b)\n",
    "\n",
    "print(cross_product)"
   ]
  },
  {
   "cell_type": "markdown",
   "metadata": {},
   "source": [
    "### Transpose\n",
    "`np.transpose()`\n",
    "\n",
    "Description: Transposes the given array, flipping it over its diagonal."
   ]
  },
  {
   "cell_type": "code",
   "execution_count": 9,
   "metadata": {},
   "outputs": [
    {
     "name": "stdout",
     "output_type": "stream",
     "text": [
      "[[1 2]\n",
      " [3 4]]\n",
      "[[1 3]\n",
      " [2 4]]\n"
     ]
    }
   ],
   "source": [
    "a = np. array ([[1 , 2], [3, 4]])\n",
    "print(a)\n",
    "transposed_a = np.transpose(a)\n",
    "print(transposed_a)"
   ]
  },
  {
   "cell_type": "markdown",
   "metadata": {},
   "source": [
    "`np.swapaxes()`\n",
    "\n",
    "Description: Swaps two axes of an array."
   ]
  },
  {
   "cell_type": "code",
   "execution_count": 11,
   "metadata": {},
   "outputs": [
    {
     "data": {
      "text/plain": [
       "array([[1, 3],\n",
       "       [2, 4]])"
      ]
     },
     "execution_count": 11,
     "metadata": {},
     "output_type": "execute_result"
    }
   ],
   "source": [
    "swapped_axes = np. swapaxes (a, 0, 1)\n",
    "swapped_axes"
   ]
  },
  {
   "cell_type": "markdown",
   "metadata": {},
   "source": [
    "### Trace\n",
    "`np.trace`\n",
    "Description: Computes the sum of the diagonal elements of a matrix. "
   ]
  },
  {
   "cell_type": "code",
   "execution_count": 13,
   "metadata": {},
   "outputs": [
    {
     "data": {
      "text/plain": [
       "np.int64(5)"
      ]
     },
     "execution_count": 13,
     "metadata": {},
     "output_type": "execute_result"
    }
   ],
   "source": [
    "# Trace of an array\n",
    "trace_a = np.trace(a)\n",
    "trace_a"
   ]
  },
  {
   "cell_type": "markdown",
   "metadata": {},
   "source": [
    "## Solving Linear Systems\n",
    "#### Solve Ax = b\n",
    "`np.linalg.solve(a, b)`\n",
    "\n",
    "Description: Solves the linear equation Ax = b for x."
   ]
  },
  {
   "cell_type": "markdown",
   "metadata": {},
   "source": [
    "Solve the systemm of linear equation:\n",
    "\n",
    "$$\n",
    "3x + 2y = 7 \\\\\n",
    "x - 3y = -5\n",
    "$$"
   ]
  },
  {
   "cell_type": "code",
   "execution_count": 17,
   "metadata": {},
   "outputs": [
    {
     "name": "stdout",
     "output_type": "stream",
     "text": [
      "[1. 2.]\n"
     ]
    }
   ],
   "source": [
    "a = np.array([[3, 2],\n",
    "              [1, -3]])\n",
    "b = np. array ([7 , -5])\n",
    "x = np.linalg.solve (a, b)\n",
    "print(x)"
   ]
  },
  {
   "cell_type": "markdown",
   "metadata": {},
   "source": [
    "### Matrix Inversion\n",
    "`np.linalg.inv(a)`\n",
    "Description: Computes the inverse of a square matrix."
   ]
  },
  {
   "cell_type": "code",
   "execution_count": 19,
   "metadata": {},
   "outputs": [
    {
     "data": {
      "text/plain": [
       "array([[ 0.27272727,  0.18181818],\n",
       "       [ 0.09090909, -0.27272727]])"
      ]
     },
     "execution_count": 19,
     "metadata": {},
     "output_type": "execute_result"
    }
   ],
   "source": [
    "# Compute the inverse of a matrix\n",
    "inv_a = np.linalg.inv(a)\n",
    "inv_a"
   ]
  },
  {
   "cell_type": "markdown",
   "metadata": {},
   "source": [
    "#### Solving using inverse of matrix.\n",
    "\n",
    "Solve the systemm of linear equation:\n",
    "\n",
    "$$\n",
    "2x + y = -1 \\\\\n",
    "5x - 3y = -8\n",
    "$$"
   ]
  },
  {
   "cell_type": "code",
   "execution_count": 20,
   "metadata": {},
   "outputs": [
    {
     "name": "stdout",
     "output_type": "stream",
     "text": [
      "[-1.  1.]\n"
     ]
    }
   ],
   "source": [
    "a = np.array([[2, 1],\n",
    "              [5, -3]])\n",
    "b = np. array ([-1 , -8])\n",
    "inv_a = np.linalg.inv(a)\n",
    "x = inv_a @ b\n",
    "print(x)"
   ]
  },
  {
   "cell_type": "markdown",
   "metadata": {},
   "source": [
    "\n",
    "2.3 Least-Squares Solution\n",
    "Description: Computes the least-squares solution to a linear matrix equation.\n",
    "1 # Least - squares solution\n",
    "2 x_least_squares , residuals , rank , s = np. linalg . lstsq (a, b, rcond =\n",
    "None )\n",
    "3 Decompositions\n",
    "3.1 Eigenvalue Decomposition\n",
    "Description: Computes the eigenvalues and right eigenvectors of a square array.\n",
    "1 # Eigenvalue and eigenvector computation\n",
    "2 eigenvalues , eigenvectors = np. linalg .eig(a)\n",
    "3.2 Singular Value Decomposition (SVD)\n",
    "Description: Factorizes a matrix into three matrices, representing its intrinsic properties.\n",
    "1 # Singular Value Decomposition\n",
    "2 u, s, vh = np. linalg .svd (a)\n",
    "3.3 Cholesky Decomposition\n",
    "Description: Decomposes a positive-definite matrix into a lower triangular matrix and\n",
    "its transpose.\n",
    "1 # Cholesky decomposition\n",
    "2 L = np. linalg . cholesky (a)\n",
    "23.4 QR Decomposition\n",
    "Description: Decomposes a matrix into an orthogonal matrix and an upper triangular\n",
    "matrix.\n",
    "1 # QR decomposition\n",
    "2 q, r = np. linalg .qr(a)\n",
    "4 Norms and Determinants\n",
    "4.1 Norms\n",
    "Description: Computes the norm (length) of a vector or the Frobenius norm of a matrix.\n",
    "1 # Matrix or vector norm\n",
    "2 norm_a = np. linalg . norm (a, ord = None )\n",
    "4.2 Determinant\n",
    "Description: Computes the determinant of a square matrix.\n",
    "1 # Compute the determinant of a matrix\n",
    "2 det_a = np. linalg .det(a)\n",
    "5 Other Useful Functions\n",
    "5.1 Matrix Rank\n",
    "Description: Returns the rank of a matrix, which is the dimension of the vector space\n",
    "generated by its rows or columns.\n",
    "1 # Return the rank of a matrix\n",
    "2 rank_a = np. linalg . matrix_rank (a)\n",
    "5.2 Condition Number\n",
    "Description: Computes the condition number of a matrix, indicating how sensitive the\n",
    "solution of a system of linear equations is to changes in the input.\n",
    "1 # Compute the condition number of a matrix\n",
    "2 cond_a = np. linalg . cond (a, p= None )\n",
    "5.3 Pseudo-Inverse\n",
    "Description: Computes the Moore-Penrose pseudo-inverse of a matrix.\n",
    "1 # Compute the Moore - Penrose pseudo - inverse\n",
    "2 pseudo_inv_a = np. linalg . pinv (a)\n",
    "35.4 Cross Product\n",
    "Description: Computes the cross product of two 3-dimensional vectors.\n",
    "1 # Compute the cross product of two 3D vectors\n",
    "2 a_vec = np. array ([1 , 2, 3])\n",
    "3 b_vec = np. array ([4 , 5, 6])\n",
    "4 cross_product = np. cross (a_vec , b_vec )\n",
    "6 Utility Functions for Arrays\n",
    "6.1 Identity Matrix\n",
    "Description: Returns a 2D array with ones on the diagonal and zeros elsewhere.\n",
    "1 # Return a 2D array with ones on the diagonal\n",
    "2 identity_matrix = np.eye (3)\n",
    "6.2 Diagonal\n",
    "Description: Extracts or constructs a diagonal array.\n",
    "1 # Extract or construct a diagonal array\n",
    "2 diagonal_array = np. diag ([1 , 2, 3])\n",
    "6.3 Flattening\n",
    "Description: Returns a contiguous flattened array.\n",
    "1 # Return a flattened array\n",
    "2 flattened_a = np. ravel (a)\n",
    "7 Advanced Linear Algebra Functions\n",
    "7.1 Kronecker Product\n",
    "Description: Computes the Kronecker product of two arrays.\n",
    "1 # Compute the Kronecker product of two arrays\n",
    "2 kron_product = np. kron (a, b)\n",
    "7.2 Tensor Dot Product\n",
    "Description: Computes the tensor dot product along specified axes.\n",
    "1 # Compute the tensor dot product along specified axes\n",
    "2 tensor_dot = np. tensordot (a, b, axes =1)\n",
    "47.3 Element-wise Multiplication\n",
    "Description: Performs element-wise multiplication of two arrays.\n",
    "1 # Element - wise multiplication\n",
    "2 hadamard_product = np. multiply (a, b)\n",
    "7.4 Matrix Power\n",
    "Description: Raises a square matrix to an integer power n.\n",
    "1 # Raise a square matrix to the integer power n\n",
    "2 matrix_power = np. linalg . matrix_power (a, 2)\n",
    "8 Higher-Dimensional Tensors\n",
    "8.1 Mode Product of a Tensor\n",
    "Description: Computes the mode product of tensors.\n",
    "1 # Example of using einsum for tensor operations\n",
    "2 tensor_product = np. einsum (’ij ,jk ->ik ’, a, b)\n",
    "9 Special Matrix Functions\n",
    "9.1 Hermitian Matrix Check\n",
    "Description: Checks if a matrix is Hermitian or symmetric.\n",
    "1 # Check if a matrix is Hermitian or symmetric\n",
    "2 is_hermitian = np. iscomplexobj (a)\n",
    "5"
   ]
  }
 ],
 "metadata": {
  "kernelspec": {
   "display_name": "Python 3",
   "language": "python",
   "name": "python3"
  },
  "language_info": {
   "codemirror_mode": {
    "name": "ipython",
    "version": 3
   },
   "file_extension": ".py",
   "mimetype": "text/x-python",
   "name": "python",
   "nbconvert_exporter": "python",
   "pygments_lexer": "ipython3",
   "version": "3.12.3"
  }
 },
 "nbformat": 4,
 "nbformat_minor": 2
}
