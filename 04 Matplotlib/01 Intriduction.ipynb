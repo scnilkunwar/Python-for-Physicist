{
 "cells": [
  {
   "cell_type": "markdown",
   "metadata": {},
   "source": [
    "![Python for Physicist](https://github.com/scnilkunwar/Python-for-Physicist/blob/main/images/Banner.png?raw=true)"
   ]
  },
  {
   "cell_type": "markdown",
   "metadata": {},
   "source": [
    "<div align=\"center\">\n",
    "    \n",
    "![Numpy](https://camo.githubusercontent.com/3eed28e026e4e0220f99e2f4c8a517fcb3a30a1b944c528efc9533ff7840435f/68747470733a2f2f6d6174706c6f746c69622e6f72672f5f7374617469632f6c6f676f322e737667)\n",
    "  <h1> Python for Physicist - Matplotlib</h1>\n",
    "</div>"
   ]
  },
  {
   "cell_type": "markdown",
   "metadata": {},
   "source": [
    "<a href=\"https://matplotlib.org/stable/\" \n",
    "style=\"display: inline-block; \n",
    "padding: 10px 20px; \n",
    "background-color: #4CAF50; \n",
    "color: white; \n",
    "text-align: center; \n",
    "text-decoration: none; \n",
    "border-radius: 5px;\">Matplotlib Documentation</a>"
   ]
  },
  {
   "cell_type": "markdown",
   "metadata": {},
   "source": []
  }
 ],
 "metadata": {
  "language_info": {
   "name": "python"
  }
 },
 "nbformat": 4,
 "nbformat_minor": 2
}
