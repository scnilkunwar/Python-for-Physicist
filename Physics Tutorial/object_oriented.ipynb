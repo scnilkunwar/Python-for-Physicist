{
 "cells": [
  {
   "cell_type": "code",
   "execution_count": 2,
   "metadata": {},
   "outputs": [],
   "source": [
    "import numpy as np\n",
    "import matplotlib.pyplot as plt\n",
    "from scipy.integrate import solve_ivp"
   ]
  },
  {
   "cell_type": "markdown",
   "metadata": {},
   "source": [
    "# Beginner"
   ]
  },
  {
   "cell_type": "markdown",
   "metadata": {},
   "source": [
    "A class in python in constructed as follows:"
   ]
  },
  {
   "cell_type": "code",
   "execution_count": 15,
   "metadata": {},
   "outputs": [],
   "source": [
    "class Particle():\n",
    "    def __init__(self,x,y,z,vx,vy,vz,m):\n",
    "        self.x = x\n",
    "        self.y = y\n",
    "        self.z = z\n",
    "        self.vx = vx\n",
    "        self.vy= vy\n",
    "        self.vz = vz\n",
    "        self.m = m\n",
    "    def move(self,t):\n",
    "        self.x = self.x+ self.vx * t\n",
    "        self.y += self.vy * t\n",
    "        self.z += self.vz * t\n",
    "    def get_distance_from_origin(self):\n",
    "        return np.sqrt(self.x**2+self.y**2+self.z**2)"
   ]
  },
  {
   "cell_type": "markdown",
   "metadata": {},
   "source": [
    "Now we create an **instance** of the **class** called `Particle`"
   ]
  },
  {
   "cell_type": "code",
   "execution_count": 11,
   "metadata": {},
   "outputs": [],
   "source": [
    "p1 = Particle(3,0,1,1,0,0,3)"
   ]
  },
  {
   "cell_type": "markdown",
   "metadata": {},
   "source": [
    "We can look at its attributes"
   ]
  },
  {
   "cell_type": "code",
   "execution_count": 12,
   "metadata": {},
   "outputs": [
    {
     "data": {
      "text/plain": [
       "3"
      ]
     },
     "execution_count": 12,
     "metadata": {},
     "output_type": "execute_result"
    }
   ],
   "source": [
    "p1.x"
   ]
  },
  {
   "cell_type": "markdown",
   "metadata": {},
   "source": [
    "We can call on functions that **modify** the *particular instance* (called `p1`) of the class (called `Particle`)."
   ]
  },
  {
   "cell_type": "code",
   "execution_count": 13,
   "metadata": {},
   "outputs": [],
   "source": [
    "p1.move(2)"
   ]
  },
  {
   "cell_type": "code",
   "execution_count": 14,
   "metadata": {},
   "outputs": [
    {
     "data": {
      "text/plain": [
       "5"
      ]
     },
     "execution_count": 14,
     "metadata": {},
     "output_type": "execute_result"
    }
   ],
   "source": [
    "p1.x"
   ]
  },
  {
   "cell_type": "markdown",
   "metadata": {},
   "source": [
    "We can call on functions that **return information** about the *particular instance* (called `p1`) of the class (called `Particle`)."
   ]
  },
  {
   "cell_type": "code",
   "execution_count": 16,
   "metadata": {},
   "outputs": [
    {
     "data": {
      "text/plain": [
       "5.0990195135927845"
      ]
     },
     "execution_count": 16,
     "metadata": {},
     "output_type": "execute_result"
    }
   ],
   "source": [
    "p1.get_distance_from_origin()"
   ]
  },
  {
   "cell_type": "markdown",
   "metadata": {},
   "source": [
    "We look directly at the **attributes** of the *particular instance* (called `p1`) of the class (called `Particle`)."
   ]
  },
  {
   "cell_type": "code",
   "execution_count": 17,
   "metadata": {},
   "outputs": [
    {
     "data": {
      "text/plain": [
       "5"
      ]
     },
     "execution_count": 17,
     "metadata": {},
     "output_type": "execute_result"
    }
   ],
   "source": [
    "p1.x"
   ]
  },
  {
   "cell_type": "markdown",
   "metadata": {},
   "source": [
    "## Inheritance of Classes\n",
    "\n",
    "We know from real life:  a **proton** is a type of particle. Therefore:\n",
    "\n",
    "* a proton has all the characteristics of a particle\n",
    "* a proton has unique traits that are seperate from a particle\n",
    "\n",
    "This is precisely what class inheritance allows us to play with.\n",
    "\n",
    "* A **child** (proton) class *inherits* all the traits of its **parent** (particle). Furthermore, the child may have seperate traits from its parent."
   ]
  },
  {
   "cell_type": "code",
   "execution_count": 19,
   "metadata": {},
   "outputs": [],
   "source": [
    "class Proton(Particle):\n",
    "    def __init__(self,x,y,z,vx,vy,vz):\n",
    "        self.q = 1.6e-19\n",
    "        self.m = 9.11e-31\n",
    "        super(Proton, self).__init__(x,y,z,vx,vy,vz,self.m)"
   ]
  },
  {
   "cell_type": "markdown",
   "metadata": {},
   "source": [
    "Define proton class"
   ]
  },
  {
   "cell_type": "code",
   "execution_count": 20,
   "metadata": {},
   "outputs": [],
   "source": [
    "p = Proton(0,0,1,1,0,0)"
   ]
  },
  {
   "cell_type": "markdown",
   "metadata": {},
   "source": [
    "Has the functionality of its parent:"
   ]
  },
  {
   "cell_type": "code",
   "execution_count": 21,
   "metadata": {},
   "outputs": [
    {
     "data": {
      "text/plain": [
       "2"
      ]
     },
     "execution_count": 21,
     "metadata": {},
     "output_type": "execute_result"
    }
   ],
   "source": [
    "p.move(2)\n",
    "p.x"
   ]
  },
  {
   "cell_type": "markdown",
   "metadata": {},
   "source": [
    "We can also give the proton **child** class additional attributes. \n",
    "\n",
    "* A proton has an electric charge. Thus we *redefine* the `move` function to take into account the motion of the particle in the electric field."
   ]
  },
  {
   "cell_type": "code",
   "execution_count": 22,
   "metadata": {},
   "outputs": [],
   "source": [
    "class Proton(Particle):\n",
    "    def __init__(self,x,y,z,vx,vy,vz):\n",
    "        self.q = 1.6e-19\n",
    "        self.m = 9.11e-31\n",
    "        super(Proton, self).__init__(x,y,z,vx,vy,vz,self.m)\n",
    "    def move(self, t, Ex, Ey, Ez):\n",
    "        self.x += self.vx * t + (1/2)*(self.q/self.m)*Ex*t**2\n",
    "        self.y += self.vy * t + (1/2)*(self.q/self.m)*Ey*t**2\n",
    "        self.z += self.vz * t + (1/2)*(self.q/self.m)*Ez*t**2\n",
    "        self.vx += (self.q/self.m)*Ex*t\n",
    "        self.vy += (self.q/self.m)*Ey*t\n",
    "        self.vz += (self.q/self.m)*Ez*t\n",
    "    def get_position(self):\n",
    "        return np.array([self.x, self.y, self.z])\n",
    "    def get_velocity(self):\n",
    "        return np.array([self.vx, self.vy, self.vz])"
   ]
  },
  {
   "cell_type": "code",
   "execution_count": 23,
   "metadata": {},
   "outputs": [],
   "source": [
    "p = Proton(0,0,1,1,0,0)"
   ]
  },
  {
   "cell_type": "markdown",
   "metadata": {},
   "source": [
    "Move the proton"
   ]
  },
  {
   "cell_type": "code",
   "execution_count": 24,
   "metadata": {},
   "outputs": [],
   "source": [
    "p.move(t=2,Ex=4e-12,Ey=3e-12,Ez=6e-12)"
   ]
  },
  {
   "cell_type": "markdown",
   "metadata": {},
   "source": [
    "Get position"
   ]
  },
  {
   "cell_type": "code",
   "execution_count": 25,
   "metadata": {},
   "outputs": [
    {
     "data": {
      "text/plain": [
       "array([3.4050494 , 1.05378705, 3.10757409])"
      ]
     },
     "execution_count": 25,
     "metadata": {},
     "output_type": "execute_result"
    }
   ],
   "source": [
    "p.get_position()"
   ]
  },
  {
   "cell_type": "markdown",
   "metadata": {},
   "source": [
    "Move the proton some more"
   ]
  },
  {
   "cell_type": "code",
   "execution_count": 26,
   "metadata": {},
   "outputs": [],
   "source": [
    "p.move(t=3,Ex=4e-12,Ey=5e-12,Ez=6e-12)"
   ]
  },
  {
   "cell_type": "markdown",
   "metadata": {},
   "source": [
    "Get its position"
   ]
  },
  {
   "cell_type": "code",
   "execution_count": 27,
   "metadata": {},
   "outputs": [
    {
     "data": {
      "text/plain": [
       "array([13.78155873,  8.16684962, 14.17233809])"
      ]
     },
     "execution_count": 27,
     "metadata": {},
     "output_type": "execute_result"
    }
   ],
   "source": [
    "p.get_position()"
   ]
  },
  {
   "cell_type": "markdown",
   "metadata": {},
   "source": [
    "# Intermediate"
   ]
  },
  {
   "cell_type": "markdown",
   "metadata": {},
   "source": [
    "A class that contains all the information about a given projectile motion problem\n",
    "\n",
    "* `ro`: Initial $(x,y)$ position of the particle\n",
    "* `v0` Initial $(v_x, v_y)$ velocity of the particle\n",
    "* `t_span`: Time span over which we consider the motion of the particle\n",
    "\n",
    "Then we define some additional properties of the motion\n",
    "\n",
    "* `get_peak_y` returns the maximum height obtained from the particle\n",
    "* `get_peak_x` returns the horizontal distance corresponding to the peak y value\n",
    "* `get_peak_t` returns the time when maximum height is reached\n",
    "* `get_x_landing` returns the horizontal distance travelled by the projectile (before it hits the ground)"
   ]
  },
  {
   "cell_type": "code",
   "execution_count": 28,
   "metadata": {},
   "outputs": [],
   "source": [
    "class Projectile():\n",
    "    def __init__(self,r0,v0, g, t_span):\n",
    "        self.t = t_span\n",
    "        x0, y0 = r0\n",
    "        vx0, vy0 = v0\n",
    "        self.x = x0 + vx0*self.t\n",
    "        self.y = y0 + vy0*self.t + -(1/2)*g*self.t**2\n",
    "    def get_peak_y(self):\n",
    "        return max(self.y)\n",
    "    def get_peak_x(self):\n",
    "        return self.x[np.argmax(self.y)]\n",
    "    def get_peak_t(self):\n",
    "        return self.t[np.argmax(self.y)]\n",
    "    def get_x_landing(self):\n",
    "        x_after_peak = self.x[self.t>self.get_peak_t()]\n",
    "        y_after_peak = self.y[self.t>self.get_peak_t()]\n",
    "        return x_after_peak[np.argmin(np.abs(y_after_peak))]"
   ]
  },
  {
   "cell_type": "markdown",
   "metadata": {},
   "source": [
    "Create a projectile and plot"
   ]
  },
  {
   "cell_type": "code",
   "execution_count": 29,
   "metadata": {},
   "outputs": [
    {
     "data": {
      "image/png": "[encoded data removed]",
      "text/plain": [
       "<Figure size 500x200 with 1 Axes>"
      ]
     },
     "metadata": {},
     "output_type": "display_data"
    }
   ],
   "source": [
    "p = Projectile(r0=[0,0],\n",
    "               v0=[5,6],\n",
    "               g=9.81,\n",
    "               t_span = np.linspace(0,2,100))\n",
    "\n",
    "plt.figure(figsize=(5,2))\n",
    "plt.plot(p.x, p.y,'blue')\n",
    "plt.axhline(p.get_peak_y(), color='r', ls='--')\n",
    "plt.axvline(p.get_peak_x(), color='r', ls='--')\n",
    "plt.xlabel('X Position [m]')\n",
    "plt.ylabel('Y Position [m]')\n",
    "plt.grid()\n",
    "plt.show()"
   ]
  },
  {
   "cell_type": "markdown",
   "metadata": {},
   "source": [
    "Of course, the real advantage is when you're dealing with many class instances"
   ]
  },
  {
   "cell_type": "code",
   "execution_count": 30,
   "metadata": {},
   "outputs": [],
   "source": [
    "thetas = np.linspace(0,np.pi/2,100)\n",
    "v0 = 5\n",
    "vys = v0*np.sin(thetas)\n",
    "vxs = v0*np.cos(thetas)"
   ]
  },
  {
   "cell_type": "code",
   "execution_count": 33,
   "metadata": {},
   "outputs": [
    {
     "data": {
      "text/plain": [
       "[0, 1, 4, 9, 16]"
      ]
     },
     "execution_count": 33,
     "metadata": {},
     "output_type": "execute_result"
    }
   ],
   "source": [
    "[i**2 for i in range(5)]"
   ]
  },
  {
   "cell_type": "code",
   "execution_count": 34,
   "metadata": {},
   "outputs": [],
   "source": [
    "thetas = np.linspace(0,np.pi/2,100)\n",
    "v0 = 5\n",
    "vys = v0*np.sin(thetas)\n",
    "vxs = v0*np.cos(thetas)\n",
    "\n",
    "ps = [Projectile(r0=[0,0],\n",
    "               v0=[vx,vy],\n",
    "               g=9.81,\n",
    "               t_span = np.linspace(0,3,300)) for vx,vy in zip(vxs,vys)]"
   ]
  },
  {
   "cell_type": "markdown",
   "metadata": {},
   "source": [
    "Compute maximum heights and maximum distances travelled"
   ]
  },
  {
   "cell_type": "code",
   "execution_count": 35,
   "metadata": {},
   "outputs": [],
   "source": [
    "max_heights = [p.get_peak_y() for p in ps]\n",
    "x_landings = [p.get_x_landing() for p in ps]"
   ]
  },
  {
   "cell_type": "markdown",
   "metadata": {},
   "source": [
    "Plot"
   ]
  },
  {
   "cell_type": "code",
   "execution_count": 36,
   "metadata": {},
   "outputs": [
    {
     "data": {
      "image/png": "[encoded data removed]",
      "text/plain": [
       "<Figure size 700x200 with 2 Axes>"
      ]
     },
     "metadata": {},
     "output_type": "display_data"
    }
   ],
   "source": [
    "fig = plt.figure(figsize=(7,2))\n",
    "plt.subplot(121)\n",
    "plt.plot(thetas, max_heights)\n",
    "plt.xlabel('Initial Angle')\n",
    "plt.ylabel('Peak height')\n",
    "plt.subplot(122)\n",
    "plt.plot(thetas, x_landings)\n",
    "plt.xlabel('Initial Angle')\n",
    "plt.ylabel('X-Landing')\n",
    "fig.tight_layout()\n",
    "plt.show()"
   ]
  },
  {
   "cell_type": "markdown",
   "metadata": {},
   "source": [
    "This can be made simpler with an even better class:\n",
    "* `Projectiles` is a class of that, as its attributes, contains many instances of the `Projectile` class"
   ]
  },
  {
   "cell_type": "code",
   "execution_count": 37,
   "metadata": {},
   "outputs": [],
   "source": [
    "class Projectiles():\n",
    "    def __init__(self,r0,v0s, g, t_span):\n",
    "        self.ps = [Projectile(r0=r0,\n",
    "               v0=v0,\n",
    "               g=g,\n",
    "               t_span = t_span) for v0 in v0s]\n",
    "    def get_max_heights(self):\n",
    "        return [p.get_peak_y() for p in self.ps]\n",
    "    def get_xlandings(self):\n",
    "        return [p.get_x_landing() for p in self.ps]\n",
    "    def get_projectiles(self):\n",
    "        return self.ps"
   ]
  },
  {
   "cell_type": "markdown",
   "metadata": {},
   "source": [
    "Create a bunch of projectiles"
   ]
  },
  {
   "cell_type": "code",
   "execution_count": 44,
   "metadata": {},
   "outputs": [],
   "source": [
    "thetas = np.linspace(0,np.pi/2,100)\n",
    "v0 = 5\n",
    "vys = v0*np.sin(thetas)\n",
    "vxs = v0*np.cos(thetas)\n",
    "\n",
    "ps = Projectiles(r0=[0,0],\n",
    "                         v0s=np.array([vxs, vys]).T,\n",
    "                         g = 9.81,\n",
    "                         t_span= np.linspace(0,3,300))"
   ]
  },
  {
   "cell_type": "markdown",
   "metadata": {},
   "source": [
    "Get the horizontal landing positions of all the particles"
   ]
  },
  {
   "cell_type": "code",
   "execution_count": 45,
   "metadata": {},
   "outputs": [],
   "source": [
    "x_landings = ps.get_xlandings()"
   ]
  },
  {
   "cell_type": "code",
   "execution_count": 46,
   "metadata": {},
   "outputs": [
    {
     "data": {
      "image/png": "[encoded data removed]",
      "text/plain": [
       "<Figure size 700x200 with 2 Axes>"
      ]
     },
     "metadata": {},
     "output_type": "display_data"
    }
   ],
   "source": [
    "fig = plt.figure(figsize=(7,2))\n",
    "plt.subplot(121)\n",
    "plt.plot(thetas, max_heights)\n",
    "plt.xlabel('Initial Angle')\n",
    "plt.ylabel('Peak height')\n",
    "plt.subplot(122)\n",
    "plt.plot(thetas, x_landings)\n",
    "plt.xlabel('Initial Angle')\n",
    "plt.ylabel('X-Landing')\n",
    "fig.tight_layout()\n",
    "plt.show()"
   ]
  },
  {
   "cell_type": "markdown",
   "metadata": {},
   "source": [
    "# Advanced"
   ]
  },
  {
   "cell_type": "markdown",
   "metadata": {},
   "source": [
    "In practice, a real projectile may experience arbitrary forces acting on it (gravity, air friction, electric/magnetic field, etc). By deifning a more advanced class, we can take into account all these possibilities:\n",
    "* Now we'll include a function `F(t,x,y,vx,vy,m)` which is a general force function acting on the particle. This can encompass all sorts of conditions\n",
    "\n",
    "**Projectile motion** in more depth: See https://www.youtube.com/watch?v=b9S_L1AaJNw"
   ]
  },
  {
   "cell_type": "code",
   "execution_count": 47,
   "metadata": {},
   "outputs": [],
   "source": [
    "class Projectile():\n",
    "    def __init__(self,r0,v0,t,F,m,*args):\n",
    "        self.t = t\n",
    "        self.x0, self.y0 = r0\n",
    "        self.vx0, self.vy0 = v0\n",
    "        self.F = F\n",
    "        self.m = m\n",
    "        self.args = args\n",
    "    def solve_motion(self):\n",
    "        def dSdt(t, S, *args):\n",
    "            x, vx, y, vy = S\n",
    "            return [vx, self.F(t,x,y,vx,vy,m,*args)[0]/self.m,\n",
    "                    vy, self.F(t,x,y,vx,vy,m,*args)[1]/self.m]\n",
    "        self.solution = solve_ivp(dSdt, [min(self.t), max(self.t)],\n",
    "                                  [self.x0,self.vx0,self.y0,self.vy0],\n",
    "                                  t_eval=self.t, args=self.args)\n",
    "        self.x, self.vx, self.y, self.vy = self.solution.y\n",
    "    def get_peak_y(self):\n",
    "        return max(self.y)\n",
    "    def get_peak_x(self):\n",
    "        return self.x[np.argmax(self.y)]\n",
    "    def get_peak_t(self):\n",
    "        return self.t[np.argmax(self.y)]\n",
    "    def get_x_landing(self):\n",
    "        x_after_peak = self.x[self.t>self.get_peak_t()]\n",
    "        y_after_peak = self.y[self.t>self.get_peak_t()]\n",
    "        return x_after_peak[np.argmin(np.abs(y_after_peak))]"
   ]
  },
  {
   "cell_type": "markdown",
   "metadata": {},
   "source": [
    "Define a couple force functions\n",
    "\n",
    "* `force_1` for quadratic air friction\n",
    "* `force_2` for linear air friction"
   ]
  },
  {
   "cell_type": "code",
   "execution_count": 49,
   "metadata": {},
   "outputs": [],
   "source": [
    "def force_1(t,x,vx,y,vy,m,g,b):\n",
    "    return [-b*np.sqrt(vx**2+vy**2)*vx, -b*np.sqrt(vx**2+vy**2)*vy - m*g]\n",
    "def force_2(t,x,vx,y,vy,m,g,b):\n",
    "    return [-b*vx, -b*vy - m*g]"
   ]
  },
  {
   "cell_type": "markdown",
   "metadata": {},
   "source": [
    "Set up particles\n",
    "\n",
    "* `p1` experiences **gravity** and **quadratic** air friction\n",
    "* `p2` experiences **gravity** and **linear** air friction"
   ]
  },
  {
   "cell_type": "code",
   "execution_count": 50,
   "metadata": {},
   "outputs": [],
   "source": [
    "# Conditions\n",
    "r0=[0,0]\n",
    "v0=[10*np.cos(np.pi/4),10*np.sin(np.pi/4)]\n",
    "t = np.linspace(0,1,1000)\n",
    "m=1\n",
    "g = 9.8\n",
    "b1 = 1\n",
    "b2 = 5\n",
    "\n",
    "# Paricle Motion\n",
    "p1 = Projectile(r0, v0, t, force_1, m, g, b1)  \n",
    "p2 = Projectile(r0, v0, t, force_2, m, g, b2)  \n",
    "p1.solve_motion()\n",
    "p2.solve_motion()"
   ]
  },
  {
   "cell_type": "markdown",
   "metadata": {},
   "source": [
    "Plot"
   ]
  },
  {
   "cell_type": "code",
   "execution_count": 51,
   "metadata": {},
   "outputs": [
    {
     "data": {
      "image/png": "[encoded data removed]",
      "text/plain": [
       "<Figure size 600x300 with 1 Axes>"
      ]
     },
     "metadata": {},
     "output_type": "display_data"
    }
   ],
   "source": [
    "plt.figure(figsize=(6,3))\n",
    "plt.plot(p1.x,p1.y)\n",
    "plt.plot(p2.x,p2.y)\n",
    "plt.axvline(p1.get_peak_x(), color='k', ls='--', label='Quadratic Friction')\n",
    "plt.axvline(p2.get_peak_x(), color='k', ls='--', label='Linear Friction')\n",
    "plt.ylim(bottom=0)\n",
    "plt.grid()\n",
    "plt.xlabel('X-Distance')\n",
    "plt.ylabel('Y-Distance')\n",
    "plt.show()"
   ]
  },
  {
   "cell_type": "markdown",
   "metadata": {},
   "source": [
    "# Exercise"
   ]
  },
  {
   "cell_type": "markdown",
   "metadata": {},
   "source": [
    "For the case of air friction\n",
    "\n",
    "1. Modify the `Projectiles` class (from intermediate portion of this video) to take in a bunch of `Projectile` classes (from the advanced portion of the video), and solve for the motion of all the projectiles.\n",
    "2. Create an instance of the `Projectiles` class that contains a bunch of particles with the same initial position, launch speed, quadratic air friction, and gravity as above, but modify the angles such that there is 100 launch angles between $\\theta=0.01$ and $\\theta=\\pi/2-0.01$.\n",
    "3. Use the `get_max_heights` and `get_xlandings` to plot the maximum height and maximum horizontal distance as a function of initial launch angle $\\theta$"
   ]
  }
 ],
 "metadata": {
  "kernelspec": {
   "display_name": "Python 3",
   "language": "python",
   "name": "python3"
  },
  "language_info": {
   "codemirror_mode": {
    "name": "ipython",
    "version": 3
   },
   "file_extension": ".py",
   "mimetype": "text/x-python",
   "name": "python",
   "nbconvert_exporter": "python",
   "pygments_lexer": "ipython3",
   "version": "3.8.5"
  }
 },
 "nbformat": 4,
 "nbformat_minor": 4
}
