{
 "cells": [
  {
   "cell_type": "markdown",
   "metadata": {},
   "source": [
    "### Functions in the `sys` Module\n",
    "\n",
    "1. **exit(status)**\n",
    "   - Exits the program with an optional exit status. If no status is provided, it defaults to zero (successful termination).\n",
    "\n",
    "2. **getsizeof(obj, default)**\n",
    "   - Returns the size of an object in bytes. Optionally, a default value can be returned if the size cannot be determined.\n",
    "\n",
    "3. **getrecursionlimit()**\n",
    "   - Returns the current value of the recursion limit (the maximum depth of the Python interpreter stack).\n",
    "\n",
    "4. **setrecursionlimit(limit)**\n",
    "   - Sets the maximum depth of the Python interpreter stack to the specified limit.\n",
    "\n",
    "5. **version**\n",
    "   - A string that contains the version number of the Python interpreter.\n",
    "\n",
    "6. **platform**\n",
    "   - A string that indicates the underlying platform (operating system) on which Python is running.\n",
    "\n",
    "8. **path**\n",
    "   - A list of strings that specifies the search path for modules. It can be modified to include additional directories.\n",
    "\n",
    "9. **modules**\n",
    "   - A dictionary that maps module names to modules that have already been loaded."
   ]
  },
  {
   "cell_type": "code",
   "execution_count": 1,
   "metadata": {},
   "outputs": [
    {
     "name": "stdout",
     "output_type": "stream",
     "text": [
      "Exiting the program with status 0.\n",
      "Size of object in bytes: 88\n",
      "Current recursion limit: 3000\n",
      "New recursion limit: 2000\n",
      "Python version: 3.12.3 (tags/v3.12.3:f6650f9, Apr  9 2024, 14:05:25) [MSC v.1938 64 bit (AMD64)]\n",
      "Platform: win32\n"
     ]
    }
   ],
   "source": [
    "import sys\n",
    "\n",
    "# Example of exit()\n",
    "print(\"Exiting the program with status 0.\")\n",
    "# Uncomment the next line to see the exit in action\n",
    "# sys.exit(0)\n",
    "\n",
    "# Example of getsizeof()\n",
    "obj = [1, 2, 3]\n",
    "print(\"Size of object in bytes:\", sys.getsizeof(obj))\n",
    "\n",
    "# Example of getrecursionlimit() and setrecursionlimit()\n",
    "print(\"Current recursion limit:\", sys.getrecursionlimit())\n",
    "sys.setrecursionlimit(2000)  # Set a new limit\n",
    "print(\"New recursion limit:\", sys.getrecursionlimit())\n",
    "\n",
    "# Example of version\n",
    "print(\"Python version:\", sys.version)\n",
    "\n",
    "# Example of platform\n",
    "print(\"Platform:\", sys.platform)"
   ]
  }
 ],
 "metadata": {
  "kernelspec": {
   "display_name": "Python 3",
   "language": "python",
   "name": "python3"
  },
  "language_info": {
   "codemirror_mode": {
    "name": "ipython",
    "version": 3
   },
   "file_extension": ".py",
   "mimetype": "text/x-python",
   "name": "python",
   "nbconvert_exporter": "python",
   "pygments_lexer": "ipython3",
   "version": "3.12.3"
  }
 },
 "nbformat": 4,
 "nbformat_minor": 2
}
