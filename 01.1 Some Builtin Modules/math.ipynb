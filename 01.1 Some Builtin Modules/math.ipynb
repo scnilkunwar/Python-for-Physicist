{
 "cells": [
  {
   "cell_type": "markdown",
   "metadata": {},
   "source": [
    "## Functions from `math` module\n",
    "The math module in Python provides a variety of mathematical functions and constants. Here’s a list of the most commonly used functions and constants in the math module:\n",
    "\n",
    "**Constants**\n",
    "- `math.pi`: The value of π (pi), approximately 3.14159.\n",
    "- `math.e`: The value of e (Euler's number), approximately 2.71828.\n",
    "- `math.tau`: The value of τ (tau), which is 2π, approximately 6.28318.\n",
    "- `math.inf`: Positive infinity.\n",
    "- `math.nan`: Not a number (NaN).\n",
    "\n",
    "#### Functions\n",
    "**Basic Functions**\n",
    "\n",
    "- `math.ceil(x)`: Returns the smallest integer greater than or equal to x.\n",
    "- `math.floor(x)`: Returns the largest integer less than or equal to x.\n",
    "- `math.factorial(x)`: Returns the factorial of x, an integer.\n",
    "- `math.fabs(x)`: Returns the absolute value of x.\n",
    "- `math.sqrt(x)`: Returns the square root of x.\n",
    "\n",
    "**Trigonometric Functions**\n",
    "- `math.sin(x)`: Returns the sine of x (x is in radians).\n",
    "- `math.cos(x)`: Returns the cosine of x.\n",
    "- `math.tan(x)`: Returns the tangent of x.\n",
    "- `math.asin(x)`: Returns the arc sine of x (in radians).\n",
    "- `math.acos(x)`: Returns the arc cosine of x.\n",
    "- `math.atan(x)`: Returns the arc tangent of x.\n",
    "- `math.atan2(y, x)`: Returns the arc tangent of y/x in radians.\n",
    "\n",
    "**Hyperbolic Functions**\n",
    "- `math.sinh(x)`: Returns the hyperbolic sine of x.\n",
    "- `math.cosh(x)`: Returns the hyperbolic cosine of x.\n",
    "- `math.tanh(x)`: Returns the hyperbolic tangent of x.\n",
    "\n",
    "**Exponential and Logarithmic Functions**\n",
    "- `math.exp(x)`: Returns e raised to the power of x.\n",
    "- `math.log(x[, base])`: Returns the logarithm of x to the specified base (natural logarithm if base is omitted).\n",
    "- `math.log10(x)`: Returns the base-10 logarithm of x.\n",
    "- `math.log2(x)`: Returns the base-2 logarithm of x.\n",
    "\n",
    "**Power Functions**\n",
    "- `math.pow(x, y)`: Returns x raised to the power of y.\n",
    "- `math.prod(iterable[, start])`: Returns the product of all elements in the iterable, optionally multiplied by start.\n",
    "\n",
    "**Combinatorial Functions**\n",
    "- `math.comb(n, k)`: Returns the number of combinations of n items taken k at a time.\n",
    "- `math.perm(n, k)`: Returns the number of permutations of n items taken k at a time.\n",
    "\n",
    "**Angle Conversion Functions**\n",
    "- `math.degrees(x)`: Converts angle x from radians to degrees.\n",
    "- `math.radians(x)`: Converts angle x from degrees to radians."
   ]
  },
  {
   "cell_type": "code",
   "execution_count": 1,
   "metadata": {},
   "outputs": [
    {
     "name": "stdout",
     "output_type": "stream",
     "text": [
      "Pi: 3.141592653589793\n",
      "Euler's number: 2.718281828459045\n",
      "Ceiling of 2.3: 3\n",
      "Floor of 2.7: 2\n",
      "Square root of 16: 4.0\n",
      "Sine of 30 degrees: 0.49999999999999994\n",
      "Log base 10 of 100: 2.0\n",
      "Natural log of e: 1.0\n"
     ]
    }
   ],
   "source": [
    "import math\n",
    "\n",
    "print(\"Pi:\", math.pi)\n",
    "print(\"Euler's number:\", math.e)\n",
    "\n",
    "# Basic functions\n",
    "print(\"Ceiling of 2.3:\", math.ceil(2.3))\n",
    "print(\"Floor of 2.7:\", math.floor(2.7))\n",
    "print(\"Square root of 16:\", math.sqrt(16))\n",
    "\n",
    "# Trigonometric functions\n",
    "angle_rad = math.radians(30)  # Convert degrees to radians\n",
    "print(\"Sine of 30 degrees:\", math.sin(angle_rad))\n",
    "\n",
    "# Logarithmic functions\n",
    "print(\"Log base 10 of 100:\", math.log10(100))\n",
    "print(\"Natural log of e:\", math.log(math.e))"
   ]
  }
 ],
 "metadata": {
  "kernelspec": {
   "display_name": "Python 3",
   "language": "python",
   "name": "python3"
  },
  "language_info": {
   "codemirror_mode": {
    "name": "ipython",
    "version": 3
   },
   "file_extension": ".py",
   "mimetype": "text/x-python",
   "name": "python",
   "nbconvert_exporter": "python",
   "pygments_lexer": "ipython3",
   "version": "3.12.3"
  }
 },
 "nbformat": 4,
 "nbformat_minor": 2
}
