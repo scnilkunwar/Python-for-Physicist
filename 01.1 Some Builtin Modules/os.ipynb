{
 "cells": [
  {
   "cell_type": "markdown",
   "metadata": {},
   "source": [
    "### Functions in the `os` Module\n",
    "\n",
    "1. **chdir(path)**\n",
    "   - Changes the current working directory to the specified path.\n",
    "\n",
    "2. **getcwd()**\n",
    "   - Returns the current working directory.\n",
    "\n",
    "3. **listdir(path='.')**\n",
    "   - Returns a list of the entries in the directory given by path.\n",
    "\n",
    "4. **mkdir(path, mode=0o777)**\n",
    "   - Creates a new directory at the specified path.\n",
    "\n",
    "5. **makedirs(path, mode=0o777)**\n",
    "   - Recursively creates directories; equivalent to `mkdir` but makes all intermediate-level directories needed.\n",
    "\n",
    "6. **remove(path)**\n",
    "   - Removes (deletes) the file path.\n",
    "\n",
    "7. **rmdir(path)**\n",
    "   - Removes (deletes) the directory path; the directory must be empty.\n",
    "\n",
    "8. **removedirs(path)**\n",
    "   - Removes directories recursively; removes directories and their parents if they are empty.\n",
    "\n",
    "9. **rename(src, dst)**\n",
    "   - Renames the file or directory from `src` to `dst`.\n",
    "\n",
    "10. **stat(path)**\n",
    "    - Performs a stat system call on the given path, returning information about the file.\n",
    "\n",
    "11. **getenv(key, default=None)**\n",
    "    - Returns the value of the environment variable `key`. If not found, returns `default`.\n",
    "\n",
    "12. **environ**\n",
    "    - A mapping object representing the string environment.\n",
    "\n",
    "13. **system(command)**\n",
    "    - Executes the command in a subshell.\n",
    "\n",
    "14. **walk(top, topdown=True, onerror=None, followlinks=False)**\n",
    "    - Generates the file names in a directory tree by walking the tree either top-down or bottom-up.\n",
    "\n",
    "15. **exit(status=0)**\n",
    "    - Exits the program with the specified status.\n",
    "\n",
    "16. **sep**\n",
    "    - The character used to separate pathname components.\n",
    "\n",
    "17. **pathsep**\n",
    "    - The character used to separate search paths (for environment variables).\n",
    "\n",
    "18. **name**\n",
    "    - The name of the operating system dependent module imported.\n",
    "\n",
    "19. **linesep**\n",
    "    - The line separator used by the operating system.\n",
    "\n",
    "20. **urandom(size)**\n",
    "    - Returns a string of `size` bytes suitable for cryptographic use."
   ]
  },
  {
   "cell_type": "code",
   "execution_count": 1,
   "metadata": {},
   "outputs": [
    {
     "name": "stdout",
     "output_type": "stream",
     "text": [
      "Current working directory: d:\\Programming\\Python for MSc Physics\\Some Builtin Modules\n",
      "Current working directory again: d:\\Programming\\Python for MSc Physics\\Some Builtin Modules\n",
      "Entries in the current directory: ['math.ipynb', 'os.ipynb', 'random.ipynb', 'sys.ipynb', 'time.ipynb']\n",
      "Created directory: test_dir\n",
      "Created nested directories: test_dir/nested_dir\n",
      "Removed directory: test_dir/nested_dir\n"
     ]
    }
   ],
   "source": [
    "import os\n",
    "\n",
    "# Example of chdir()\n",
    "print(\"Current working directory:\", os.getcwd())\n",
    "\n",
    "# Example of getcwd()\n",
    "print(\"Current working directory again:\", os.getcwd())\n",
    "\n",
    "# Example of listdir()\n",
    "print(\"Entries in the current directory:\", os.listdir('.'))\n",
    "\n",
    "# Example of mkdir()\n",
    "os.mkdir('test_dir')  # Create a new directory\n",
    "print(\"Created directory: test_dir\")\n",
    "\n",
    "# Example of makedirs()\n",
    "os.makedirs('test_dir/nested_dir')  # Create nested directories\n",
    "print(\"Created nested directories: test_dir/nested_dir\")\n",
    "\n",
    "# Example of rmdir()\n",
    "os.rmdir('test_dir/nested_dir')  # Remove the nested directory\n",
    "print(\"Removed directory: test_dir/nested_dir\")"
   ]
  }
 ],
 "metadata": {
  "kernelspec": {
   "display_name": "Python 3",
   "language": "python",
   "name": "python3"
  },
  "language_info": {
   "codemirror_mode": {
    "name": "ipython",
    "version": 3
   },
   "file_extension": ".py",
   "mimetype": "text/x-python",
   "name": "python",
   "nbconvert_exporter": "python",
   "pygments_lexer": "ipython3",
   "version": "3.12.3"
  }
 },
 "nbformat": 4,
 "nbformat_minor": 2
}
