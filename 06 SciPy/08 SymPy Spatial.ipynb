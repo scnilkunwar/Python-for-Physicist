{
 "cells": [
  {
   "cell_type": "markdown",
   "metadata": {},
   "source": [
    "# scipy.spatial Module Overview\n",
    "\n",
    "The `scipy.spatial` module provides various functions for working with spatial data, including distance computations, spatial trees, and convex hulls.\n",
    "\n",
    "## 1. Distance Functions\n",
    "\n",
    "### Euclidean Distance\n",
    "- **`scipy.spatial.distance.euclidean(u, v)`**: Computes the Euclidean distance between two points.\n",
    "\n",
    "### Other Distance Metrics\n",
    "- **`scipy.spatial.distance.cityblock(u, v)`**: Computes the Manhattan distance (L1 norm).\n",
    "- **`scipy.spatial.distance.cosine(u, v)`**: Computes the cosine distance.\n",
    "- **`scipy.spatial.distance.jaccard(u, v)`**: Computes the Jaccard distance.\n",
    "- **`scipy.spatial.distance.sqeuclidean(u, v)`**: Computes the squared Euclidean distance."
   ]
  },
  {
   "cell_type": "code",
   "execution_count": 2,
   "metadata": {},
   "outputs": [
    {
     "name": "stdout",
     "output_type": "stream",
     "text": [
      "Euclidean Distance between u and v: 5.0\n",
      "Manhattan Distance between u and v: 7\n",
      "Cosine Distance between u and v: 0.007722123286332261\n",
      "Jaccard Distance between u_set and v_set: 1.0\n",
      "Squared Euclidean Distance between u and v: 25.0\n"
     ]
    }
   ],
   "source": [
    "import numpy as np\n",
    "from scipy.spatial import distance\n",
    "\n",
    "# Example 1: Euclidean Distance\n",
    "# Euclidean distance is the straight-line distance between two points in Euclidean space.\n",
    "u = np.array([1, 2])\n",
    "v = np.array([4, 6])\n",
    "euclidean_dist = distance.euclidean(u, v)\n",
    "print(\"Euclidean Distance between u and v:\", euclidean_dist)\n",
    "\n",
    "# Example 2: Manhattan (Cityblock) Distance\n",
    "# Manhattan distance (also known as L1 norm or Taxicab distance) is the sum of the absolute differences of their coordinates.\n",
    "manhattan_dist = distance.cityblock(u, v)\n",
    "print(\"Manhattan Distance between u and v:\", manhattan_dist)\n",
    "\n",
    "# Example 3: Cosine Distance\n",
    "# Cosine distance is computed as 1 minus the cosine similarity between two vectors.\n",
    "# It ranges from 0 (when vectors are identical) to 1 (when vectors are orthogonal).\n",
    "cosine_dist = distance.cosine(u, v)\n",
    "print(\"Cosine Distance between u and v:\", cosine_dist)\n",
    "\n",
    "# Example 4: Jaccard Distance\n",
    "# Jaccard distance is used to compare the similarity and diversity of sample sets.\n",
    "# It's defined as 1 minus the Jaccard index, where the Jaccard index is the size of the intersection divided by the size of the union of the sample sets.\n",
    "# In this case, we convert u and v to sets for demonstration.\n",
    "u_set = set([1, 2, 3])\n",
    "v_set = set([3, 4, 5])\n",
    "jaccard_dist = distance.jaccard(u, v)\n",
    "print(\"Jaccard Distance between u_set and v_set:\", jaccard_dist)\n",
    "\n",
    "# Example 5: Squared Euclidean Distance\n",
    "# Squared Euclidean distance is similar to the Euclidean distance, but without taking the square root.\n",
    "sqeuclidean_dist = distance.sqeuclidean(u, v)\n",
    "print(\"Squared Euclidean Distance between u and v:\", sqeuclidean_dist)\n"
   ]
  },
  {
   "cell_type": "markdown",
   "metadata": {},
   "source": [
    "### Distance Matrix\n",
    "- **`scipy.spatial.distance.pdist(X, metric='euclidean')`**: Computes the pairwise distances between observations in n-dimensional space.\n",
    "- **`scipy.spatial.distance.squareform(x)`**: Converts a distance vector to a square distance matrix and vice versa."
   ]
  },
  {
   "cell_type": "code",
   "execution_count": 3,
   "metadata": {},
   "outputs": [
    {
     "name": "stdout",
     "output_type": "stream",
     "text": [
      "Pairwise Euclidean Distances (using pdist): [5.         8.48528137 3.60555128]\n",
      "Square Distance Matrix (using squareform):\n",
      " [[0.         5.         8.48528137]\n",
      " [5.         0.         3.60555128]\n",
      " [8.48528137 3.60555128 0.        ]]\n",
      "Manhattan Distance Matrix (using squareform):\n",
      " [[ 0.  7. 12.]\n",
      " [ 7.  0.  5.]\n",
      " [12.  5.  0.]]\n"
     ]
    }
   ],
   "source": [
    "import numpy as np\n",
    "from scipy.spatial import distance\n",
    "\n",
    "# Example: Pairwise Distance Matrix using pdist\n",
    "# pdist computes the pairwise distances between all observations in a dataset.\n",
    "# The dataset is represented by an array of points, where each row corresponds to a point in n-dimensional space.\n",
    "\n",
    "# Example data (each row is a point in a 2D space)\n",
    "X = np.array([[1, 2], [4, 6], [7, 8]])\n",
    "\n",
    "# Compute pairwise Euclidean distances between points using pdist\n",
    "pairwise_dist = distance.pdist(X, metric='euclidean')\n",
    "print(\"Pairwise Euclidean Distances (using pdist):\", pairwise_dist)\n",
    "\n",
    "# Example: Converting Distance Vector to Square Distance Matrix using squareform\n",
    "# squareform takes a condensed distance vector and converts it into a square form (distance matrix).\n",
    "distance_matrix = distance.squareform(pairwise_dist)\n",
    "print(\"Square Distance Matrix (using squareform):\\n\", distance_matrix)\n",
    "\n",
    "# We can also use different distance metrics in pdist. Here's an example with the Manhattan (Cityblock) distance:\n",
    "\n",
    "pairwise_manhattan = distance.pdist(X, metric='cityblock')\n",
    "manhattan_distance_matrix = distance.squareform(pairwise_manhattan)\n",
    "print(\"Manhattan Distance Matrix (using squareform):\\n\", manhattan_distance_matrix)\n"
   ]
  }
 ],
 "metadata": {
  "kernelspec": {
   "display_name": "Python 3",
   "language": "python",
   "name": "python3"
  },
  "language_info": {
   "codemirror_mode": {
    "name": "ipython",
    "version": 3
   },
   "file_extension": ".py",
   "mimetype": "text/x-python",
   "name": "python",
   "nbconvert_exporter": "python",
   "pygments_lexer": "ipython3",
   "version": "3.12.3"
  }
 },
 "nbformat": 4,
 "nbformat_minor": 2
}
