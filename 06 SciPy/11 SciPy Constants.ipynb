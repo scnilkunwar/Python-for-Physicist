{
 "cells": [
  {
   "cell_type": "markdown",
   "metadata": {},
   "source": [
    "# scipy.constants Module Overview\n",
    "\n",
    "The `scipy.constants` module provides a variety of physical and mathematical constants, along with unit conversions. This module simplifies the process of including standard constants in scientific computations.\n",
    "\n",
    "## 1. Fundamental Constants\n",
    "\n",
    "Some of the key physical constants available in `scipy.constants` include:\n",
    "\n",
    "- **`scipy.constants.c`**: Speed of light in vacuum (m/s).\n",
    "- **`scipy.constants.h`**: Planck constant (J·s).\n",
    "- **`scipy.constants.k`**: Boltzmann constant (J/K).\n",
    "- **`scipy.constants.G`**: Gravitational constant (m³/(kg·s²)).\n",
    "- **`scipy.constants.e`**: Elementary charge (C).\n",
    "- **`scipy.constants.m_e`**: Electron mass (kg).\n",
    "- **`scipy.constants.m_p`**: Proton mass (kg).\n",
    "- **`scipy.constants.N_A`**: Avogadro's number (1/mol)."
   ]
  },
  {
   "cell_type": "code",
   "execution_count": 1,
   "metadata": {},
   "outputs": [
    {
     "name": "stdout",
     "output_type": "stream",
     "text": [
      "Speed of light: 299792458.0 m/s\n",
      "Planck constant: 6.62607015e-34 J·s\n",
      "Boltzmann constant: 1.380649e-23 J/K\n"
     ]
    }
   ],
   "source": [
    "from scipy import constants\n",
    "\n",
    "# Accessing some fundamental constants\n",
    "speed_of_light = constants.c\n",
    "planck_constant = constants.h\n",
    "boltzmann_constant = constants.k\n",
    "\n",
    "print(f\"Speed of light: {speed_of_light} m/s\")\n",
    "print(f\"Planck constant: {planck_constant} J·s\")\n",
    "print(f\"Boltzmann constant: {boltzmann_constant} J/K\")"
   ]
  },
  {
   "cell_type": "markdown",
   "metadata": {},
   "source": [
    "## 2. Mathematical Constants\n",
    "The module also includes important mathematical constants:\n",
    "\n",
    "- **`scipy.constants.pi`**: The mathematical constant π.\n",
    "- **`scipy.constants.e`**: The base of natural logarithms."
   ]
  },
  {
   "cell_type": "code",
   "execution_count": 5,
   "metadata": {},
   "outputs": [
    {
     "name": "stdout",
     "output_type": "stream",
     "text": [
      "Pi: 3.141592653589793\n",
      "E (Euler's number): 1.602176634e-19\n"
     ]
    }
   ],
   "source": [
    "from scipy import constants\n",
    "\n",
    "# Accessing mathematical constants\n",
    "pi = constants.pi\n",
    "e = constants.e\n",
    "\n",
    "print(f\"Pi: {pi}\")\n",
    "print(f\"E (Euler's number): {e}\")"
   ]
  },
  {
   "cell_type": "markdown",
   "metadata": {},
   "source": [
    "## 3. Physical Constants for Various Units\n",
    "The module provides constants in various unit systems, which can be useful for conversions and calculations:\n",
    "\n",
    "- **`scipy.constants.hbar`**: Reduced Planck constant (J·s).\n",
    "- **`scipy.constants.sigma`**: Stefan-Boltzmann constant (W/(m²·K⁴)).\n",
    "- **`scipy.constants.R`**: Ideal gas constant (J/(mol·K))."
   ]
  },
  {
   "cell_type": "code",
   "execution_count": 6,
   "metadata": {},
   "outputs": [
    {
     "name": "stdout",
     "output_type": "stream",
     "text": [
      "Stefan-Boltzmann constant: 5.670374419e-08 W/(m²·K⁴)\n",
      "Ideal gas constant: 8.314462618 J/(mol·K)\n"
     ]
    }
   ],
   "source": [
    "from scipy import constants\n",
    "\n",
    "# Accessing additional physical constants\n",
    "stefan_boltzmann_constant = constants.sigma\n",
    "ideal_gas_constant = constants.R\n",
    "\n",
    "print(f\"Stefan-Boltzmann constant: {stefan_boltzmann_constant} W/(m²·K⁴)\")\n",
    "print(f\"Ideal gas constant: {ideal_gas_constant} J/(mol·K)\")"
   ]
  }
 ],
 "metadata": {
  "kernelspec": {
   "display_name": "Python 3",
   "language": "python",
   "name": "python3"
  },
  "language_info": {
   "codemirror_mode": {
    "name": "ipython",
    "version": 3
   },
   "file_extension": ".py",
   "mimetype": "text/x-python",
   "name": "python",
   "nbconvert_exporter": "python",
   "pygments_lexer": "ipython3",
   "version": "3.12.3"
  }
 },
 "nbformat": 4,
 "nbformat_minor": 2
}
