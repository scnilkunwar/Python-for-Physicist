{
 "cells": [
  {
   "cell_type": "markdown",
   "metadata": {},
   "source": [
    "# `scipy.optimize` – Optimization and Root Finding\n",
    "\n",
    "The `scipy.optimize` module in SciPy provides tools for solving optimization and root-finding problems, useful for tasks such as parameter estimation, curve fitting, and various machine learning applications. This tutorial includes:\n",
    "- `minimize` and `fmin` for function minimization.\n",
    "- `root` for solving equations.\n",
    "- `curve_fit` for non-linear curve fitting.\n",
    "\n",
    "### 1. Minimization of Functions\n",
    "\n",
    "#### 1.1. `minimize()`\n",
    "The `minimize` function performs minimization of a scalar or multivariate function using various methods such as `'BFGS'`, `'Nelder-Mead'`, or `'Powell'`.\n",
    "\n",
    "**Syntax**:\n",
    "```python\n",
    "from scipy.optimize import minimize\n",
    "result = minimize(func, x0, method='BFGS', options={})\n",
    "```\n",
    "func: The function to minimize.\n",
    "x0: Initial guess for the solution.\n",
    "method: Optimization method (default is 'BFGS').\n",
    "options: Additional options for tuning the optimization process."
   ]
  },
  {
   "cell_type": "code",
   "execution_count": 3,
   "metadata": {},
   "outputs": [
    {
     "name": "stdout",
     "output_type": "stream",
     "text": [
      "Minimum: [3.00000003]\n"
     ]
    }
   ],
   "source": [
    "from scipy.optimize import minimize\n",
    "\n",
    "def f(x):\n",
    "    return (x - 3)**2 + 2\n",
    "\n",
    "result = minimize(f, x0=0)\n",
    "print(\"Minimum:\", result.x)  # Output should be close to x = 3"
   ]
  },
  {
   "cell_type": "markdown",
   "metadata": {},
   "source": [
    "### 1.2. `fmin()`\n",
    "The `fmin` function performs downhill simplex minimization. It’s especially useful for unconstrained minimization problems.\n",
    "\n",
    "**Syntax**:\n",
    "\n",
    "```python\n",
    "from scipy.optimize import fmin\n",
    "```\n",
    "- result = fmin(func, x0)\n",
    "- func: The function to minimize.\n",
    "- x0: Initial guess for the solution."
   ]
  },
  {
   "cell_type": "code",
   "execution_count": 4,
   "metadata": {},
   "outputs": [
    {
     "name": "stdout",
     "output_type": "stream",
     "text": [
      "Optimization terminated successfully.\n",
      "         Current function value: 2.000000\n",
      "         Iterations: 28\n",
      "         Function evaluations: 56\n",
      "Minimum: [3.]\n"
     ]
    }
   ],
   "source": [
    "from scipy.optimize import fmin\n",
    "\n",
    "def f(x):\n",
    "    return (x - 3)**2 + 2\n",
    "\n",
    "result = fmin(f, x0=0)\n",
    "print(\"Minimum:\", result)  # Output should be close to x = 3"
   ]
  },
  {
   "cell_type": "markdown",
   "metadata": {},
   "source": [
    "## 2. Root-Finding\n",
    "### 2.1. `root()`\n",
    "The root function finds the roots of a function or system of equations, where the function equals zero.\n",
    "\n",
    "**Syntax**:\n",
    "\n",
    "```python\n",
    "from scipy.optimize import root\n",
    "result = root(func, x0, method='hybr', options={})\n",
    "```\n",
    "- func: Function whose root is to be found.\n",
    "- x0: Initial guess.\n",
    "- method: Root-finding method (e.g., 'hybr', 'broyden1').\n",
    "- options: Additional options."
   ]
  },
  {
   "cell_type": "code",
   "execution_count": 8,
   "metadata": {},
   "outputs": [
    {
     "name": "stdout",
     "output_type": "stream",
     "text": [
      " message: The solution converged.\n",
      " success: True\n",
      "  status: 1\n",
      "     fun: [-2.558e-13]\n",
      "       x: [-3.000e+00]\n",
      "  method: hybr\n",
      "    nfev: 12\n",
      "    fjac: [[-1.000e+00]]\n",
      "       r: [ 6.000e+00]\n",
      "     qtf: [ 6.706e-08]\n"
     ]
    }
   ],
   "source": [
    "from scipy.optimize import root\n",
    "\n",
    "def f(x):\n",
    "    return x**2 - 9\n",
    "\n",
    "result = root(f, x0=-1)\n",
    "print(result)  # Output should be close to x = 3 or x = -3"
   ]
  },
  {
   "cell_type": "markdown",
   "metadata": {},
   "source": [
    "## 3. Non-Linear Curve Fitting\n",
    "### 3.1. `curve_fit()`\n",
    "The curve_fit function performs non-linear curve fitting using a user-defined function and data.\n",
    "\n",
    "**Syntax**:\n",
    "\n",
    "```python\n",
    "from scipy.optimize import curve_fit\n",
    "params, covariance = curve_fit(func, xdata, ydata, p0=None)\n",
    "```\n",
    "- func: The model function, e.g., a polynomial or exponential function.\n",
    "- xdata, ydata: Data for fitting.\n",
    "- p0: Initial guess for the parameters."
   ]
  },
  {
   "cell_type": "code",
   "execution_count": 9,
   "metadata": {},
   "outputs": [
    {
     "name": "stdout",
     "output_type": "stream",
     "text": [
      "Fitted parameters: [2.00245658 0.49869883]\n"
     ]
    }
   ],
   "source": [
    "from scipy.optimize import curve_fit\n",
    "import numpy as np\n",
    "\n",
    "# Define the model function\n",
    "def model(x, a, b):\n",
    "    return a * np.exp(b * x)\n",
    "\n",
    "# Generate synthetic data\n",
    "xdata = np.linspace(0, 4, 50)\n",
    "ydata = model(xdata, 2, 0.5) + 0.1 * np.random.normal(size=xdata.size)\n",
    "\n",
    "# Fit the data\n",
    "params, covariance = curve_fit(model, xdata, ydata, p0=(1, 0.1))\n",
    "print(\"Fitted parameters:\", params)  # Should be close to (2, 0.5)"
   ]
  },
  {
   "cell_type": "code",
   "execution_count": 10,
   "metadata": {},
   "outputs": [
    {
     "name": "stdout",
     "output_type": "stream",
     "text": [
      "Fitted parameters: [1.9929745  0.50197469]\n"
     ]
    },
    {
     "data": {
      "image/png": "[encoded data removed]",
      "text/plain": [
       "<Figure size 640x480 with 1 Axes>"
      ]
     },
     "metadata": {},
     "output_type": "display_data"
    }
   ],
   "source": [
    "import numpy as np\n",
    "import matplotlib.pyplot as plt\n",
    "from scipy.optimize import curve_fit\n",
    "\n",
    "# Define the model function\n",
    "def model(x, a, b):\n",
    "    return a * np.exp(b * x)\n",
    "\n",
    "# Generate synthetic data\n",
    "xdata = np.linspace(0, 4, 50)\n",
    "ydata = model(xdata, 2, 0.5) + 0.1 * np.random.normal(size=xdata.size)\n",
    "\n",
    "# Fit the data\n",
    "params, covariance = curve_fit(model, xdata, ydata, p0=(1, 0.1))\n",
    "\n",
    "# Print the fitted parameters\n",
    "print(\"Fitted parameters:\", params)  # Should be close to (2, 0.5)\n",
    "\n",
    "# Generate the fitted curve\n",
    "yfit = model(xdata, *params)\n",
    "\n",
    "# Plot the data and the fitted curve\n",
    "plt.scatter(xdata, ydata, label='Data', color='red', s=20)\n",
    "plt.plot(xdata, yfit, label='Fitted curve', color='blue', linewidth=2)\n",
    "plt.xlabel('x')\n",
    "plt.ylabel('y')\n",
    "plt.legend()\n",
    "plt.title('Data and Fitted Curve')\n",
    "plt.show()\n"
   ]
  },
  {
   "cell_type": "markdown",
   "metadata": {},
   "source": [
    "## 4. Linear Programming with `scipy.optimize.linprog`\n",
    "\n",
    "The `scipy.optimize.linprog` function is used to solve linear programming problems in Python. It helps you find the values of decision variables that optimize a linear objective function, subject to linear constraints.\n",
    "\n",
    "### Syntax\n",
    "\n",
    "```python\n",
    "scipy.optimize.linprog(c, A_ub=None, b_ub=None, A_eq=None, b_eq=None, bounds=None, method='simplex', options=None)\n",
    "```\n",
    "### Parameters:\n",
    "\n",
    "- **c**: `array_like, shape (n,)`\n",
    "  - Coefficients of the linear objective function to be minimized. For maximization, you should provide the negative of the coefficients.\n",
    "\n",
    "- **A_ub**: `array_like, shape (m, n)`, optional\n",
    "  - Coefficients of the inequality constraints in the form \\( A \\cdot x \\leq b \\).\n",
    "\n",
    "- **b_ub**: `array_like, shape (m,)`, optional\n",
    "  - Right-hand side of the inequality constraints.\n",
    "\n",
    "- **A_eq**: `array_like, shape (p, n)`, optional\n",
    "  - Coefficients of the equality constraints in the form \\( A \\cdot x = b \\).\n",
    "\n",
    "- **b_eq**: `array_like, shape (p,)`, optional\n",
    "  - Right-hand side of the equality constraints.\n",
    "\n",
    "- **bounds**: `sequence of (min, max) pairs, optional`\n",
    "  - Bounds for variables, in the form \\((min, max)\\). If a variable is not bounded, use `None` for that variable's bounds.\n",
    "\n",
    "- **method**: `str, optional`\n",
    "  - The method to use for optimization. Available options:\n",
    "    - `'simplex'` (legacy method, generally used for small problems),\n",
    "    - `'revised simplex'` (a more efficient version of the simplex method),\n",
    "    - `'interior-point'` (a more modern, interior-point algorithm),\n",
    "    - `'highs'` (default, a more robust and efficient solver based on interior-point methods).\n",
    "\n",
    "- **options**: `dict, optional`\n",
    "  - Additional options to customize the solver's behavior, such as tolerance (`tol`) and iteration limits.\n",
    "\n",
    "### Example Problem\n",
    "\n",
    "Niki holds two part-time jobs, Job I and Job II. She cannot work more than 12 hours a week in total. For every hour she works at Job I, she needs 2 hours of preparation, and for every hour at Job II, she needs 1 hour of preparation. She cannot spend more than 16 hours on preparation. Niki earns $40 per hour at Job I and $30 per hour at Job II. We need to determine the number of hours Niki should work at each job to maximize her income.\n",
    "\n",
    "### Objective:\n",
    "Maximize the income, which is given by:\n",
    "\n",
    "\\[\n",
    "\\text{Income} = 40x + 30y\n",
    "\\]\n",
    "\n",
    "Where:\n",
    "\n",
    "- \\( x \\) is the number of hours worked at Job I,\n",
    "- \\( y \\) is the number of hours worked at Job II.\n",
    "\n",
    "### Constraints:\n",
    "1. \\( x + y \\leq 12 \\) (Total working hours constraint)\n",
    "2. \\( 2x + y \\leq 16 \\) (Preparation time constraint)\n",
    "3. \\( x \\geq 0 \\), \\( y \\geq 0 \\) (Non-negativity constraint)\n"
   ]
  },
  {
   "cell_type": "code",
   "execution_count": 2,
   "metadata": {},
   "outputs": [
    {
     "name": "stdout",
     "output_type": "stream",
     "text": [
      "Optimal number of hours for Job I (x): 4.00\n",
      "Optimal number of hours for Job II (y): 8.00\n",
      "Maximum income: $400.00\n"
     ]
    }
   ],
   "source": [
    "from scipy.optimize import linprog\n",
    "\n",
    "# Coefficients of the objective function (negative for maximization)\n",
    "c = [-40, -30]\n",
    "\n",
    "# Coefficients of the inequality constraints\n",
    "A = [\n",
    "    [1, 1],  # x + y <= 12\n",
    "    [2, 1],  # 2x + y <= 16\n",
    "]\n",
    "\n",
    "# Right-hand side values for the inequality constraints\n",
    "b = [12, 16]\n",
    "\n",
    "# Bounds for the variables: x >= 0, y >= 0\n",
    "x_bounds = (0, None)\n",
    "y_bounds = (0, None)\n",
    "\n",
    "# Solve the linear programming problem\n",
    "result = linprog(c, A_ub=A, b_ub=b, bounds=[x_bounds, y_bounds], method='highs')\n",
    "\n",
    "# Check if the solution was successful\n",
    "if result.success:\n",
    "    x, y = result.x  # Optimal values of x and y\n",
    "    print(f\"Optimal number of hours for Job I (x): {x:.2f}\")\n",
    "    print(f\"Optimal number of hours for Job II (y): {y:.2f}\")\n",
    "    print(f\"Maximum income: ${-result.fun:.2f}\")\n",
    "else:\n",
    "    print(\"No solution found.\")\n"
   ]
  },
  {
   "cell_type": "code",
   "execution_count": 3,
   "metadata": {},
   "outputs": [],
   "source": [
    "import scipy"
   ]
  },
  {
   "cell_type": "code",
   "execution_count": 4,
   "metadata": {},
   "outputs": [
    {
     "data": {
      "text/plain": [
       "['BFGS',\n",
       " 'Bounds',\n",
       " 'BroydenFirst',\n",
       " 'HessianUpdateStrategy',\n",
       " 'InverseJacobian',\n",
       " 'KrylovJacobian',\n",
       " 'LbfgsInvHessProduct',\n",
       " 'LinearConstraint',\n",
       " 'NoConvergence',\n",
       " 'NonlinearConstraint',\n",
       " 'OptimizeResult',\n",
       " 'OptimizeWarning',\n",
       " 'RootResults',\n",
       " 'SR1',\n",
       " '__all__',\n",
       " '__builtins__',\n",
       " '__cached__',\n",
       " '__doc__',\n",
       " '__file__',\n",
       " '__loader__',\n",
       " '__name__',\n",
       " '__package__',\n",
       " '__path__',\n",
       " '__spec__',\n",
       " '_basinhopping',\n",
       " '_bglu_dense',\n",
       " '_cobyla',\n",
       " '_cobyla_py',\n",
       " '_cobyqa_py',\n",
       " '_constraints',\n",
       " '_dcsrch',\n",
       " '_differentiable_functions',\n",
       " '_differentialevolution',\n",
       " '_direct',\n",
       " '_direct_py',\n",
       " '_dual_annealing',\n",
       " '_group_columns',\n",
       " '_hessian_update_strategy',\n",
       " '_highs',\n",
       " '_isotonic',\n",
       " '_lbfgsb',\n",
       " '_lbfgsb_py',\n",
       " '_linesearch',\n",
       " '_linprog',\n",
       " '_linprog_doc',\n",
       " '_linprog_highs',\n",
       " '_linprog_ip',\n",
       " '_linprog_rs',\n",
       " '_linprog_simplex',\n",
       " '_linprog_util',\n",
       " '_lsap',\n",
       " '_lsq',\n",
       " '_milp',\n",
       " '_minimize',\n",
       " '_minpack',\n",
       " '_minpack_py',\n",
       " '_moduleTNC',\n",
       " '_nnls',\n",
       " '_nonlin',\n",
       " '_numdiff',\n",
       " '_optimize',\n",
       " '_pava_pybind',\n",
       " '_qap',\n",
       " '_remove_redundancy',\n",
       " '_root',\n",
       " '_root_scalar',\n",
       " '_shgo',\n",
       " '_shgo_lib',\n",
       " '_slsqp',\n",
       " '_slsqp_py',\n",
       " '_spectral',\n",
       " '_tnc',\n",
       " '_trlib',\n",
       " '_trustregion',\n",
       " '_trustregion_constr',\n",
       " '_trustregion_dogleg',\n",
       " '_trustregion_exact',\n",
       " '_trustregion_krylov',\n",
       " '_trustregion_ncg',\n",
       " '_zeros',\n",
       " '_zeros_py',\n",
       " 'anderson',\n",
       " 'approx_fprime',\n",
       " 'basinhopping',\n",
       " 'bisect',\n",
       " 'bracket',\n",
       " 'brent',\n",
       " 'brenth',\n",
       " 'brentq',\n",
       " 'broyden1',\n",
       " 'broyden2',\n",
       " 'brute',\n",
       " 'check_grad',\n",
       " 'cobyla',\n",
       " 'curve_fit',\n",
       " 'diagbroyden',\n",
       " 'differential_evolution',\n",
       " 'direct',\n",
       " 'dual_annealing',\n",
       " 'excitingmixing',\n",
       " 'fixed_point',\n",
       " 'fmin',\n",
       " 'fmin_bfgs',\n",
       " 'fmin_cg',\n",
       " 'fmin_cobyla',\n",
       " 'fmin_l_bfgs_b',\n",
       " 'fmin_ncg',\n",
       " 'fmin_powell',\n",
       " 'fmin_slsqp',\n",
       " 'fmin_tnc',\n",
       " 'fminbound',\n",
       " 'fsolve',\n",
       " 'golden',\n",
       " 'isotonic_regression',\n",
       " 'lbfgsb',\n",
       " 'least_squares',\n",
       " 'leastsq',\n",
       " 'line_search',\n",
       " 'linear_sum_assignment',\n",
       " 'linearmixing',\n",
       " 'linesearch',\n",
       " 'linprog',\n",
       " 'linprog_verbose_callback',\n",
       " 'lsq_linear',\n",
       " 'milp',\n",
       " 'minimize',\n",
       " 'minimize_scalar',\n",
       " 'minpack',\n",
       " 'minpack2',\n",
       " 'moduleTNC',\n",
       " 'newton',\n",
       " 'newton_krylov',\n",
       " 'nnls',\n",
       " 'nonlin',\n",
       " 'optimize',\n",
       " 'quadratic_assignment',\n",
       " 'ridder',\n",
       " 'root',\n",
       " 'root_scalar',\n",
       " 'rosen',\n",
       " 'rosen_der',\n",
       " 'rosen_hess',\n",
       " 'rosen_hess_prod',\n",
       " 'shgo',\n",
       " 'show_options',\n",
       " 'slsqp',\n",
       " 'test',\n",
       " 'tnc',\n",
       " 'toms748',\n",
       " 'zeros']"
      ]
     },
     "execution_count": 4,
     "metadata": {},
     "output_type": "execute_result"
    }
   ],
   "source": [
    "dir(scipy.optimize)"
   ]
  }
 ],
 "metadata": {
  "kernelspec": {
   "display_name": "Python 3",
   "language": "python",
   "name": "python3"
  },
  "language_info": {
   "codemirror_mode": {
    "name": "ipython",
    "version": 3
   },
   "file_extension": ".py",
   "mimetype": "text/x-python",
   "name": "python",
   "nbconvert_exporter": "python",
   "pygments_lexer": "ipython3",
   "version": "3.12.3"
  }
 },
 "nbformat": 4,
 "nbformat_minor": 2
}
