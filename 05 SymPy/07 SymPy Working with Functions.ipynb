{
 "cells": [
  {
   "cell_type": "markdown",
   "metadata": {},
   "source": [
    "## Working with Functions\n",
    "\n",
    "In this section, we will explore how to work with functions in SymPy, including defining standard functions, creating piecewise functions, plotting functions, and performing series and Taylor expansions. Each subsection includes examples and function descriptions.\n",
    "\n",
    "### Defining Functions\n",
    "\n",
    "You can define functions in SymPy using the `Function` class."
   ]
  },
  {
   "cell_type": "code",
   "execution_count": 3,
   "metadata": {},
   "outputs": [
    {
     "data": {
      "text/latex": [
       "$\\displaystyle e^{x} + \\sin{\\left(x \\right)}$"
      ],
      "text/plain": [
       "exp(x) + sin(x)"
      ]
     },
     "execution_count": 3,
     "metadata": {},
     "output_type": "execute_result"
    }
   ],
   "source": [
    "import sympy as sp\n",
    "\n",
    "# Define a symbol\n",
    "x = sp.symbols('x')\n",
    "\n",
    "# Define a function\n",
    "f = sp.Function('f')(x)\n",
    "\n",
    "# Define an expression for the function\n",
    "f = sp.sin(x) + sp.exp(x)\n",
    "f  # Output: sin(x) + exp(x)"
   ]
  },
  {
   "cell_type": "markdown",
   "metadata": {},
   "source": [
    "### Piecewise Functions\n",
    "You can create piecewise functions using the `Piecewise` class."
   ]
  },
  {
   "cell_type": "code",
   "execution_count": 7,
   "metadata": {},
   "outputs": [
    {
     "data": {
      "text/latex": [
       "$\\displaystyle \\begin{cases} x^{2} & \\text{for}\\: x < 0 \\\\x & \\text{otherwise} \\end{cases}$"
      ],
      "text/plain": [
       "Piecewise((x**2, x < 0), (x, True))"
      ]
     },
     "execution_count": 7,
     "metadata": {},
     "output_type": "execute_result"
    }
   ],
   "source": [
    "# Define a piecewise function\n",
    "piecewise_function = sp.Piecewise((x**2, x < 0), (x, x >= 0))\n",
    "piecewise_function"
   ]
  },
  {
   "cell_type": "markdown",
   "metadata": {},
   "source": [
    "### Series and Taylor Expansions\n",
    "You can compute series expansions and Taylor series using the `series()` method."
   ]
  },
  {
   "cell_type": "code",
   "execution_count": 18,
   "metadata": {},
   "outputs": [
    {
     "data": {
      "text/latex": [
       "$\\displaystyle \\frac{x^{13}}{6227020800} - \\frac{x^{11}}{39916800} + \\frac{x^{9}}{362880} - \\frac{x^{7}}{5040} + \\frac{x^{5}}{120} - \\frac{x^{3}}{6} + x$"
      ],
      "text/plain": [
       "x**13/6227020800 - x**11/39916800 + x**9/362880 - x**7/5040 + x**5/120 - x**3/6 + x"
      ]
     },
     "execution_count": 18,
     "metadata": {},
     "output_type": "execute_result"
    }
   ],
   "source": [
    "# Define a function\n",
    "f = sp.sin(x)\n",
    "\n",
    "# Compute the Taylor series expansion around x=0 to order 5\n",
    "taylor_series = f.series(x, 0, 15).removeO()\n",
    "taylor_series"
   ]
  }
 ],
 "metadata": {
  "kernelspec": {
   "display_name": "Python 3",
   "language": "python",
   "name": "python3"
  },
  "language_info": {
   "codemirror_mode": {
    "name": "ipython",
    "version": 3
   },
   "file_extension": ".py",
   "mimetype": "text/x-python",
   "name": "python",
   "nbconvert_exporter": "python",
   "pygments_lexer": "ipython3",
   "version": "3.12.3"
  }
 },
 "nbformat": 4,
 "nbformat_minor": 2
}
