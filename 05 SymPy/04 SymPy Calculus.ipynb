{
 "cells": [
  {
   "cell_type": "markdown",
   "metadata": {},
   "source": [
    "5. Calculus with SymPy\n",
    "\n",
    "In this section, we will explore how to perform calculus operations using SymPy, including differentiation, integration, limits, and series expansions. Each subsection will include examples and function descriptions.\n",
    "\n",
    "### Differentiation\n",
    "\n",
    "Differentiation is the process of finding the derivative of a function. SymPy provides functions to calculate both basic and higher-order derivatives.\n",
    "\n",
    "#### Basic Derivatives\n",
    "\n",
    "You can compute the derivative of a function using the `diff()` function."
   ]
  },
  {
   "cell_type": "code",
   "execution_count": 7,
   "metadata": {},
   "outputs": [
    {
     "data": {
      "text/latex": [
       "$\\displaystyle - \\sin{\\left(x \\right)} + \\cos{\\left(x \\right)}$"
      ],
      "text/plain": [
       "-sin(x) + cos(x)"
      ]
     },
     "execution_count": 7,
     "metadata": {},
     "output_type": "execute_result"
    }
   ],
   "source": [
    "##### Example: Basic Derivatives\n",
    "\n",
    "import sympy as sp\n",
    "\n",
    "# Define a symbol\n",
    "x = sp.symbols('x')\n",
    "\n",
    "# Define a function\n",
    "f = sp.sin(x) + sp.cos(x)\n",
    "\n",
    "# Calculate the first derivative\n",
    "first_derivative = sp.diff(f, x)\n",
    "first_derivative # Output: cos(x) - sin(x)"
   ]
  },
  {
   "cell_type": "markdown",
   "metadata": {},
   "source": [
    "### Higher-Order Derivatives\n",
    "You can also compute higher-order derivatives by specifying the order in the diff() function."
   ]
  },
  {
   "cell_type": "code",
   "execution_count": 3,
   "metadata": {},
   "outputs": [
    {
     "data": {
      "text/latex": [
       "$\\displaystyle - (\\sin{\\left(x \\right)} + \\cos{\\left(x \\right)})$"
      ],
      "text/plain": [
       "-(sin(x) + cos(x))"
      ]
     },
     "execution_count": 3,
     "metadata": {},
     "output_type": "execute_result"
    }
   ],
   "source": [
    "# Calculate the second derivative\n",
    "second_derivative = sp.diff(f, x, 2)\n",
    "second_derivative  # Output: -sin(x) - cos(x)"
   ]
  },
  {
   "cell_type": "markdown",
   "metadata": {},
   "source": [
    "### Definite and Indefinite Integrals\n",
    "To compute integrals, use the `integrate()` function."
   ]
  },
  {
   "cell_type": "code",
   "execution_count": 4,
   "metadata": {},
   "outputs": [
    {
     "data": {
      "text/latex": [
       "$\\displaystyle \\frac{x^{3}}{3} + \\frac{3 x^{2}}{2} + 2 x$"
      ],
      "text/plain": [
       "x**3/3 + 3*x**2/2 + 2*x"
      ]
     },
     "execution_count": 4,
     "metadata": {},
     "output_type": "execute_result"
    }
   ],
   "source": [
    "# Define a function\n",
    "g = x**2 + 3*x + 2\n",
    "\n",
    "# Calculate the indefinite integral\n",
    "indefinite_integral = sp.integrate(g, x)\n",
    "indefinite_integral  # Output: x**3/3 + 3*x**2/2 + 2*x"
   ]
  },
  {
   "cell_type": "code",
   "execution_count": 5,
   "metadata": {},
   "outputs": [
    {
     "data": {
      "text/latex": [
       "$\\displaystyle \\frac{23}{6}$"
      ],
      "text/plain": [
       "23/6"
      ]
     },
     "execution_count": 5,
     "metadata": {},
     "output_type": "execute_result"
    }
   ],
   "source": [
    "# Calculate the definite integral from 0 to 1\n",
    "definite_integral = sp.integrate(g, (x, 0, 1))\n",
    "definite_integral  # Output: 3/2"
   ]
  },
  {
   "cell_type": "markdown",
   "metadata": {},
   "source": [
    "### Limits and Series Expansions\n",
    "You can calculate limits and series expansions using SymPy as well.\n",
    "\n",
    "Function Description\n",
    "\n",
    "**`sp.limit(expr, var, point)`**: Computes the limit of expr as var approaches point.\n",
    "\n",
    "Parameters:\n",
    "- **expr**: The expression whose limit is to be calculated.\n",
    "- **var**: The variable in the expression.\n",
    "- **point**: The point to which the variable approaches.\n",
    "- **Returns**: The limit of the input expression."
   ]
  },
  {
   "cell_type": "code",
   "execution_count": 8,
   "metadata": {},
   "outputs": [
    {
     "name": "stdout",
     "output_type": "stream",
     "text": [
      "1\n"
     ]
    }
   ],
   "source": [
    "# Calculate the limit as x approaches 0\n",
    "limit_expr = sp.limit(sp.sin(x)/x, x, 0)\n",
    "print(limit_expr)  # Output: 1"
   ]
  },
  {
   "cell_type": "markdown",
   "metadata": {},
   "source": [
    "### Series Expansions\n",
    "You can also generate series expansions using the series() function.\n",
    "\n",
    "Function Description\n",
    "\n",
    "**`sp.series(expr, var, point, n)`**: Computes the Taylor series expansion of expr around point up to the order n.\n",
    "\n",
    "Parameters:\n",
    "- **n**: The number of terms in the series expansion.\n",
    "- **Returns**: The series expansion of the input expression."
   ]
  },
  {
   "cell_type": "code",
   "execution_count": 20,
   "metadata": {},
   "outputs": [
    {
     "data": {
      "text/latex": [
       "$\\displaystyle x + \\frac{x^{3}}{3} + \\frac{2 x^{5}}{15} + \\frac{17 x^{7}}{315} + \\frac{62 x^{9}}{2835} + \\frac{1382 x^{11}}{155925} + \\frac{21844 x^{13}}{6081075} + \\frac{929569 x^{15}}{638512875} + O\\left(x^{16}\\right)$"
      ],
      "text/plain": [
       "x + x**3/3 + 2*x**5/15 + 17*x**7/315 + 62*x**9/2835 + 1382*x**11/155925 + 21844*x**13/6081075 + 929569*x**15/638512875 + O(x**16)"
      ]
     },
     "execution_count": 20,
     "metadata": {},
     "output_type": "execute_result"
    }
   ],
   "source": [
    "# Calculate the Taylor series expansion of sin(x) around x=0\n",
    "series_expansion = sp.series(sp.tan(x), x, 0, 16)\n",
    "series_expansion # Output: x - x**3/6 + O(x**6)"
   ]
  }
 ],
 "metadata": {
  "kernelspec": {
   "display_name": "Python 3",
   "language": "python",
   "name": "python3"
  },
  "language_info": {
   "codemirror_mode": {
    "name": "ipython",
    "version": 3
   },
   "file_extension": ".py",
   "mimetype": "text/x-python",
   "name": "python",
   "nbconvert_exporter": "python",
   "pygments_lexer": "ipython3",
   "version": "3.12.3"
  }
 },
 "nbformat": 4,
 "nbformat_minor": 2
}
