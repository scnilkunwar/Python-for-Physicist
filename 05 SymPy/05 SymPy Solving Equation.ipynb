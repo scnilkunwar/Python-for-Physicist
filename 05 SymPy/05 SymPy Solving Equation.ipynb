{
 "cells": [
  {
   "cell_type": "markdown",
   "metadata": {},
   "source": [
    "## Solving Equations\n",
    "\n",
    "In this section, we will explore how to solve various types of equations using SymPy, including algebraic equations (single variable and systems of equations) and differential equations (ordinary and partial differential equations). Each subsection will include examples and function descriptions.\n",
    "\n",
    "### Algebraic Equations\n",
    "\n",
    "SymPy provides tools to solve both single-variable and systems of algebraic equations.\n",
    "\n",
    "#### Single Variable\n",
    "\n",
    "To solve a single-variable equation, use the `solve()` function."
   ]
  },
  {
   "cell_type": "code",
   "execution_count": 1,
   "metadata": {},
   "outputs": [
    {
     "name": "stdout",
     "output_type": "stream",
     "text": [
      "[-2, 2]\n"
     ]
    }
   ],
   "source": [
    "import sympy as sp\n",
    "\n",
    "# Define a symbol\n",
    "x = sp.symbols('x')\n",
    "\n",
    "# Define an equation\n",
    "equation = sp.Eq(x**2 - 4, 0)\n",
    "\n",
    "# Solve the equation\n",
    "solution = sp.solve(equation, x)\n",
    "print(solution)  # Output: [-2, 2]"
   ]
  },
  {
   "cell_type": "markdown",
   "metadata": {},
   "source": [
    "### Systems of Equations\n",
    "You can also solve systems of equations using the same `solve()` function."
   ]
  },
  {
   "cell_type": "code",
   "execution_count": 2,
   "metadata": {},
   "outputs": [
    {
     "data": {
      "text/plain": [
       "{x: 3, y: 2}"
      ]
     },
     "execution_count": 2,
     "metadata": {},
     "output_type": "execute_result"
    }
   ],
   "source": [
    "# Define symbols\n",
    "x, y = sp.symbols('x y')\n",
    "\n",
    "# Define a system of equations\n",
    "equations = [sp.Eq(x + y, 5), sp.Eq(x - y, 1)]\n",
    "\n",
    "# Solve the system of equations\n",
    "solutions = sp.solve(equations, (x, y))\n",
    "solutions  # Output: {x: 3, y: 2}"
   ]
  },
  {
   "cell_type": "markdown",
   "metadata": {},
   "source": [
    "### Differential Equations\n",
    "SymPy can also solve ordinary and partial differential equations.\n",
    "\n",
    "### Ordinary Differential Equations (ODEs)\n",
    "To solve ODEs, you can use the `dsolve()` function."
   ]
  },
  {
   "cell_type": "code",
   "execution_count": 9,
   "metadata": {},
   "outputs": [
    {
     "data": {
      "text/latex": [
       "$\\displaystyle y{\\left(t \\right)} = C_{1} + t^{2}$"
      ],
      "text/plain": [
       "Eq(y(t), C1 + t**2)"
      ]
     },
     "execution_count": 9,
     "metadata": {},
     "output_type": "execute_result"
    }
   ],
   "source": [
    "# Define symbols\n",
    "t = sp.symbols('t')\n",
    "y = sp.Function('y')\n",
    "\n",
    "# Define an ordinary differential equation\n",
    "ode = sp.Eq(y(t).diff(t), 2*t)\n",
    "\n",
    "# Solve the ODE\n",
    "ode_solution = sp.dsolve(ode, y(t))\n",
    "ode_solution # Output: Eq(y(t), C1*exp(t))"
   ]
  }
 ],
 "metadata": {
  "kernelspec": {
   "display_name": "Python 3",
   "language": "python",
   "name": "python3"
  },
  "language_info": {
   "codemirror_mode": {
    "name": "ipython",
    "version": 3
   },
   "file_extension": ".py",
   "mimetype": "text/x-python",
   "name": "python",
   "nbconvert_exporter": "python",
   "pygments_lexer": "ipython3",
   "version": "3.12.3"
  }
 },
 "nbformat": 4,
 "nbformat_minor": 2
}
