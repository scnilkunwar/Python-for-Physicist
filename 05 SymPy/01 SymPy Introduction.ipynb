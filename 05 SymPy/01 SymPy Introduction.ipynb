{
 "cells": [
  {
   "cell_type": "markdown",
   "metadata": {},
   "source": [
    "![Python for Physicist](https://github.com/scnilkunwar/Python-for-Physicist/blob/main/images/Banner.png?raw=true)\n",
    "<div align=\"center\">\n",
    "    \n",
    "![SymPy](https://upload.wikimedia.org/wikipedia/commons/thumb/5/54/Sympy_logo.svg/800px-Sympy_logo.svg.png)\n",
    "  <h1> Python for Physicist - SymPy</h1>\n",
    "</div>\n",
    "<a href=\"https://docs.sympy.org/latest/tutorials/intro-tutorial/features.html\" \n",
    "style=\"display: inline-block; \n",
    "padding: 10px 20px; \n",
    "background-color: #4CAF50; \n",
    "color: white; \n",
    "text-align: center; \n",
    "text-decoration: none; \n",
    "border-radius: 5px;\">SymPy Documentation</a>\n",
    "\n",
    "# Introduction to SymPy\n",
    "\n",
    "## What is SymPy?\n",
    "\n",
    "SymPy is a Python library for symbolic mathematics. It provides tools for algebraic operations, calculus, discrete mathematics, and many other areas of mathematics. SymPy is designed to be easily extensible and can be used interactively or as a library.\n",
    "\n",
    "## Key Features\n",
    "\n",
    "- **Symbolic Computation**: Perform algebraic manipulations, simplify expressions, and solve equations symbolically.\n",
    "- **Calculus**: Compute derivatives, integrals, limits, and series expansions.\n",
    "- **Equation Solving**: Solve algebraic equations, systems of equations, and differential equations.\n",
    "- **Matrix Operations**: Work with matrices, including eigenvalues, determinants, and more.\n",
    "- **Plotting**: Visualize functions and data with built-in plotting capabilities.\n",
    "\n",
    "## Installation\n",
    "\n",
    "You can install SymPy using pip:\n",
    "\n",
    "```bash\n",
    "pip install sympy\n"
   ]
  }
 ],
 "metadata": {
  "language_info": {
   "name": "python"
  }
 },
 "nbformat": 4,
 "nbformat_minor": 2
}
