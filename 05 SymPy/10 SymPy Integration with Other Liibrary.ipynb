{
 "cells": [
  {
   "cell_type": "markdown",
   "metadata": {},
   "source": [
    "## Integration with Other Libraries\n",
    "\n",
    "In this section, we will explore how to integrate SymPy with other powerful libraries like NumPy and SciPy. We will also cover how to export SymPy results to other formats, including LaTeX and NumPy arrays. Each subsection includes examples and explanations.\n",
    "\n",
    "### Using SymPy with NumPy and SciPy\n",
    "\n",
    "SymPy can work seamlessly with NumPy and SciPy, allowing you to leverage their numerical capabilities alongside symbolic computations."
   ]
  },
  {
   "cell_type": "code",
   "execution_count": 5,
   "metadata": {},
   "outputs": [
    {
     "data": {
      "text/plain": [
       "np.float64(1.0)"
      ]
     },
     "execution_count": 5,
     "metadata": {},
     "output_type": "execute_result"
    }
   ],
   "source": [
    "import sympy as sp\n",
    "import numpy as np\n",
    "\n",
    "# Define a symbolic expression\n",
    "x = sp.symbols('x')\n",
    "expr = sp.sin(x)\n",
    "\n",
    "# Convert symbolic expression to a NumPy function\n",
    "f = sp.lambdify(x, expr, 'numpy')\n",
    "\n",
    "# Generate x values\n",
    "x_vals = np.linspace(-2*np.pi, 2*np.pi, 100)\n",
    "\n",
    "# Calculate y values\n",
    "y_vals = f(x_vals)\n",
    "\n",
    "# Now you can use y_vals for plotting or further numerical analysis\n",
    "f(np.pi / 2)"
   ]
  },
  {
   "cell_type": "markdown",
   "metadata": {},
   "source": [
    "### Using SymPy with SciPy\n",
    "You can also use SymPy with SciPy for numerical integration and solving differential equations."
   ]
  },
  {
   "cell_type": "code",
   "execution_count": 6,
   "metadata": {},
   "outputs": [
    {
     "name": "stdout",
     "output_type": "stream",
     "text": [
      "Numerical integration result: 1.7724538509055159, with error estimate: 1.4202636756659625e-08\n"
     ]
    }
   ],
   "source": [
    "from scipy.integrate import quad\n",
    "\n",
    "# Define a symbolic expression\n",
    "f = sp.exp(-x**2)\n",
    "\n",
    "# Convert to a numerical function\n",
    "numerical_func = sp.lambdify(x, f, 'numpy')\n",
    "\n",
    "# Perform numerical integration\n",
    "result, error = quad(numerical_func, -np.inf, np.inf)\n",
    "print(f'Numerical integration result: {result}, with error estimate: {error}')"
   ]
  },
  {
   "cell_type": "markdown",
   "metadata": {},
   "source": [
    "### Exporting SymPy Results to Other Formats\n",
    "SymPy allows you to export results in various formats, including LaTeX and NumPy arrays, making it easier to share or utilize results in different contexts.\n"
   ]
  },
  {
   "cell_type": "code",
   "execution_count": 8,
   "metadata": {},
   "outputs": [
    {
     "data": {
      "text/plain": [
       "'- \\\\cos{\\\\left(x \\\\right)}'"
      ]
     },
     "execution_count": 8,
     "metadata": {},
     "output_type": "execute_result"
    }
   ],
   "source": [
    "# Define a symbolic expression\n",
    "expr = sp.integrate(sp.sin(x), x)\n",
    "\n",
    "# Export to LaTeX\n",
    "latex_str = sp.latex(expr)\n",
    "latex_str  # Output: \\frac{-\\cos{\\left(x \\right)}}{1}"
   ]
  },
  {
   "cell_type": "code",
   "execution_count": 14,
   "metadata": {},
   "outputs": [
    {
     "name": "stdout",
     "output_type": "stream",
     "text": [
      "e^{\\sin{\\left(x \\right)}}\n"
     ]
    }
   ],
   "source": [
    "expr = sp.exp(sp.sin(x)) * sp.cos(x)\n",
    "expr_int = sp.integrate(expr, x)\n",
    "latex_str = sp.latex(expr_int)\n",
    "print(latex_str)"
   ]
  }
 ],
 "metadata": {
  "kernelspec": {
   "display_name": "Python 3",
   "language": "python",
   "name": "python3"
  },
  "language_info": {
   "codemirror_mode": {
    "name": "ipython",
    "version": 3
   },
   "file_extension": ".py",
   "mimetype": "text/x-python",
   "name": "python",
   "nbconvert_exporter": "python",
   "pygments_lexer": "ipython3",
   "version": "3.12.3"
  }
 },
 "nbformat": 4,
 "nbformat_minor": 2
}
