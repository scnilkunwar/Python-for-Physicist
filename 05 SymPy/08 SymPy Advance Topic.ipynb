{
 "cells": [
  {
   "cell_type": "markdown",
   "metadata": {},
   "source": [
    "## Advanced Topics\n",
    "\n",
    "In this section, we will explore advanced topics in SymPy, including handling complex numbers, working with polynomials, and performing symbolic statistics. Each subsection includes examples and function descriptions.\n",
    "\n",
    "### Handling Complex Numbers\n",
    "\n",
    "SymPy provides support for complex numbers, allowing you to perform operations and calculations involving real and imaginary parts."
   ]
  },
  {
   "cell_type": "code",
   "execution_count": 2,
   "metadata": {},
   "outputs": [
    {
     "name": "stdout",
     "output_type": "stream",
     "text": [
      "5\n"
     ]
    },
    {
     "data": {
      "text/latex": [
       "$\\displaystyle 3 - 4 i$"
      ],
      "text/plain": [
       "3 - 4*I"
      ]
     },
     "execution_count": 2,
     "metadata": {},
     "output_type": "execute_result"
    }
   ],
   "source": [
    "import sympy as sp\n",
    "\n",
    "# Define complex symbols\n",
    "z = sp.symbols('z', complex=True)\n",
    "\n",
    "# Define a complex number\n",
    "complex_number = 3 + 4*sp.I  # 3 + 4i\n",
    "\n",
    "# Perform operations\n",
    "magnitude = sp.Abs(complex_number)  # Magnitude\n",
    "conjugate = sp.conjugate(complex_number)  # Conjugate\n",
    "print(magnitude)  # Output: 5\n",
    "conjugate  # Output: 3 - 4*I"
   ]
  },
  {
   "cell_type": "code",
   "execution_count": 3,
   "metadata": {},
   "outputs": [
    {
     "data": {
      "text/latex": [
       "$\\displaystyle 2 + i$"
      ],
      "text/plain": [
       "2 + I"
      ]
     },
     "execution_count": 3,
     "metadata": {},
     "output_type": "execute_result"
    }
   ],
   "source": [
    "sp.sqrt(complex_number)"
   ]
  },
  {
   "cell_type": "markdown",
   "metadata": {},
   "source": [
    "### Working with Polynomials\n",
    "SymPy offers robust tools for manipulating and analyzing polynomials."
   ]
  },
  {
   "cell_type": "markdown",
   "metadata": {},
   "source": [
    "`sp.poly(expr)`: Converts an expression into a polynomial object for further analysis."
   ]
  },
  {
   "cell_type": "code",
   "execution_count": 17,
   "metadata": {},
   "outputs": [
    {
     "data": {
      "text/latex": [
       "$\\displaystyle 1$"
      ],
      "text/plain": [
       "1"
      ]
     },
     "execution_count": 17,
     "metadata": {},
     "output_type": "execute_result"
    }
   ],
   "source": [
    "# Define symbols\n",
    "x = sp.symbols('x')\n",
    "\n",
    "# Define a polynomial\n",
    "poly = x**3 - 2*x**2 + x\n",
    "\n",
    "# Find roots of the polynomial\n",
    "roots = sp.solve(poly, x)\n",
    "roots[1]"
   ]
  },
  {
   "cell_type": "markdown",
   "metadata": {},
   "source": [
    "### Symbolic Statistics\n",
    "SymPy can also perform symbolic statistics, allowing you to work with distributions, expected values, and variances."
   ]
  },
  {
   "cell_type": "code",
   "execution_count": 21,
   "metadata": {},
   "outputs": [
    {
     "name": "stdout",
     "output_type": "stream",
     "text": [
      "0\n",
      "1\n"
     ]
    }
   ],
   "source": [
    "# Import statistical functions\n",
    "from sympy.stats import E, variance, Normal\n",
    "\n",
    "# Define a normal distribution\n",
    "X = Normal('X', 0, 1)  # Mean 0, standard deviation 1\n",
    "\n",
    "# Calculate expected value and variance\n",
    "expected_value = E(X)\n",
    "variance = variance(X)\n",
    "print(expected_value)  # Output: 0\n",
    "print(variance)        # Output: 1"
   ]
  }
 ],
 "metadata": {
  "kernelspec": {
   "display_name": "Python 3",
   "language": "python",
   "name": "python3"
  },
  "language_info": {
   "codemirror_mode": {
    "name": "ipython",
    "version": 3
   },
   "file_extension": ".py",
   "mimetype": "text/x-python",
   "name": "python",
   "nbconvert_exporter": "python",
   "pygments_lexer": "ipython3",
   "version": "3.12.3"
  }
 },
 "nbformat": 4,
 "nbformat_minor": 2
}
