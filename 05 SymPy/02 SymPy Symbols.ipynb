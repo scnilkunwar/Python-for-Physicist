{
 "cells": [
  {
   "cell_type": "markdown",
   "metadata": {},
   "source": [
    "## SymPy Symbols\n",
    "\n",
    "In this section, we will cover the basic steps to get started with SymPy defining symbols, and creating expressions.\n",
    "\n",
    "### Defining Symbols\n",
    "In SymPy, mathematical symbols are defined using the symbols function. This allows you to create symbolic variables that can be used in expressions and equations.\n",
    "\n",
    "Example: Defining Symbols\n",
    "To define one or more symbols, use the following syntax:"
   ]
  },
  {
   "cell_type": "code",
   "execution_count": 1,
   "metadata": {},
   "outputs": [],
   "source": [
    "import sympy as smp"
   ]
  },
  {
   "cell_type": "code",
   "execution_count": 3,
   "metadata": {},
   "outputs": [],
   "source": [
    "x, y, z = smp.symbols('x y z')"
   ]
  },
  {
   "cell_type": "markdown",
   "metadata": {},
   "source": [
    "This line of code creates three symbols: x, y, and z. You can define any number of symbols at once by separating their names with spaces."
   ]
  },
  {
   "cell_type": "markdown",
   "metadata": {},
   "source": [
    "### Creating Expressions\n",
    "Once you have defined symbols, you can create mathematical expressions using standard Python operators. SymPy understands these operators and will treat the symbols as variables.\n",
    "\n",
    "Example: Creating Simple Expressions\n",
    "Here are some examples of how to create expressions with the symbols defined earlier:"
   ]
  },
  {
   "cell_type": "code",
   "execution_count": 14,
   "metadata": {},
   "outputs": [
    {
     "data": {
      "text/latex": [
       "$\\displaystyle e^{y} + \\sin{\\left(x \\right)}$"
      ],
      "text/plain": [
       "exp(y) + sin(x)"
      ]
     },
     "execution_count": 14,
     "metadata": {},
     "output_type": "execute_result"
    }
   ],
   "source": [
    "# Define expressions\n",
    "expr1 = x**y\n",
    "expr2 = x * y + z\n",
    "expr3 = smp.sin(x) + smp.exp(y)\n",
    "expr3"
   ]
  },
  {
   "cell_type": "code",
   "execution_count": 10,
   "metadata": {},
   "outputs": [
    {
     "name": "stdout",
     "output_type": "stream",
     "text": [
      "x**2\n",
      "x*y + z\n",
      "exp(y) + sin(x)\n"
     ]
    }
   ],
   "source": [
    "print(expr1)  # Output: x + y\n",
    "print(expr2)  # Output: x*y + z\n",
    "print(expr3)  # Output: sin(x) + exp(y)"
   ]
  },
  {
   "cell_type": "markdown",
   "metadata": {},
   "source": [
    "### Evaluating Expressions\n",
    "You can evaluate expressions by substituting values for the symbols. Use the subs method for substitution:\n",
    "\n",
    "Example: Evaluating Expressions"
   ]
  },
  {
   "cell_type": "code",
   "execution_count": 15,
   "metadata": {},
   "outputs": [
    {
     "name": "stdout",
     "output_type": "stream",
     "text": [
      "8\n"
     ]
    }
   ],
   "source": [
    "# Substitute values into expressions\n",
    "value = expr1.subs({x: 2, y: 3})\n",
    "print(value)  # Output: 5"
   ]
  },
  {
   "cell_type": "markdown",
   "metadata": {},
   "source": [
    "### Combining Expressions\n",
    "You can combine expressions using standard arithmetic operators. SymPy will handle the operations symbolically."
   ]
  },
  {
   "cell_type": "code",
   "execution_count": 17,
   "metadata": {},
   "outputs": [
    {
     "data": {
      "text/latex": [
       "$\\displaystyle x y + x^{y} + z$"
      ],
      "text/plain": [
       "x*y + x**y + z"
      ]
     },
     "execution_count": 17,
     "metadata": {},
     "output_type": "execute_result"
    }
   ],
   "source": [
    "combined_expr = expr1 + expr2\n",
    "combined_expr"
   ]
  }
 ],
 "metadata": {
  "kernelspec": {
   "display_name": "Python 3",
   "language": "python",
   "name": "python3"
  },
  "language_info": {
   "codemirror_mode": {
    "name": "ipython",
    "version": 3
   },
   "file_extension": ".py",
   "mimetype": "text/x-python",
   "name": "python",
   "nbconvert_exporter": "python",
   "pygments_lexer": "ipython3",
   "version": "3.12.3"
  }
 },
 "nbformat": 4,
 "nbformat_minor": 2
}
