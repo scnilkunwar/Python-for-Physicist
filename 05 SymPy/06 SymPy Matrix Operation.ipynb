{
 "cells": [
  {
   "cell_type": "markdown",
   "metadata": {},
   "source": [
    "## Matrix Operations\n",
    "\n",
    "In this section, we will explore how to work with matrices in SymPy, including defining matrices, performing operations like addition and multiplication, finding eigenvalues and eigenvectors, and solving linear systems. Each subsection includes examples and function descriptions.\n",
    "\n",
    "### Defining Matrices\n",
    "\n",
    "You can define matrices using the `Matrix` class in SymPy."
   ]
  },
  {
   "cell_type": "code",
   "execution_count": 2,
   "metadata": {},
   "outputs": [
    {
     "data": {
      "image/png": "[encoded data removed]",
      "text/latex": [
       "$\\displaystyle \\left[\\begin{matrix}1 & 2\\\\3 & 4\\end{matrix}\\right]$"
      ],
      "text/plain": [
       "⎡1  2⎤\n",
       "⎢    ⎥\n",
       "⎣3  4⎦"
      ]
     },
     "execution_count": 2,
     "metadata": {},
     "output_type": "execute_result"
    }
   ],
   "source": [
    "import sympy as sp\n",
    "\n",
    "# Define a 2x2 matrix\n",
    "A = sp.Matrix([[1, 2], [3, 4]])\n",
    "A  # Output: Matrix([[1, 2], [3, 4]])"
   ]
  },
  {
   "cell_type": "markdown",
   "metadata": {},
   "source": [
    "### Matrix Operations\n",
    "SymPy allows you to perform various matrix operations, including addition and multiplication.\n",
    "\n",
    "#### Matrix Addition\n",
    "You can add two matrices using the + operator."
   ]
  },
  {
   "cell_type": "code",
   "execution_count": 3,
   "metadata": {},
   "outputs": [
    {
     "data": {
      "image/png": "[encoded data removed]",
      "text/latex": [
       "$\\displaystyle \\left[\\begin{matrix}6 & 8\\\\10 & 12\\end{matrix}\\right]$"
      ],
      "text/plain": [
       "⎡6   8 ⎤\n",
       "⎢      ⎥\n",
       "⎣10  12⎦"
      ]
     },
     "execution_count": 3,
     "metadata": {},
     "output_type": "execute_result"
    }
   ],
   "source": [
    "# Define another matrix\n",
    "B = sp.Matrix([[5, 6], [7, 8]])\n",
    "\n",
    "# Add the matrices\n",
    "C = A + B\n",
    "C # Output: Matrix([[6, 8], [10, 12]])"
   ]
  },
  {
   "cell_type": "markdown",
   "metadata": {},
   "source": [
    "#### Matrix Multiplication\n",
    "Matrix multiplication can be performed using the * operator."
   ]
  },
  {
   "cell_type": "code",
   "execution_count": 4,
   "metadata": {},
   "outputs": [
    {
     "data": {
      "image/png": "[encoded data removed]",
      "text/latex": [
       "$\\displaystyle \\left[\\begin{matrix}19 & 22\\\\43 & 50\\end{matrix}\\right]$"
      ],
      "text/plain": [
       "⎡19  22⎤\n",
       "⎢      ⎥\n",
       "⎣43  50⎦"
      ]
     },
     "execution_count": 4,
     "metadata": {},
     "output_type": "execute_result"
    }
   ],
   "source": [
    "# Multiply the matrices\n",
    "D = A * B\n",
    "D"
   ]
  },
  {
   "cell_type": "code",
   "execution_count": 12,
   "metadata": {},
   "outputs": [
    {
     "data": {
      "image/png": "[encoded data removed]",
      "text/latex": [
       "$\\displaystyle \\left[\\begin{matrix}-2 & 1\\\\\\frac{3}{2} & - \\frac{1}{2}\\end{matrix}\\right]$"
      ],
      "text/plain": [
       "⎡-2    1  ⎤\n",
       "⎢         ⎥\n",
       "⎣3/2  -1/2⎦"
      ]
     },
     "execution_count": 12,
     "metadata": {},
     "output_type": "execute_result"
    }
   ],
   "source": [
    "A_inv = A**-1\n",
    "A_inv"
   ]
  },
  {
   "cell_type": "code",
   "execution_count": 14,
   "metadata": {},
   "outputs": [
    {
     "data": {
      "image/png": "[encoded data removed]",
      "text/latex": [
       "$\\displaystyle \\left[\\begin{matrix}1 & 0\\\\0 & 1\\end{matrix}\\right]$"
      ],
      "text/plain": [
       "⎡1  0⎤\n",
       "⎢    ⎥\n",
       "⎣0  1⎦"
      ]
     },
     "execution_count": 14,
     "metadata": {},
     "output_type": "execute_result"
    }
   ],
   "source": [
    "I = A * A_inv\n",
    "I"
   ]
  },
  {
   "cell_type": "markdown",
   "metadata": {},
   "source": [
    "### Eigenvalues and Eigenvectors\n",
    "You can compute the eigenvalues and eigenvectors of a matrix using the `eigenvals()` and `eigenvects()` methods."
   ]
  },
  {
   "cell_type": "code",
   "execution_count": 8,
   "metadata": {},
   "outputs": [
    {
     "name": "stdout",
     "output_type": "stream",
     "text": [
      "{2: 1, 5: 1}\n"
     ]
    }
   ],
   "source": [
    "# Define a 2x2 matrix\n",
    "E = sp.Matrix([[4, 2], [1, 3]])\n",
    "eigenvalues = E.eigenvals()\n",
    "sp.pprint(eigenvalues)"
   ]
  },
  {
   "cell_type": "code",
   "execution_count": null,
   "metadata": {},
   "outputs": [
    {
     "name": "stdout",
     "output_type": "stream",
     "text": [
      "⎡⎛      ⎡⎡-1⎤⎤⎞  ⎛      ⎡⎡2⎤⎤⎞⎤\n",
      "⎢⎜2, 1, ⎢⎢  ⎥⎥⎟, ⎜5, 1, ⎢⎢ ⎥⎥⎟⎥\n",
      "⎣⎝      ⎣⎣1 ⎦⎦⎠  ⎝      ⎣⎣1⎦⎦⎠⎦\n"
     ]
    }
   ],
   "source": [
    "# Find eigenvectors\n",
    "eigenvectors = E.eigenvects()\n",
    "sp.pprint(eigenvectors)"
   ]
  },
  {
   "cell_type": "markdown",
   "metadata": {},
   "source": [
    "### Solving Linear Systems\n",
    "You can solve linear systems of equations represented in matrix form using the `linsolve()` function or the `solve_least_squares()` method."
   ]
  },
  {
   "cell_type": "code",
   "execution_count": 16,
   "metadata": {},
   "outputs": [
    {
     "data": {
      "image/png": "[encoded data removed]",
      "text/latex": [
       "$\\displaystyle \\left\\{\\left( \\frac{5}{3}, \\  \\frac{2}{3}\\right)\\right\\}$"
      ],
      "text/plain": [
       "{(5/3, 2/3)}"
      ]
     },
     "execution_count": 16,
     "metadata": {},
     "output_type": "execute_result"
    }
   ],
   "source": [
    "# Define a linear system Ax = b\n",
    "A = sp.Matrix([[2, 1], [1, -1]])\n",
    "b = sp.Matrix([4, 1])\n",
    "\n",
    "# Solve the linear system\n",
    "solution = sp.linsolve((A, b))\n",
    "solution"
   ]
  }
 ],
 "metadata": {
  "kernelspec": {
   "display_name": "Python 3",
   "language": "python",
   "name": "python3"
  },
  "language_info": {
   "codemirror_mode": {
    "name": "ipython",
    "version": 3
   },
   "file_extension": ".py",
   "mimetype": "text/x-python",
   "name": "python",
   "nbconvert_exporter": "python",
   "pygments_lexer": "ipython3",
   "version": "3.12.3"
  }
 },
 "nbformat": 4,
 "nbformat_minor": 4
}
