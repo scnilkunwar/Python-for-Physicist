{
 "cells": [
  {
   "cell_type": "markdown",
   "metadata": {},
   "source": [
    "## Basic Operations\n",
    "\n",
    "In this section, we will explore basic operations you can perform using SymPy, including arithmetic operations, simplifying expressions, expanding expressions, and factoring them. Each operation will include function descriptions and parameters where applicable.\n",
    "\n",
    "### Arithmetic Operations\n",
    "\n",
    "SymPy allows you to perform basic arithmetic operations such as addition, subtraction, multiplication, and division on symbolic expressions. Here are the common operations you can perform:"
   ]
  },
  {
   "cell_type": "code",
   "execution_count": 2,
   "metadata": {},
   "outputs": [
    {
     "data": {
      "text/latex": [
       "$\\displaystyle \\frac{x}{y}$"
      ],
      "text/plain": [
       "x/y"
      ]
     },
     "execution_count": 2,
     "metadata": {},
     "output_type": "execute_result"
    }
   ],
   "source": [
    "import sympy as smp\n",
    "\n",
    "# Define symbols\n",
    "x, y = smp.symbols('x y')\n",
    "\n",
    "# Perform arithmetic operations\n",
    "addition = x + y               # Addition\n",
    "subtraction = x - y            # Subtraction\n",
    "multiplication = x * y         # Multiplication\n",
    "division = x / y               # Division\n",
    "division"
   ]
  },
  {
   "cell_type": "markdown",
   "metadata": {},
   "source": [
    "### Simplifying Expressions\n",
    "The `simplify()` function is used to simplify complex expressions to their simplest form."
   ]
  },
  {
   "cell_type": "code",
   "execution_count": 7,
   "metadata": {},
   "outputs": [
    {
     "data": {
      "text/latex": [
       "$\\displaystyle x + y$"
      ],
      "text/plain": [
       "x + y"
      ]
     },
     "execution_count": 7,
     "metadata": {},
     "output_type": "execute_result"
    }
   ],
   "source": [
    "# Define an expression\n",
    "expr = (x**2 - y**2) / (x - y)\n",
    "\n",
    "# Simplify the expression\n",
    "simplified_expr = smp.simplify(expr)\n",
    "simplified_expr"
   ]
  },
  {
   "cell_type": "markdown",
   "metadata": {},
   "source": [
    "### Expanding Expressions\n",
    "The `expand()` function is used to expand polynomial expressions."
   ]
  },
  {
   "cell_type": "code",
   "execution_count": 10,
   "metadata": {},
   "outputs": [
    {
     "data": {
      "text/latex": [
       "$\\displaystyle x^{2} + 2 x y + y^{2}$"
      ],
      "text/plain": [
       "x**2 + 2*x*y + y**2"
      ]
     },
     "execution_count": 10,
     "metadata": {},
     "output_type": "execute_result"
    }
   ],
   "source": [
    "# Define a polynomial expression\n",
    "expr = (x + y)**2\n",
    "\n",
    "# Expand the expression\n",
    "expanded_expr = smp.expand(expr)\n",
    "expanded_expr  # Output: x**2 + 2*x*y + y**2"
   ]
  },
  {
   "cell_type": "markdown",
   "metadata": {},
   "source": [
    "### Factoring Expressions\n",
    "The `factor()` function is used to factor polynomial expressions back into their constituent parts."
   ]
  },
  {
   "cell_type": "code",
   "execution_count": 12,
   "metadata": {},
   "outputs": [
    {
     "data": {
      "text/latex": [
       "$\\displaystyle \\left(x + 1\\right)^{2}$"
      ],
      "text/plain": [
       "(x + 1)**2"
      ]
     },
     "execution_count": 12,
     "metadata": {},
     "output_type": "execute_result"
    }
   ],
   "source": [
    "# Define a polynomial expression\n",
    "expr = x**2 + 2*x + 1\n",
    "\n",
    "# Factor the expression\n",
    "factored_expr = smp.factor(expr)\n",
    "factored_expr  # Output: (x + 1)**2"
   ]
  }
 ],
 "metadata": {
  "kernelspec": {
   "display_name": "Python 3",
   "language": "python",
   "name": "python3"
  },
  "language_info": {
   "codemirror_mode": {
    "name": "ipython",
    "version": 3
   },
   "file_extension": ".py",
   "mimetype": "text/x-python",
   "name": "python",
   "nbconvert_exporter": "python",
   "pygments_lexer": "ipython3",
   "version": "3.12.3"
  }
 },
 "nbformat": 4,
 "nbformat_minor": 2
}
