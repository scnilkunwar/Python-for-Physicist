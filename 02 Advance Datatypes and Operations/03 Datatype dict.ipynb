{
 "cells": [
  {
   "cell_type": "markdown",
   "metadata": {},
   "source": [
    "<div align=\"center\">\n",
    "  <h1> Python for Physicist - Dictionary</h1>\n",
    "</div>\n",
    "\n",
    "![Python for Physicist](../images/Banner.png)\n",
    "\n",
    "## Introduction to Python Dictionaries\n",
    "A dictionary in Python is an unordered, mutable collection of items. It stores data in key-value pairs, where each key is unique and is used to access the corresponding value.\n",
    "\n",
    "### Syntax:\n",
    "```python\n",
    "my_dict = {\n",
    "    \"key1\": \"value1\",\n",
    "    \"key2\": \"value2\",\n",
    "    \"key3\": \"value3\"\n",
    "}\n",
    "```\n",
    "**Keys**: Must be immutable (strings, numbers, or tuples) and unique.\n",
    "\n",
    "**Values**: Can be of any data type and do not need to be unique."
   ]
  },
  {
   "cell_type": "code",
   "execution_count": 11,
   "metadata": {},
   "outputs": [
    {
     "name": "stdout",
     "output_type": "stream",
     "text": [
      "{'name': 'Alice', 'age': 25, 'city': 'New York'}\n"
     ]
    }
   ],
   "source": [
    "#Creating a Dictionary\n",
    "# Empty dictionary\n",
    "empty_dict = {}\n",
    "\n",
    "# Dictionary with data\n",
    "person = {\n",
    "    \"name\": \"Alice\",\n",
    "    \"age\": 25,\n",
    "    \"city\": \"New York\"\n",
    "}\n",
    "print(person)"
   ]
  },
  {
   "cell_type": "markdown",
   "metadata": {},
   "source": [
    "### Dictionary Comprehension\n",
    "Dictionary comprehension allows you to create dictionaries in a concise way, similar to list comprehension."
   ]
  },
  {
   "cell_type": "code",
   "execution_count": 15,
   "metadata": {},
   "outputs": [
    {
     "data": {
      "text/plain": [
       "{1: 1, 2: 4, 3: 9, 4: 16, 5: 25}"
      ]
     },
     "execution_count": 15,
     "metadata": {},
     "output_type": "execute_result"
    }
   ],
   "source": [
    "squares = {x: x**2 for x in range(1, 6)}\n",
    "squares"
   ]
  },
  {
   "cell_type": "markdown",
   "metadata": {},
   "source": [
    "### Accessing Elements\n",
    "You can access dictionary elements using keys."
   ]
  },
  {
   "cell_type": "code",
   "execution_count": 12,
   "metadata": {},
   "outputs": [
    {
     "name": "stdout",
     "output_type": "stream",
     "text": [
      "Alice\n",
      "25\n",
      "None\n"
     ]
    }
   ],
   "source": [
    "# Using key to access value\n",
    "name = person[\"name\"]\n",
    "print(name)\n",
    "\n",
    "# Using get() method (returns None if the key is not found)\n",
    "age = person.get(\"age\")\n",
    "print(age)\n",
    "non_existent = person.get(\"address\")\n",
    "print(non_existent)"
   ]
  },
  {
   "cell_type": "markdown",
   "metadata": {},
   "source": [
    "### Adding/Updating Elements\n",
    "You can add new key-value pairs or update existing ones."
   ]
  },
  {
   "cell_type": "code",
   "execution_count": 13,
   "metadata": {},
   "outputs": [
    {
     "name": "stdout",
     "output_type": "stream",
     "text": [
      "{'name': 'Alice', 'age': 25, 'city': 'New York', 'email': 'alice@example.com'}\n",
      "{'name': 'Alice', 'age': 26, 'city': 'New York', 'email': 'alice@example.com'}\n"
     ]
    }
   ],
   "source": [
    "# Add a new key-value pair\n",
    "person[\"email\"] = \"alice@example.com\"\n",
    "print(person)\n",
    "\n",
    "# Update an existing value\n",
    "person[\"age\"] = 26\n",
    "print(person)"
   ]
  },
  {
   "cell_type": "markdown",
   "metadata": {},
   "source": [
    "### Removing Elements\n",
    "You can remove elements using the following methods:\n",
    "\n",
    "- `pop()`: Removes the key and returns its value.\n",
    "- `popitem()`: Removes and returns the last key-value pair.\n",
    "- `del()`: Removes a key-value pair by key.\n",
    "- `clear()`: Removes all items from the dictionary."
   ]
  },
  {
   "cell_type": "code",
   "execution_count": 14,
   "metadata": {},
   "outputs": [
    {
     "name": "stdout",
     "output_type": "stream",
     "text": [
      "{'name': 'Alice', 'city': 'New York', 'email': 'alice@example.com'}\n",
      "{'name': 'Alice', 'city': 'New York'}\n",
      "{'name': 'Alice'}\n"
     ]
    }
   ],
   "source": [
    "# Remove using pop()\n",
    "removed_age = person.pop(\"age\")\n",
    "print(person)\n",
    "\n",
    "# Remove the last item using popitem()\n",
    "last_item = person.popitem()  # Output: ('email', 'alice@example.com')\n",
    "print(person)\n",
    "\n",
    "# Remove using del\n",
    "del(person[\"city\"])\n",
    "print(person)\n",
    "\n",
    "# Clear the entire dictionary\n",
    "# person.clear()  # Dictionary is now empty\n",
    "# print(person)"
   ]
  },
  {
   "cell_type": "markdown",
   "metadata": {},
   "source": [
    "### Dictionary Methods and Functions\n",
    "| **Method/Function**      |**Description**                                                          |\n",
    "|--------------------------|--------------------------------------------------------------------------|\n",
    "| `clear()`                | Removes all items from the dictionary.                                   |\n",
    "| `copy()`                 | Returns a shallow copy of the dictionary.                                |\n",
    "| `fromkeys(seq, v)`       | Creates a new dictionary with keys from `seq` and values set to `v`.      |\n",
    "| `get(key, default)`      | Returns the value for `key`, or `default` if `key` is not found.          |\n",
    "| `items()`                | Returns a view object of key-value pairs.                                |\n",
    "| `keys()`                 | Returns a view object of the dictionary's keys.                          |\n",
    "| `pop(key, default)`      | Removes and returns the value for `key`, or `default` if not found.       |\n",
    "| `popitem()`              | Removes and returns the last key-value pair.                             |\n",
    "| `setdefault(key, default)` | Returns the value of `key` if it exists; if not, inserts `key` with `default`. |\n",
    "| `update([other])`        | Updates the dictionary with key-value pairs from `other`.                |\n",
    "| `values()`               | Returns a view object of the dictionary's values.                        |"
   ]
  },
  {
   "cell_type": "code",
   "execution_count": null,
   "metadata": {},
   "outputs": [],
   "source": [
    "# Example of Common Methods:\n",
    "\n",
    "my_dict = {\"name\": \"Alice\", \"age\": 25, \"city\": \"New York\"}\n",
    "\n",
    "# Using copy()\n",
    "dict_copy = my_dict.copy()\n",
    "\n",
    "# Using fromkeys()\n",
    "new_dict = dict.fromkeys([\"a\", \"b\", \"c\"], 0)\n",
    "\n",
    "# Using items()\n",
    "for key, value in my_dict.items():\n",
    "    print(key, value)\n",
    "\n",
    "# Using keys()\n",
    "print(my_dict.keys())  # Output: dict_keys(['name', 'age', 'city'])\n",
    "\n",
    "# Using values()\n",
    "print(my_dict.values())  # Output: dict_values(['Alice', 25, 'New York'])\n",
    "\n",
    "# Using update()\n",
    "my_dict.update({\"age\": 26, \"email\": \"alice@example.com\"})"
   ]
  }
 ],
 "metadata": {
  "kernelspec": {
   "display_name": "Python 3",
   "language": "python",
   "name": "python3"
  },
  "language_info": {
   "codemirror_mode": {
    "name": "ipython",
    "version": 3
   },
   "file_extension": ".py",
   "mimetype": "text/x-python",
   "name": "python",
   "nbconvert_exporter": "python",
   "pygments_lexer": "ipython3",
   "version": "3.12.3"
  }
 },
 "nbformat": 4,
 "nbformat_minor": 2
}
