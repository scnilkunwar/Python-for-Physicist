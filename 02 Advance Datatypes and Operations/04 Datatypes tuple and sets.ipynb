{
 "cells": [
  {
   "cell_type": "markdown",
   "metadata": {},
   "source": [
    "<div align=\"center\">\n",
    "  <h1> Python for Physicist - Tuples and Sets</h1>\n",
    "</div>\n",
    "\n",
    "![Python for Physicist](../images/Banner.png)\n",
    "\n",
    "## Python Tuples\n",
    "### Introduction:\n",
    "\n",
    "Tuples are immutable sequences in Python, meaning once a tuple is created, its elements cannot be modified.\n",
    "They are similar to lists but are written with parentheses `()` instead of square brackets `[]`.\n",
    "\n",
    "#### Creation:"
   ]
  },
  {
   "cell_type": "code",
   "execution_count": 1,
   "metadata": {},
   "outputs": [],
   "source": [
    "# Empty tuple\n",
    "empty_tuple = ()\n",
    "\n",
    "# Tuple with elements\n",
    "tuple1 = (1, 2, 3)\n",
    "\n",
    "# Tuple without parentheses (optional if comma-separated values)\n",
    "tuple2 = 4, 5, 6\n",
    "\n",
    "# Single element tuple (comma is necessary)\n",
    "single_element_tuple = (7,)\n",
    "\n",
    "# Mixed data types\n",
    "mixed_tuple = (1, \"hello\", True)"
   ]
  },
  {
   "cell_type": "markdown",
   "metadata": {},
   "source": [
    "### Methods:\n",
    "\n",
    "Since tuples are immutable, they have limited methods:\n",
    "- `count(x)` - Returns the number of times x appears in the tuple.\n",
    "- `index(x)` - Returns the index of the first occurrence of x in the tuple."
   ]
  },
  {
   "cell_type": "code",
   "execution_count": 6,
   "metadata": {},
   "outputs": [
    {
     "name": "stdout",
     "output_type": "stream",
     "text": [
      "2\n",
      "2\n"
     ]
    }
   ],
   "source": [
    "my_tuple = (1, 2, 3, 2)\n",
    "\n",
    "# Count occurrences of 2\n",
    "print(my_tuple.count(2))  # Output: 2\n",
    "\n",
    "# Find index of first occurrence of 3\n",
    "print(my_tuple.index(3))  # Output: 2"
   ]
  },
  {
   "cell_type": "markdown",
   "metadata": {},
   "source": [
    "#### Accessing elements:\n",
    "\n",
    "You can access elements using indexing and slicing:"
   ]
  },
  {
   "cell_type": "code",
   "execution_count": 7,
   "metadata": {},
   "outputs": [
    {
     "name": "stdout",
     "output_type": "stream",
     "text": [
      "10\n",
      "(20, 30)\n"
     ]
    }
   ],
   "source": [
    "my_tuple = (10, 20, 30, 40)\n",
    "\n",
    "# Accessing elements\n",
    "print(my_tuple[0])   # Output: 10\n",
    "\n",
    "# Slicing\n",
    "print(my_tuple[1:3])  # Output: (20, 30)"
   ]
  },
  {
   "cell_type": "markdown",
   "metadata": {},
   "source": [
    "## Python Sets\n",
    "### Introduction:\n",
    "\n",
    "Sets are unordered collections of unique elements in Python. They are mutable but do not allow duplicate values.\n",
    "Sets are written with curly braces `{}`.\n",
    "### Creation:"
   ]
  },
  {
   "cell_type": "code",
   "execution_count": 4,
   "metadata": {},
   "outputs": [],
   "source": [
    "# Empty set (must use set(), {} creates an empty dictionary)\n",
    "empty_set = set()\n",
    "\n",
    "# Set with elements\n",
    "my_set = {1, 2, 3, 4}\n",
    "\n",
    "# Set from a list or tuple\n",
    "set_from_list = set([1, 2, 3, 4])"
   ]
  },
  {
   "cell_type": "markdown",
   "metadata": {},
   "source": [
    "### Methods:\n",
    "\n",
    "- `add(x)` - Adds an element x to the set.\n",
    "- `remove(x)` - Removes the element x from the set; raises an error if x is not found.\n",
    "- `discard(x)` - Removes the element x from the set if it exists (no error if it doesn't).\n",
    "- `pop()` - Removes and returns an arbitrary element from the set.\n",
    "- `clear()` - Removes all elements from the set.\n",
    "- `union(other_set)` - Returns a new set with elements from the set and other_set.\n",
    "- `intersection(other_set)` - Returns a set with elements common to the set and other_set.\n",
    "- `difference(other_set)` - Returns a set with elements in the set but not in other_set.\n",
    "- `issubset(other_set)` - Checks if the set is a subset of other_set."
   ]
  },
  {
   "cell_type": "code",
   "execution_count": 5,
   "metadata": {},
   "outputs": [
    {
     "name": "stdout",
     "output_type": "stream",
     "text": [
      "{1, 2, 3, 4, 5}\n",
      "{3}\n",
      "{1, 2}\n"
     ]
    }
   ],
   "source": [
    "my_set = {1, 2, 3}\n",
    "\n",
    "# Add element\n",
    "my_set.add(4)  # my_set is now {1, 2, 3, 4}\n",
    "\n",
    "# Remove element\n",
    "my_set.remove(2)  # my_set is now {1, 3, 4}\n",
    "\n",
    "# Union of two sets\n",
    "set1 = {1, 2, 3}\n",
    "set2 = {3, 4, 5}\n",
    "print(set1.union(set2))  # Output: {1, 2, 3, 4, 5}\n",
    "\n",
    "# Intersection of two sets\n",
    "print(set1.intersection(set2))  # Output: {3}\n",
    "\n",
    "# Difference of two sets\n",
    "print(set1.difference(set2))  # Output: {1, 2}"
   ]
  }
 ],
 "metadata": {
  "kernelspec": {
   "display_name": "Python 3",
   "language": "python",
   "name": "python3"
  },
  "language_info": {
   "codemirror_mode": {
    "name": "ipython",
    "version": 3
   },
   "file_extension": ".py",
   "mimetype": "text/x-python",
   "name": "python",
   "nbconvert_exporter": "python",
   "pygments_lexer": "ipython3",
   "version": "3.12.3"
  }
 },
 "nbformat": 4,
 "nbformat_minor": 2
}
