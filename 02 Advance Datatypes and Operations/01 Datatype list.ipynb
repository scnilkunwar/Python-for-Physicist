{
 "cells": [
  {
   "cell_type": "markdown",
   "metadata": {},
   "source": [
    "<div align=\"center\">\n",
    "  <h1> Python for Physicist - List</h1>\n",
    "</div>\n",
    "\n",
    "![Python for Physicist](../images/Banner.png)\n",
    "\n",
    "## List\n",
    "A list in Python is a mutable, ordered collection of items. Lists can hold a mix of data types, including integers, floats, strings, and even other lists.\n",
    "\n",
    "### Creating List\n",
    "You can create a list using square brackets `[]` or the `list()` constructor or by list comprehensions."
   ]
  },
  {
   "cell_type": "code",
   "execution_count": 2,
   "metadata": {},
   "outputs": [
    {
     "name": "stdout",
     "output_type": "stream",
     "text": [
      "[1, 2, 3, 'apple', 4.5]\n",
      "[1, 2, 3, 'banana']\n",
      "[0, 1, 4, 9, 16, 25, 36, 49, 64, 81]\n"
     ]
    }
   ],
   "source": [
    "# Using square brackets\n",
    "my_list = [1, 2, 3, 'apple', 4.5]\n",
    "print(my_list)\n",
    "\n",
    "# Using list() constructor\n",
    "my_list2 = list((1, 2, 3, 'banana'))\n",
    "print(my_list2)\n",
    "\n",
    "#Using list comprehension\n",
    "squares = [x**2 for x in range(10)]\n",
    "print(squares)"
   ]
  },
  {
   "cell_type": "markdown",
   "metadata": {},
   "source": [
    "### Accessing Elements\n",
    "You can access elements using their index (starting from 0).\n",
    "![Python for Physicist](../images/list_index.png)\n",
    "![Python for Physicist](../images/list_negative_indexing.png)\n",
    "```python\n",
    "list_name[index] #index start from 0 and negative index is from last\n",
    "```\n",
    "### Slicing\n",
    "You can retrieve a subset of the list using slicing.\n",
    "```python\n",
    "list_name[start:end:step] #all are integers\n"
   ]
  },
  {
   "cell_type": "code",
   "execution_count": 2,
   "metadata": {},
   "outputs": [
    {
     "name": "stdout",
     "output_type": "stream",
     "text": [
      "1\n",
      "6\n",
      "[2, 3, 4]\n",
      "[6, 5, 4, 3, 2, 1]\n"
     ]
    }
   ],
   "source": [
    "my_list = [1, 2, 3, 4, 5, 6]\n",
    "\n",
    "first_item = my_list[0]\n",
    "print(first_item)\n",
    "\n",
    "last_item = my_list[-1]\n",
    "print(last_item)\n",
    "\n",
    "sub_list = my_list[1:4]\n",
    "print(sub_list)\n",
    "rev_list = my_list[::-1]\n",
    "print(rev_list)"
   ]
  },
  {
   "cell_type": "markdown",
   "metadata": {},
   "source": [
    "### Mutable"
   ]
  },
  {
   "cell_type": "code",
   "execution_count": 6,
   "metadata": {},
   "outputs": [
    {
     "name": "stdout",
     "output_type": "stream",
     "text": [
      "[1, 2, 1, 4, 5, 6]\n"
     ]
    },
    {
     "data": {
      "text/plain": [
       "[1, 2, 6, 4, 5, 6]"
      ]
     },
     "execution_count": 6,
     "metadata": {},
     "output_type": "execute_result"
    }
   ],
   "source": [
    "print(my_list)\n",
    "my_list[2] = 6\n",
    "my_list"
   ]
  },
  {
   "cell_type": "markdown",
   "metadata": {},
   "source": [
    "# Python List Methods and Functions\n",
    "\n",
    "## List Methods\n",
    "\n",
    "### Modification Methods\n",
    "- **`append(x)`**: Adds an item `x` to the end of the list."
   ]
  },
  {
   "cell_type": "code",
   "execution_count": 8,
   "metadata": {},
   "outputs": [
    {
     "data": {
      "text/plain": [
       "[1, 2, 3, 4]"
      ]
     },
     "execution_count": 8,
     "metadata": {},
     "output_type": "execute_result"
    }
   ],
   "source": [
    "my_list = [1, 2, 3]\n",
    "my_list.append(4)\n",
    "my_list"
   ]
  },
  {
   "cell_type": "markdown",
   "metadata": {},
   "source": [
    "- **`extend(iterable)`**: Extends the list by appending elements from an iterable."
   ]
  },
  {
   "cell_type": "code",
   "execution_count": 9,
   "metadata": {},
   "outputs": [
    {
     "name": "stdout",
     "output_type": "stream",
     "text": [
      "[1, 2, 3, 4]\n"
     ]
    },
    {
     "data": {
      "text/plain": [
       "[1, 2, 3, 4, 5, 6]"
      ]
     },
     "execution_count": 9,
     "metadata": {},
     "output_type": "execute_result"
    }
   ],
   "source": [
    "print(my_list)\n",
    "my_list.extend([5, 6])\n",
    "my_list"
   ]
  },
  {
   "cell_type": "markdown",
   "metadata": {},
   "source": [
    "- **`insert(i, x)`**: Inserts an item `x` at a specified position `i`."
   ]
  },
  {
   "cell_type": "code",
   "execution_count": 10,
   "metadata": {},
   "outputs": [
    {
     "name": "stdout",
     "output_type": "stream",
     "text": [
      "[1, 2, 3, 4, 5, 6]\n"
     ]
    },
    {
     "data": {
      "text/plain": [
       "[0, 1, 2, 3, 4, 5, 6]"
      ]
     },
     "execution_count": 10,
     "metadata": {},
     "output_type": "execute_result"
    }
   ],
   "source": [
    "print(my_list)\n",
    "my_list.insert(0, 0)\n",
    "my_list"
   ]
  },
  {
   "cell_type": "markdown",
   "metadata": {},
   "source": [
    "- **`remove(x)`**: Removes the first occurrence of an item `x`. Raises `ValueError` if not found."
   ]
  },
  {
   "cell_type": "code",
   "execution_count": 11,
   "metadata": {},
   "outputs": [
    {
     "name": "stdout",
     "output_type": "stream",
     "text": [
      "[0, 1, 2, 3, 4, 5, 6]\n"
     ]
    },
    {
     "data": {
      "text/plain": [
       "[0, 1, 2, 4, 5, 6]"
      ]
     },
     "execution_count": 11,
     "metadata": {},
     "output_type": "execute_result"
    }
   ],
   "source": [
    "print(my_list)\n",
    "my_list.remove(3)\n",
    "my_list"
   ]
  },
  {
   "cell_type": "markdown",
   "metadata": {},
   "source": [
    "- **`pop([i])`**: Removes and returns the item at index `i`. If no index is specified, removes and returns the last item."
   ]
  },
  {
   "cell_type": "code",
   "execution_count": 13,
   "metadata": {},
   "outputs": [
    {
     "name": "stdout",
     "output_type": "stream",
     "text": [
      "[0, 1, 2, 4, 5]\n",
      "[0, 1, 2, 4]\n",
      "5\n",
      "[0, 2, 4]\n"
     ]
    }
   ],
   "source": [
    "print(my_list)\n",
    "last_item = my_list.pop()\n",
    "print(my_list)\n",
    "print(last_item)\n",
    "my_list.pop(1)\n",
    "print(my_list)\n"
   ]
  },
  {
   "cell_type": "markdown",
   "metadata": {},
   "source": [
    "- **`clear()`**: Removes all items from the list."
   ]
  },
  {
   "cell_type": "code",
   "execution_count": 14,
   "metadata": {},
   "outputs": [
    {
     "name": "stdout",
     "output_type": "stream",
     "text": [
      "[0, 2, 4]\n"
     ]
    },
    {
     "data": {
      "text/plain": [
       "[]"
      ]
     },
     "execution_count": 14,
     "metadata": {},
     "output_type": "execute_result"
    }
   ],
   "source": [
    "print(my_list)\n",
    "my_list.clear()\n",
    "my_list"
   ]
  },
  {
   "cell_type": "markdown",
   "metadata": {},
   "source": [
    "### Searching Methods\n",
    "- **`index(x, start, end)`**: Returns the index of the first occurrence of `x`. Raises `ValueError` if not found."
   ]
  },
  {
   "cell_type": "code",
   "execution_count": 24,
   "metadata": {},
   "outputs": [
    {
     "name": "stdout",
     "output_type": "stream",
     "text": [
      "[1, 2, 4, 7, 2, 3, 2]\n"
     ]
    },
    {
     "data": {
      "text/plain": [
       "4"
      ]
     },
     "execution_count": 24,
     "metadata": {},
     "output_type": "execute_result"
    }
   ],
   "source": [
    "my_list = [1, 2, 4, 7, 2, 3, 2]\n",
    "print(my_list)\n",
    "index_of_two = my_list.index(2, 2)\n",
    "index_of_two"
   ]
  },
  {
   "cell_type": "markdown",
   "metadata": {},
   "source": [
    "- **`count(x)`**: Returns the number of occurrences of `x` in the list."
   ]
  },
  {
   "cell_type": "code",
   "execution_count": 26,
   "metadata": {},
   "outputs": [
    {
     "data": {
      "text/plain": [
       "3"
      ]
     },
     "execution_count": 26,
     "metadata": {},
     "output_type": "execute_result"
    }
   ],
   "source": [
    "count_of_two = my_list.count(2)\n",
    "count_of_two"
   ]
  },
  {
   "cell_type": "markdown",
   "metadata": {},
   "source": [
    "### Sorting Methods\n",
    "- **`sort(key=None, reverse=False)`**: Sorts the items of the list in place.\n",
    "- **`reverse()`**: Reverses the elements of the list in place."
   ]
  },
  {
   "cell_type": "code",
   "execution_count": 27,
   "metadata": {},
   "outputs": [
    {
     "name": "stdout",
     "output_type": "stream",
     "text": [
      "[1, 2, 4, 7, 2, 3, 2]\n",
      "[1, 2, 2, 2, 3, 4, 7]\n"
     ]
    },
    {
     "data": {
      "text/plain": [
       "[7, 4, 3, 2, 2, 2, 1]"
      ]
     },
     "execution_count": 27,
     "metadata": {},
     "output_type": "execute_result"
    }
   ],
   "source": [
    "print(my_list)\n",
    "my_list.sort()\n",
    "print(my_list)\n",
    "my_list.reverse()\n",
    "my_list"
   ]
  },
  {
   "cell_type": "markdown",
   "metadata": {},
   "source": [
    "### Copying Method\n",
    "- **`copy()`**: Returns a shallow copy of the list."
   ]
  },
  {
   "cell_type": "code",
   "execution_count": 31,
   "metadata": {},
   "outputs": [
    {
     "name": "stdout",
     "output_type": "stream",
     "text": [
      "[7, 4, 3, 2, 2, 2, 1]\n"
     ]
    },
    {
     "data": {
      "text/plain": [
       "[7, 4, 3, 2, 2, 2, 1]"
      ]
     },
     "execution_count": 31,
     "metadata": {},
     "output_type": "execute_result"
    }
   ],
   "source": [
    "my_list_copy = my_list.copy()\n",
    "print(my_list_copy)\n",
    "list2 = my_list\n",
    "list2"
   ]
  },
  {
   "cell_type": "markdown",
   "metadata": {},
   "source": [
    "\n",
    "## Additional Functions\n",
    "\n",
    "- **`len(list)`**: Returns the number of elements in the list.\n",
    "- **`max(list)`**: Returns the largest item in the list.\n",
    "- **`min(list)`**: Returns the smallest item in the list.\n",
    "- **`sum(list)`**: Returns the sum of all elements in the list (only for numeric lists).\n",
    "- **`sorted(iterable, key=None, reverse=False)`**: Returns a new sorted list from the elements of any iterable."
   ]
  },
  {
   "cell_type": "code",
   "execution_count": 32,
   "metadata": {},
   "outputs": [
    {
     "name": "stdout",
     "output_type": "stream",
     "text": [
      "7\n",
      "7\n",
      "1\n",
      "21\n",
      "[1, 2, 2, 2, 3, 4, 7]\n"
     ]
    }
   ],
   "source": [
    "length = len(my_list)\n",
    "print(length)\n",
    "\n",
    "largest = max(my_list)  \n",
    "print(largest)\n",
    "\n",
    "smallest = min(my_list)  \n",
    "print(smallest)\n",
    "\n",
    "total = sum(my_list)  \n",
    "print(total)\n",
    "\n",
    "sorted_list = sorted(my_list)  \n",
    "print(sorted_list)"
   ]
  },
  {
   "cell_type": "markdown",
   "metadata": {},
   "source": [
    "## Common Patterns and Techniques\n",
    "\n",
    "- **Finding Unique Elements**: `unique_elements = list(set(my_list))`\n",
    "- **Filtering Elements**: `even_numbers = [x for x in my_list if x % 2 == 0]`\n",
    "- **Mapping Values**: `doubled = [x * 2 for x in my_list]`\n",
    "- **Joining Lists**: `combined = my_list + another_list`"
   ]
  },
  {
   "cell_type": "code",
   "execution_count": 33,
   "metadata": {},
   "outputs": [],
   "source": [
    "unique_elements = list(set(my_list))  # Removes duplicates\n",
    "\n",
    "# Filtering Elements\n",
    "\n",
    "even_numbers = [x for x in my_list if x % 2 == 0]  # Filters even numbers\n",
    "\n",
    "# Mapping Values\n",
    "\n",
    "doubled = [x * 2 for x in my_list]  # Doubles each value\n",
    "\n",
    "# Joining Lists\n",
    "\n",
    "another_list = [7, 8]\n",
    "combined = my_list + another_list  # combined becomes [3, 2, 2, 1, 7, 8]"
   ]
  },
  {
   "cell_type": "markdown",
   "metadata": {},
   "source": [
    "## Multidimensional List\n",
    "A multidimensional list in Python is essentially a list of lists, allowing you to create structures like matrices or grids. Here's a breakdown:\n",
    "\n",
    "### Creating a Multidimensional List\n",
    "You can create a 2D list (matrix) as follows:"
   ]
  },
  {
   "cell_type": "code",
   "execution_count": 1,
   "metadata": {},
   "outputs": [
    {
     "name": "stdout",
     "output_type": "stream",
     "text": [
      "[[1, 2, 3], [4, 5, 6], [7, 8, 9]]\n"
     ]
    }
   ],
   "source": [
    "# 2D list (3x3 matrix)\n",
    "matrix = [\n",
    "    [1, 2, 3],\n",
    "    [4, 5, 6],\n",
    "    [7, 8, 9]\n",
    "]\n",
    "print(matrix)"
   ]
  },
  {
   "cell_type": "markdown",
   "metadata": {},
   "source": [
    "### Accessing Elements\n",
    "You can access elements using multiple indices:"
   ]
  },
  {
   "cell_type": "code",
   "execution_count": 3,
   "metadata": {},
   "outputs": [
    {
     "data": {
      "text/plain": [
       "6"
      ]
     },
     "execution_count": 3,
     "metadata": {},
     "output_type": "execute_result"
    }
   ],
   "source": [
    "# Accessing the element at row 1, column 2 (0-indexed)\n",
    "element = matrix[1][2]\n",
    "element"
   ]
  },
  {
   "cell_type": "markdown",
   "metadata": {},
   "source": [
    "### Modifying Elements\n",
    "You can modify elements in a multidimensional list:"
   ]
  },
  {
   "cell_type": "code",
   "execution_count": 4,
   "metadata": {},
   "outputs": [
    {
     "data": {
      "text/plain": [
       "[[1, 10, 3], [4, 5, 6], [7, 8, 9]]"
      ]
     },
     "execution_count": 4,
     "metadata": {},
     "output_type": "execute_result"
    }
   ],
   "source": [
    "# Changing the element at row 0, column 1 to 10\n",
    "matrix[0][1] = 10\n",
    "matrix"
   ]
  },
  {
   "cell_type": "markdown",
   "metadata": {},
   "source": [
    "### Iterating Over Multidimensional Lists\n",
    "You can use nested loops to iterate through each element:"
   ]
  },
  {
   "cell_type": "code",
   "execution_count": 5,
   "metadata": {},
   "outputs": [
    {
     "name": "stdout",
     "output_type": "stream",
     "text": [
      "1 10 3 \n",
      "4 5 6 \n",
      "7 8 9 \n"
     ]
    }
   ],
   "source": [
    "for row in matrix:\n",
    "    for item in row:\n",
    "        print(item, end=' ')\n",
    "    print()"
   ]
  },
  {
   "cell_type": "markdown",
   "metadata": {},
   "source": [
    "### A 3D list can be created similarly:"
   ]
  },
  {
   "cell_type": "code",
   "execution_count": 6,
   "metadata": {},
   "outputs": [
    {
     "data": {
      "text/plain": [
       "[[[1, 2], [3, 4]], [[5, 6], [7, 8]]]"
      ]
     },
     "execution_count": 6,
     "metadata": {},
     "output_type": "execute_result"
    }
   ],
   "source": [
    "# 3D list (2x2x2)\n",
    "three_d = [\n",
    "    [\n",
    "        [1, 2],\n",
    "        [3, 4]\n",
    "    ],\n",
    "    [\n",
    "        [5, 6],\n",
    "        [7, 8]\n",
    "    ]\n",
    "]\n",
    "three_d"
   ]
  },
  {
   "cell_type": "markdown",
   "metadata": {},
   "source": [
    "### Useful Functions\n",
    "Length: You can find the number of rows and columns using len()."
   ]
  },
  {
   "cell_type": "code",
   "execution_count": 7,
   "metadata": {},
   "outputs": [],
   "source": [
    "num_rows = len(matrix)           # Number of rows\n",
    "num_cols = len(matrix[0])       # Number of columns"
   ]
  },
  {
   "cell_type": "markdown",
   "metadata": {},
   "source": [
    "List Comprehensions: You can create multidimensional lists using list comprehensions."
   ]
  },
  {
   "cell_type": "code",
   "execution_count": 10,
   "metadata": {},
   "outputs": [
    {
     "data": {
      "text/plain": [
       "[[0, 0, 0], [0, 0, 0], [0, 0, 0]]"
      ]
     },
     "execution_count": 10,
     "metadata": {},
     "output_type": "execute_result"
    }
   ],
   "source": [
    "# Create a 3x3 matrix filled with zeros\n",
    "zero_matrix = [[0 for _ in range(3)] for _ in range(3)]\n",
    "zero_matrix"
   ]
  }
 ],
 "metadata": {
  "kernelspec": {
   "display_name": "Python 3",
   "language": "python",
   "name": "python3"
  },
  "language_info": {
   "codemirror_mode": {
    "name": "ipython",
    "version": 3
   },
   "file_extension": ".py",
   "mimetype": "text/x-python",
   "name": "python",
   "nbconvert_exporter": "python",
   "pygments_lexer": "ipython3",
   "version": "3.12.3"
  }
 },
 "nbformat": 4,
 "nbformat_minor": 2
}
